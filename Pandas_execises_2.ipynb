{
 "cells": [
  {
   "cell_type": "markdown",
   "metadata": {},
   "source": [
    "Pandas exercises from https://www.machinelearningplus.com/python/101-pandas-exercises-python/.\n",
    "\n",
    "## Exercise 34\n",
    "\n",
    "How to change column values when importing csv to a dataframe.\n",
    "Using th Boston housing dataset and changing the value of medv(medium houses value) to 'low' for values smaller 25 and 'hihg' for values > 25."
   ]
  },
  {
   "cell_type": "code",
   "execution_count": 1,
   "metadata": {},
   "outputs": [
    {
     "name": "stdout",
     "output_type": "stream",
     "text": [
      "         crim    zn  indus  chas    nox     rm    age     dis  rad  tax  \\\n",
      "0     0.00632  18.0   2.31     0  0.538  6.575   65.2  4.0900    1  296   \n",
      "1     0.02731   0.0   7.07     0  0.469  6.421   78.9  4.9671    2  242   \n",
      "2     0.02729   0.0   7.07     0  0.469  7.185   61.1  4.9671    2  242   \n",
      "3     0.03237   0.0   2.18     0  0.458  6.998   45.8  6.0622    3  222   \n",
      "4     0.06905   0.0   2.18     0  0.458  7.147   54.2  6.0622    3  222   \n",
      "5     0.02985   0.0   2.18     0  0.458  6.430   58.7  6.0622    3  222   \n",
      "6     0.08829  12.5   7.87     0  0.524  6.012   66.6  5.5605    5  311   \n",
      "7     0.14455  12.5   7.87     0  0.524  6.172   96.1  5.9505    5  311   \n",
      "8     0.21124  12.5   7.87     0  0.524  5.631  100.0  6.0821    5  311   \n",
      "9     0.17004  12.5   7.87     0  0.524  6.004   85.9  6.5921    5  311   \n",
      "10    0.22489  12.5   7.87     0  0.524  6.377   94.3  6.3467    5  311   \n",
      "11    0.11747  12.5   7.87     0  0.524  6.009   82.9  6.2267    5  311   \n",
      "12    0.09378  12.5   7.87     0  0.524  5.889   39.0  5.4509    5  311   \n",
      "13    0.62976   0.0   8.14     0  0.538  5.949   61.8  4.7075    4  307   \n",
      "14    0.63796   0.0   8.14     0  0.538  6.096   84.5  4.4619    4  307   \n",
      "15    0.62739   0.0   8.14     0  0.538  5.834   56.5  4.4986    4  307   \n",
      "16    1.05393   0.0   8.14     0  0.538  5.935   29.3  4.4986    4  307   \n",
      "17    0.78420   0.0   8.14     0  0.538  5.990   81.7  4.2579    4  307   \n",
      "18    0.80271   0.0   8.14     0  0.538  5.456   36.6  3.7965    4  307   \n",
      "19    0.72580   0.0   8.14     0  0.538  5.727   69.5  3.7965    4  307   \n",
      "20    1.25179   0.0   8.14     0  0.538  5.570   98.1  3.7979    4  307   \n",
      "21    0.85204   0.0   8.14     0  0.538  5.965   89.2  4.0123    4  307   \n",
      "22    1.23247   0.0   8.14     0  0.538  6.142   91.7  3.9769    4  307   \n",
      "23    0.98843   0.0   8.14     0  0.538  5.813  100.0  4.0952    4  307   \n",
      "24    0.75026   0.0   8.14     0  0.538  5.924   94.1  4.3996    4  307   \n",
      "25    0.84054   0.0   8.14     0  0.538  5.599   85.7  4.4546    4  307   \n",
      "26    0.67191   0.0   8.14     0  0.538  5.813   90.3  4.6820    4  307   \n",
      "27    0.95577   0.0   8.14     0  0.538  6.047   88.8  4.4534    4  307   \n",
      "28    0.77299   0.0   8.14     0  0.538  6.495   94.4  4.4547    4  307   \n",
      "29    1.00245   0.0   8.14     0  0.538  6.674   87.3  4.2390    4  307   \n",
      "..        ...   ...    ...   ...    ...    ...    ...     ...  ...  ...   \n",
      "476   4.87141   0.0  18.10     0  0.614  6.484   93.6  2.3053   24  666   \n",
      "477  15.02340   0.0  18.10     0  0.614  5.304   97.3  2.1007   24  666   \n",
      "478  10.23300   0.0  18.10     0  0.614  6.185   96.7  2.1705   24  666   \n",
      "479  14.33370   0.0  18.10     0  0.614  6.229   88.0  1.9512   24  666   \n",
      "480   5.82401   0.0  18.10     0  0.532  6.242   64.7  3.4242   24  666   \n",
      "481   5.70818   0.0  18.10     0  0.532  6.750   74.9  3.3317   24  666   \n",
      "482   5.73116   0.0  18.10     0  0.532  7.061   77.0  3.4106   24  666   \n",
      "483   2.81838   0.0  18.10     0  0.532  5.762   40.3  4.0983   24  666   \n",
      "484   2.37857   0.0  18.10     0  0.583  5.871   41.9  3.7240   24  666   \n",
      "485   3.67367   0.0  18.10     0  0.583  6.312   51.9  3.9917   24  666   \n",
      "486   5.69175   0.0  18.10     0  0.583  6.114   79.8  3.5459   24  666   \n",
      "487   4.83567   0.0  18.10     0  0.583  5.905   53.2  3.1523   24  666   \n",
      "488   0.15086   0.0  27.74     0  0.609  5.454   92.7  1.8209    4  711   \n",
      "489   0.18337   0.0  27.74     0  0.609  5.414   98.3  1.7554    4  711   \n",
      "490   0.20746   0.0  27.74     0  0.609  5.093   98.0  1.8226    4  711   \n",
      "491   0.10574   0.0  27.74     0  0.609  5.983   98.8  1.8681    4  711   \n",
      "492   0.11132   0.0  27.74     0  0.609  5.983   83.5  2.1099    4  711   \n",
      "493   0.17331   0.0   9.69     0  0.585  5.707   54.0  2.3817    6  391   \n",
      "494   0.27957   0.0   9.69     0  0.585  5.926   42.6  2.3817    6  391   \n",
      "495   0.17899   0.0   9.69     0  0.585  5.670   28.8  2.7986    6  391   \n",
      "496   0.28960   0.0   9.69     0  0.585  5.390   72.9  2.7986    6  391   \n",
      "497   0.26838   0.0   9.69     0  0.585  5.794   70.6  2.8927    6  391   \n",
      "498   0.23912   0.0   9.69     0  0.585  6.019   65.3  2.4091    6  391   \n",
      "499   0.17783   0.0   9.69     0  0.585  5.569   73.5  2.3999    6  391   \n",
      "500   0.22438   0.0   9.69     0  0.585  6.027   79.7  2.4982    6  391   \n",
      "501   0.06263   0.0  11.93     0  0.573  6.593   69.1  2.4786    1  273   \n",
      "502   0.04527   0.0  11.93     0  0.573  6.120   76.7  2.2875    1  273   \n",
      "503   0.06076   0.0  11.93     0  0.573  6.976   91.0  2.1675    1  273   \n",
      "504   0.10959   0.0  11.93     0  0.573  6.794   89.3  2.3889    1  273   \n",
      "505   0.04741   0.0  11.93     0  0.573  6.030   80.8  2.5050    1  273   \n",
      "\n",
      "     ptratio       b  lstat  medv  \n",
      "0       15.3  396.90   4.98   Low  \n",
      "1       17.8  396.90   9.14   Low  \n",
      "2       17.8  392.83   4.03  High  \n",
      "3       18.7  394.63   2.94  High  \n",
      "4       18.7  396.90   5.33  High  \n",
      "5       18.7  394.12   5.21  High  \n",
      "6       15.2  395.60  12.43   Low  \n",
      "7       15.2  396.90  19.15  High  \n",
      "8       15.2  386.63  29.93   Low  \n",
      "9       15.2  386.71  17.10   Low  \n",
      "10      15.2  392.52  20.45   Low  \n",
      "11      15.2  396.90  13.27   Low  \n",
      "12      15.2  390.50  15.71   Low  \n",
      "13      21.0  396.90   8.26   Low  \n",
      "14      21.0  380.02  10.26   Low  \n",
      "15      21.0  395.62   8.47   Low  \n",
      "16      21.0  386.85   6.58   Low  \n",
      "17      21.0  386.75  14.67   Low  \n",
      "18      21.0  288.99  11.69   Low  \n",
      "19      21.0  390.95  11.28   Low  \n",
      "20      21.0  376.57  21.02   Low  \n",
      "21      21.0  392.53  13.83   Low  \n",
      "22      21.0  396.90  18.72   Low  \n",
      "23      21.0  394.54  19.88   Low  \n",
      "24      21.0  394.33  16.30   Low  \n",
      "25      21.0  303.42  16.51   Low  \n",
      "26      21.0  376.88  14.81   Low  \n",
      "27      21.0  306.38  17.28   Low  \n",
      "28      21.0  387.94  12.80   Low  \n",
      "29      21.0  380.23  11.98   Low  \n",
      "..       ...     ...    ...   ...  \n",
      "476     20.2  396.21  18.68   Low  \n",
      "477     20.2  349.48  24.91   Low  \n",
      "478     20.2  379.70  18.03   Low  \n",
      "479     20.2  383.32  13.11   Low  \n",
      "480     20.2  396.90  10.74   Low  \n",
      "481     20.2  393.07   7.74   Low  \n",
      "482     20.2  395.28   7.01   Low  \n",
      "483     20.2  392.92  10.42   Low  \n",
      "484     20.2  370.73  13.34   Low  \n",
      "485     20.2  388.62  10.58   Low  \n",
      "486     20.2  392.68  14.98   Low  \n",
      "487     20.2  388.22  11.45   Low  \n",
      "488     20.1  395.09  18.06   Low  \n",
      "489     20.1  344.05  23.97   Low  \n",
      "490     20.1  318.43  29.68   Low  \n",
      "491     20.1  390.11  18.07   Low  \n",
      "492     20.1  396.90  13.35   Low  \n",
      "493     19.2  396.90  12.01   Low  \n",
      "494     19.2  396.90  13.59   Low  \n",
      "495     19.2  393.29  17.60   Low  \n",
      "496     19.2  396.90  21.14   Low  \n",
      "497     19.2  396.90  14.10   Low  \n",
      "498     19.2  396.90  12.92   Low  \n",
      "499     19.2  395.77  15.10   Low  \n",
      "500     19.2  396.90  14.33   Low  \n",
      "501     21.0  391.99   9.67   Low  \n",
      "502     21.0  396.90   9.08   Low  \n",
      "503     21.0  396.90   5.64   Low  \n",
      "504     21.0  393.45   6.48   Low  \n",
      "505     21.0  396.90   7.88   Low  \n",
      "\n",
      "[506 rows x 14 columns]\n"
     ]
    }
   ],
   "source": [
    "import pandas as pd\n",
    "import numpy as np\n",
    "df = pd.read_csv('https://raw.githubusercontent.com/selva86/datasets/master/BostonHousing.csv', \n",
    "                converters={'medv': lambda x: 'High' if float(x) > 25 else 'Low'})\n",
    "\n",
    "print(df)"
   ]
  },
  {
   "cell_type": "markdown",
   "metadata": {},
   "source": [
    "## Exercise 35\n",
    "How to create a dataframe with rows as strides from a give series"
   ]
  },
  {
   "cell_type": "code",
   "execution_count": 2,
   "metadata": {},
   "outputs": [
    {
     "name": "stdout",
     "output_type": "stream",
     "text": [
      "0      0\n",
      "1      1\n",
      "2      2\n",
      "3      3\n",
      "4      4\n",
      "5      5\n",
      "6      6\n",
      "7      7\n",
      "8      8\n",
      "9      9\n",
      "10    10\n",
      "11    11\n",
      "12    12\n",
      "13    13\n",
      "14    14\n",
      "15    15\n",
      "dtype: int64\n"
     ]
    }
   ],
   "source": [
    "# Input\n",
    "ser_L = pd.Series(range(16))\n",
    "print(ser_L)"
   ]
  },
  {
   "cell_type": "code",
   "execution_count": 3,
   "metadata": {},
   "outputs": [
    {
     "name": "stdout",
     "output_type": "stream",
     "text": [
      "[[ 0  1  2  3]\n",
      " [ 2  3  4  5]\n",
      " [ 4  5  6  7]\n",
      " [ 6  7  8  9]\n",
      " [ 8  9 10 11]\n",
      " [10 11 12 13]\n",
      " [12 13 14 15]]\n"
     ]
    }
   ],
   "source": [
    "def gen_strides(a, stride_len=5, window_len=5):\n",
    "    n_strides = ((a.size-window_len)//stride_len) + 1\n",
    "    return np.array([a[s:(s+window_len)] for s in np.arange(0, a.size, stride_len)[:n_strides]])\n",
    "\n",
    "ser_reshape = gen_strides(ser_L, stride_len=2, window_len=4)\n",
    "print(ser_reshape)"
   ]
  },
  {
   "cell_type": "markdown",
   "metadata": {},
   "source": [
    "## Exercise 36\n",
    "How to import only specified columns from a csv file\n",
    "Import only crim and medv columns from the boston housing data set as a dataframe"
   ]
  },
  {
   "cell_type": "code",
   "execution_count": 4,
   "metadata": {},
   "outputs": [
    {
     "name": "stdout",
     "output_type": "stream",
     "text": [
      "         crim  medv\n",
      "0     0.00632  24.0\n",
      "1     0.02731  21.6\n",
      "2     0.02729  34.7\n",
      "3     0.03237  33.4\n",
      "4     0.06905  36.2\n",
      "5     0.02985  28.7\n",
      "6     0.08829  22.9\n",
      "7     0.14455  27.1\n",
      "8     0.21124  16.5\n",
      "9     0.17004  18.9\n",
      "10    0.22489  15.0\n",
      "11    0.11747  18.9\n",
      "12    0.09378  21.7\n",
      "13    0.62976  20.4\n",
      "14    0.63796  18.2\n",
      "15    0.62739  19.9\n",
      "16    1.05393  23.1\n",
      "17    0.78420  17.5\n",
      "18    0.80271  20.2\n",
      "19    0.72580  18.2\n",
      "20    1.25179  13.6\n",
      "21    0.85204  19.6\n",
      "22    1.23247  15.2\n",
      "23    0.98843  14.5\n",
      "24    0.75026  15.6\n",
      "25    0.84054  13.9\n",
      "26    0.67191  16.6\n",
      "27    0.95577  14.8\n",
      "28    0.77299  18.4\n",
      "29    1.00245  21.0\n",
      "..        ...   ...\n",
      "476   4.87141  16.7\n",
      "477  15.02340  12.0\n",
      "478  10.23300  14.6\n",
      "479  14.33370  21.4\n",
      "480   5.82401  23.0\n",
      "481   5.70818  23.7\n",
      "482   5.73116  25.0\n",
      "483   2.81838  21.8\n",
      "484   2.37857  20.6\n",
      "485   3.67367  21.2\n",
      "486   5.69175  19.1\n",
      "487   4.83567  20.6\n",
      "488   0.15086  15.2\n",
      "489   0.18337   7.0\n",
      "490   0.20746   8.1\n",
      "491   0.10574  13.6\n",
      "492   0.11132  20.1\n",
      "493   0.17331  21.8\n",
      "494   0.27957  24.5\n",
      "495   0.17899  23.1\n",
      "496   0.28960  19.7\n",
      "497   0.26838  18.3\n",
      "498   0.23912  21.2\n",
      "499   0.17783  17.5\n",
      "500   0.22438  16.8\n",
      "501   0.06263  22.4\n",
      "502   0.04527  20.6\n",
      "503   0.06076  23.9\n",
      "504   0.10959  22.0\n",
      "505   0.04741  11.9\n",
      "\n",
      "[506 rows x 2 columns]\n"
     ]
    }
   ],
   "source": [
    "df = pd.read_csv('https://raw.githubusercontent.com/selva86/datasets/master/BostonHousing.csv', usecols=['crim', 'medv'])\n",
    "print(df)"
   ]
  },
  {
   "cell_type": "markdown",
   "metadata": {},
   "source": [
    "## Exercise 37\n",
    "How to get the nrows, ncolumns, datatype and and summary stats of each column of a DataFrame\n",
    "Get these statistics from the cars93 dataset."
   ]
  },
  {
   "cell_type": "code",
   "execution_count": 5,
   "metadata": {},
   "outputs": [
    {
     "name": "stdout",
     "output_type": "stream",
     "text": [
      "  Manufacturer    Model     Type  Min.Price  Price  Max.Price  MPG.city  \\\n",
      "0        Acura  Integra    Small       12.9   15.9       18.8      25.0   \n",
      "1          NaN   Legend  Midsize       29.2   33.9       38.7      18.0   \n",
      "2         Audi       90  Compact       25.9   29.1       32.3      20.0   \n",
      "3         Audi      100  Midsize        NaN   37.7       44.6      19.0   \n",
      "4          BMW     535i  Midsize        NaN   30.0        NaN      22.0   \n",
      "\n",
      "   MPG.highway             AirBags DriveTrain  ... Passengers  Length  \\\n",
      "0         31.0                None      Front  ...        5.0   177.0   \n",
      "1         25.0  Driver & Passenger      Front  ...        5.0   195.0   \n",
      "2         26.0         Driver only      Front  ...        5.0   180.0   \n",
      "3         26.0  Driver & Passenger        NaN  ...        6.0   193.0   \n",
      "4         30.0                 NaN       Rear  ...        4.0   186.0   \n",
      "\n",
      "   Wheelbase  Width  Turn.circle Rear.seat.room  Luggage.room  Weight  \\\n",
      "0      102.0   68.0         37.0           26.5           NaN  2705.0   \n",
      "1      115.0   71.0         38.0           30.0          15.0  3560.0   \n",
      "2      102.0   67.0         37.0           28.0          14.0  3375.0   \n",
      "3      106.0    NaN         37.0           31.0          17.0  3405.0   \n",
      "4      109.0   69.0         39.0           27.0          13.0  3640.0   \n",
      "\n",
      "    Origin           Make  \n",
      "0  non-USA  Acura Integra  \n",
      "1  non-USA   Acura Legend  \n",
      "2  non-USA        Audi 90  \n",
      "3  non-USA       Audi 100  \n",
      "4  non-USA       BMW 535i  \n",
      "\n",
      "[5 rows x 27 columns]\n"
     ]
    }
   ],
   "source": [
    "df_cars93 = pd.read_csv('https://raw.githubusercontent.com/selva86/datasets/master/Cars93_miss.csv')\n",
    "print(df_cars93.head())"
   ]
  },
  {
   "cell_type": "code",
   "execution_count": 6,
   "metadata": {},
   "outputs": [
    {
     "name": "stdout",
     "output_type": "stream",
     "text": [
      "(93, 27)\n"
     ]
    }
   ],
   "source": [
    "# number of rows and columns\n",
    "print(df_cars93.shape)"
   ]
  },
  {
   "cell_type": "code",
   "execution_count": 7,
   "metadata": {},
   "outputs": [
    {
     "name": "stdout",
     "output_type": "stream",
     "text": [
      "float64    18\n",
      "object      9\n",
      "dtype: int64\n"
     ]
    }
   ],
   "source": [
    "# how many columns under each datatype\n",
    "print(df_cars93.get_dtype_counts())"
   ]
  },
  {
   "cell_type": "code",
   "execution_count": 8,
   "metadata": {},
   "outputs": [
    {
     "name": "stdout",
     "output_type": "stream",
     "text": [
      "float64    18\n",
      "object      9\n",
      "dtype: int64\n"
     ]
    }
   ],
   "source": [
    "# same information with other functions\n",
    "print(df_cars93.dtypes.value_counts())"
   ]
  },
  {
   "cell_type": "code",
   "execution_count": 9,
   "metadata": {},
   "outputs": [
    {
     "data": {
      "text/html": [
       "<div>\n",
       "<style scoped>\n",
       "    .dataframe tbody tr th:only-of-type {\n",
       "        vertical-align: middle;\n",
       "    }\n",
       "\n",
       "    .dataframe tbody tr th {\n",
       "        vertical-align: top;\n",
       "    }\n",
       "\n",
       "    .dataframe thead th {\n",
       "        text-align: right;\n",
       "    }\n",
       "</style>\n",
       "<table border=\"1\" class=\"dataframe\">\n",
       "  <thead>\n",
       "    <tr style=\"text-align: right;\">\n",
       "      <th></th>\n",
       "      <th>Min.Price</th>\n",
       "      <th>Price</th>\n",
       "      <th>Max.Price</th>\n",
       "      <th>MPG.city</th>\n",
       "      <th>MPG.highway</th>\n",
       "      <th>EngineSize</th>\n",
       "      <th>Horsepower</th>\n",
       "      <th>RPM</th>\n",
       "      <th>Rev.per.mile</th>\n",
       "      <th>Fuel.tank.capacity</th>\n",
       "      <th>Passengers</th>\n",
       "      <th>Length</th>\n",
       "      <th>Wheelbase</th>\n",
       "      <th>Width</th>\n",
       "      <th>Turn.circle</th>\n",
       "      <th>Rear.seat.room</th>\n",
       "      <th>Luggage.room</th>\n",
       "      <th>Weight</th>\n",
       "    </tr>\n",
       "  </thead>\n",
       "  <tbody>\n",
       "    <tr>\n",
       "      <th>count</th>\n",
       "      <td>86.000000</td>\n",
       "      <td>91.000000</td>\n",
       "      <td>88.000000</td>\n",
       "      <td>84.000000</td>\n",
       "      <td>91.000000</td>\n",
       "      <td>91.000000</td>\n",
       "      <td>86.000000</td>\n",
       "      <td>90.000000</td>\n",
       "      <td>87.000000</td>\n",
       "      <td>85.000000</td>\n",
       "      <td>91.000000</td>\n",
       "      <td>89.000000</td>\n",
       "      <td>92.000000</td>\n",
       "      <td>87.000000</td>\n",
       "      <td>88.000000</td>\n",
       "      <td>89.000000</td>\n",
       "      <td>74.000000</td>\n",
       "      <td>86.000000</td>\n",
       "    </tr>\n",
       "    <tr>\n",
       "      <th>mean</th>\n",
       "      <td>17.118605</td>\n",
       "      <td>19.616484</td>\n",
       "      <td>21.459091</td>\n",
       "      <td>22.404762</td>\n",
       "      <td>29.065934</td>\n",
       "      <td>2.658242</td>\n",
       "      <td>144.000000</td>\n",
       "      <td>5276.666667</td>\n",
       "      <td>2355.000000</td>\n",
       "      <td>16.683529</td>\n",
       "      <td>5.076923</td>\n",
       "      <td>182.865169</td>\n",
       "      <td>103.956522</td>\n",
       "      <td>69.448276</td>\n",
       "      <td>38.954545</td>\n",
       "      <td>27.853933</td>\n",
       "      <td>13.986486</td>\n",
       "      <td>3104.593023</td>\n",
       "    </tr>\n",
       "    <tr>\n",
       "      <th>std</th>\n",
       "      <td>8.828290</td>\n",
       "      <td>9.724280</td>\n",
       "      <td>10.696563</td>\n",
       "      <td>5.841520</td>\n",
       "      <td>5.370293</td>\n",
       "      <td>1.045845</td>\n",
       "      <td>53.455204</td>\n",
       "      <td>605.554811</td>\n",
       "      <td>486.916616</td>\n",
       "      <td>3.375748</td>\n",
       "      <td>1.045953</td>\n",
       "      <td>14.792651</td>\n",
       "      <td>6.856317</td>\n",
       "      <td>3.778023</td>\n",
       "      <td>3.304157</td>\n",
       "      <td>3.018129</td>\n",
       "      <td>3.120824</td>\n",
       "      <td>600.129993</td>\n",
       "    </tr>\n",
       "    <tr>\n",
       "      <th>min</th>\n",
       "      <td>6.700000</td>\n",
       "      <td>7.400000</td>\n",
       "      <td>7.900000</td>\n",
       "      <td>15.000000</td>\n",
       "      <td>20.000000</td>\n",
       "      <td>1.000000</td>\n",
       "      <td>55.000000</td>\n",
       "      <td>3800.000000</td>\n",
       "      <td>1320.000000</td>\n",
       "      <td>9.200000</td>\n",
       "      <td>2.000000</td>\n",
       "      <td>141.000000</td>\n",
       "      <td>90.000000</td>\n",
       "      <td>60.000000</td>\n",
       "      <td>32.000000</td>\n",
       "      <td>19.000000</td>\n",
       "      <td>6.000000</td>\n",
       "      <td>1695.000000</td>\n",
       "    </tr>\n",
       "    <tr>\n",
       "      <th>25%</th>\n",
       "      <td>10.825000</td>\n",
       "      <td>12.350000</td>\n",
       "      <td>14.575000</td>\n",
       "      <td>18.000000</td>\n",
       "      <td>26.000000</td>\n",
       "      <td>1.800000</td>\n",
       "      <td>100.750000</td>\n",
       "      <td>4800.000000</td>\n",
       "      <td>2017.500000</td>\n",
       "      <td>14.500000</td>\n",
       "      <td>4.000000</td>\n",
       "      <td>174.000000</td>\n",
       "      <td>98.000000</td>\n",
       "      <td>67.000000</td>\n",
       "      <td>36.000000</td>\n",
       "      <td>26.000000</td>\n",
       "      <td>12.000000</td>\n",
       "      <td>2647.500000</td>\n",
       "    </tr>\n",
       "    <tr>\n",
       "      <th>50%</th>\n",
       "      <td>14.600000</td>\n",
       "      <td>17.700000</td>\n",
       "      <td>19.150000</td>\n",
       "      <td>21.000000</td>\n",
       "      <td>28.000000</td>\n",
       "      <td>2.300000</td>\n",
       "      <td>140.000000</td>\n",
       "      <td>5200.000000</td>\n",
       "      <td>2360.000000</td>\n",
       "      <td>16.500000</td>\n",
       "      <td>5.000000</td>\n",
       "      <td>181.000000</td>\n",
       "      <td>103.000000</td>\n",
       "      <td>69.000000</td>\n",
       "      <td>39.000000</td>\n",
       "      <td>27.500000</td>\n",
       "      <td>14.000000</td>\n",
       "      <td>3085.000000</td>\n",
       "    </tr>\n",
       "    <tr>\n",
       "      <th>75%</th>\n",
       "      <td>20.250000</td>\n",
       "      <td>23.500000</td>\n",
       "      <td>24.825000</td>\n",
       "      <td>25.000000</td>\n",
       "      <td>31.000000</td>\n",
       "      <td>3.250000</td>\n",
       "      <td>170.000000</td>\n",
       "      <td>5787.500000</td>\n",
       "      <td>2565.000000</td>\n",
       "      <td>19.000000</td>\n",
       "      <td>6.000000</td>\n",
       "      <td>192.000000</td>\n",
       "      <td>110.000000</td>\n",
       "      <td>72.000000</td>\n",
       "      <td>42.000000</td>\n",
       "      <td>30.000000</td>\n",
       "      <td>16.000000</td>\n",
       "      <td>3567.500000</td>\n",
       "    </tr>\n",
       "    <tr>\n",
       "      <th>max</th>\n",
       "      <td>45.400000</td>\n",
       "      <td>61.900000</td>\n",
       "      <td>80.000000</td>\n",
       "      <td>46.000000</td>\n",
       "      <td>50.000000</td>\n",
       "      <td>5.700000</td>\n",
       "      <td>300.000000</td>\n",
       "      <td>6500.000000</td>\n",
       "      <td>3755.000000</td>\n",
       "      <td>27.000000</td>\n",
       "      <td>8.000000</td>\n",
       "      <td>219.000000</td>\n",
       "      <td>119.000000</td>\n",
       "      <td>78.000000</td>\n",
       "      <td>45.000000</td>\n",
       "      <td>36.000000</td>\n",
       "      <td>22.000000</td>\n",
       "      <td>4105.000000</td>\n",
       "    </tr>\n",
       "  </tbody>\n",
       "</table>\n",
       "</div>"
      ],
      "text/plain": [
       "       Min.Price      Price  Max.Price   MPG.city  MPG.highway  EngineSize  \\\n",
       "count  86.000000  91.000000  88.000000  84.000000    91.000000   91.000000   \n",
       "mean   17.118605  19.616484  21.459091  22.404762    29.065934    2.658242   \n",
       "std     8.828290   9.724280  10.696563   5.841520     5.370293    1.045845   \n",
       "min     6.700000   7.400000   7.900000  15.000000    20.000000    1.000000   \n",
       "25%    10.825000  12.350000  14.575000  18.000000    26.000000    1.800000   \n",
       "50%    14.600000  17.700000  19.150000  21.000000    28.000000    2.300000   \n",
       "75%    20.250000  23.500000  24.825000  25.000000    31.000000    3.250000   \n",
       "max    45.400000  61.900000  80.000000  46.000000    50.000000    5.700000   \n",
       "\n",
       "       Horsepower          RPM  Rev.per.mile  Fuel.tank.capacity  Passengers  \\\n",
       "count   86.000000    90.000000     87.000000           85.000000   91.000000   \n",
       "mean   144.000000  5276.666667   2355.000000           16.683529    5.076923   \n",
       "std     53.455204   605.554811    486.916616            3.375748    1.045953   \n",
       "min     55.000000  3800.000000   1320.000000            9.200000    2.000000   \n",
       "25%    100.750000  4800.000000   2017.500000           14.500000    4.000000   \n",
       "50%    140.000000  5200.000000   2360.000000           16.500000    5.000000   \n",
       "75%    170.000000  5787.500000   2565.000000           19.000000    6.000000   \n",
       "max    300.000000  6500.000000   3755.000000           27.000000    8.000000   \n",
       "\n",
       "           Length   Wheelbase      Width  Turn.circle  Rear.seat.room  \\\n",
       "count   89.000000   92.000000  87.000000    88.000000       89.000000   \n",
       "mean   182.865169  103.956522  69.448276    38.954545       27.853933   \n",
       "std     14.792651    6.856317   3.778023     3.304157        3.018129   \n",
       "min    141.000000   90.000000  60.000000    32.000000       19.000000   \n",
       "25%    174.000000   98.000000  67.000000    36.000000       26.000000   \n",
       "50%    181.000000  103.000000  69.000000    39.000000       27.500000   \n",
       "75%    192.000000  110.000000  72.000000    42.000000       30.000000   \n",
       "max    219.000000  119.000000  78.000000    45.000000       36.000000   \n",
       "\n",
       "       Luggage.room       Weight  \n",
       "count     74.000000    86.000000  \n",
       "mean      13.986486  3104.593023  \n",
       "std        3.120824   600.129993  \n",
       "min        6.000000  1695.000000  \n",
       "25%       12.000000  2647.500000  \n",
       "50%       14.000000  3085.000000  \n",
       "75%       16.000000  3567.500000  \n",
       "max       22.000000  4105.000000  "
      ]
     },
     "execution_count": 9,
     "metadata": {},
     "output_type": "execute_result"
    }
   ],
   "source": [
    "# and now the summary statistics\n",
    "df_cars93.describe()"
   ]
  },
  {
   "cell_type": "code",
   "execution_count": 10,
   "metadata": {},
   "outputs": [
    {
     "name": "stdout",
     "output_type": "stream",
     "text": [
      "[['Acura' 'Integra' 'Small' ... 2705.0 'non-USA' 'Acura Integra']\n",
      " [nan 'Legend' 'Midsize' ... 3560.0 'non-USA' 'Acura Legend']\n",
      " ['Audi' '90' 'Compact' ... 3375.0 'non-USA' 'Audi 90']\n",
      " ...\n",
      " ['Volkswagen' 'Corrado' 'Sporty' ... 2810.0 'non-USA'\n",
      "  'Volkswagen Corrado']\n",
      " ['Volvo' '240' 'Compact' ... 2985.0 'non-USA' 'Volvo 240']\n",
      " [nan '850' 'Midsize' ... 3245.0 'non-USA' 'Volvo 850']]\n"
     ]
    }
   ],
   "source": [
    "#convert dataframe to numpy array\n",
    "df_cars93_arr = df_cars93.values\n",
    "print(df_cars93_arr)"
   ]
  },
  {
   "cell_type": "code",
   "execution_count": 11,
   "metadata": {},
   "outputs": [
    {
     "name": "stdout",
     "output_type": "stream",
     "text": [
      "[['Acura', 'Integra', 'Small', 12.9, 15.9, 18.8, 25.0, 31.0, 'None', 'Front', '4', 1.8, 140.0, 6300.0, 2890.0, 'Yes', 13.2, 5.0, 177.0, 102.0, 68.0, 37.0, 26.5, nan, 2705.0, 'non-USA', 'Acura Integra'], [nan, 'Legend', 'Midsize', 29.2, 33.9, 38.7, 18.0, 25.0, 'Driver & Passenger', 'Front', '6', 3.2, 200.0, 5500.0, 2335.0, 'Yes', 18.0, 5.0, 195.0, 115.0, 71.0, 38.0, 30.0, 15.0, 3560.0, 'non-USA', 'Acura Legend'], ['Audi', '90', 'Compact', 25.9, 29.1, 32.3, 20.0, 26.0, 'Driver only', 'Front', '6', 2.8, 172.0, 5500.0, 2280.0, 'Yes', 16.9, 5.0, 180.0, 102.0, 67.0, 37.0, 28.0, 14.0, 3375.0, 'non-USA', 'Audi 90'], ['Audi', '100', 'Midsize', nan, 37.7, 44.6, 19.0, 26.0, 'Driver & Passenger', nan, '6', nan, 172.0, 5500.0, 2535.0, nan, 21.1, 6.0, 193.0, 106.0, nan, 37.0, 31.0, 17.0, 3405.0, 'non-USA', 'Audi 100'], ['BMW', '535i', 'Midsize', nan, 30.0, nan, 22.0, 30.0, nan, 'Rear', '4', 3.5, 208.0, 5700.0, 2545.0, 'Yes', 21.1, 4.0, 186.0, 109.0, 69.0, 39.0, 27.0, 13.0, 3640.0, 'non-USA', 'BMW 535i'], ['Buick', 'Century', 'Midsize', 14.2, 15.7, 17.3, 22.0, 31.0, 'Driver only', nan, '4', 2.2, 110.0, 5200.0, 2565.0, 'No', 16.4, 6.0, 189.0, 105.0, 69.0, 41.0, 28.0, 16.0, nan, 'USA', 'Buick Century'], ['Buick', 'LeSabre', 'Large', 19.9, 20.8, nan, 19.0, 28.0, 'Driver only', 'Front', '6', 3.8, 170.0, 4800.0, nan, 'No', nan, 6.0, 200.0, 111.0, 74.0, 42.0, 30.5, 17.0, 3470.0, 'USA', 'Buick LeSabre'], ['Buick', 'Roadmaster', 'Large', 22.6, 23.7, 24.9, 16.0, 25.0, 'Driver only', 'Rear', '6', 5.7, 180.0, 4000.0, 1320.0, 'No', 23.0, 6.0, 216.0, 116.0, 78.0, 45.0, 30.5, 21.0, 4105.0, 'USA', 'Buick Roadmaster'], ['Buick', 'Riviera', 'Midsize', 26.3, 26.3, 26.3, 19.0, 27.0, 'Driver only', 'Front', '6', 3.8, 170.0, 4800.0, 1690.0, 'No', 18.8, 5.0, 198.0, 108.0, nan, 41.0, 26.5, 14.0, 3495.0, 'USA', 'Buick Riviera'], ['Cadillac', 'DeVille', 'Large', 33.0, 34.7, 36.3, 16.0, 25.0, 'Driver only', 'Front', '8', 4.9, 200.0, 4100.0, nan, 'No', 18.0, 6.0, 206.0, 114.0, 73.0, 43.0, 35.0, 18.0, 3620.0, 'USA', 'Cadillac DeVille'], ['Cadillac', 'Seville', 'Midsize', 37.5, 40.1, 42.7, 16.0, 25.0, 'Driver & Passenger', 'Front', '8', 4.6, 295.0, 6000.0, 1985.0, 'No', 20.0, 5.0, 204.0, 111.0, 74.0, 44.0, 31.0, nan, 3935.0, 'USA', 'Cadillac Seville'], ['Chevrolet', 'Cavalier', 'Compact', 8.5, 13.4, 18.3, 25.0, 36.0, nan, nan, '4', 2.2, nan, 5200.0, 2380.0, 'Yes', 15.2, 5.0, 182.0, 101.0, 66.0, 38.0, 25.0, 13.0, 2490.0, 'USA', 'Chevrolet Cavalier'], ['Chevrolet', 'Corsica', 'Compact', 11.4, 11.4, 11.4, 25.0, 34.0, 'Driver only', 'Front', nan, 2.2, 110.0, 5200.0, 2665.0, 'Yes', 15.6, 5.0, 184.0, 103.0, 68.0, 39.0, 26.0, nan, 2785.0, 'USA', 'Chevrolet Corsica'], ['Chevrolet', 'Camaro', 'Sporty', 13.4, 15.1, 16.8, 19.0, 28.0, 'Driver & Passenger', 'Rear', nan, 3.4, 160.0, 4600.0, 1805.0, 'Yes', nan, 4.0, 193.0, 101.0, 74.0, 43.0, 25.0, 13.0, 3240.0, 'USA', 'Chevrolet Camaro'], ['Chevrolet', 'Lumina', 'Midsize', 13.4, 15.9, 18.4, nan, 29.0, 'None', 'Front', '4', 2.2, nan, 5200.0, 2595.0, 'No', 16.5, 6.0, nan, 108.0, 71.0, nan, 28.5, 16.0, 3195.0, 'USA', 'Chevrolet Lumina'], ['Chevrolet', 'Lumina_APV', 'Van', 14.7, 16.3, 18.0, 18.0, 23.0, 'None', 'Front', '6', 3.8, 170.0, 4800.0, 1690.0, 'No', 20.0, 7.0, 178.0, 110.0, 74.0, 44.0, 30.5, nan, 3715.0, 'USA', 'Chevrolet Lumina_APV'], ['Chevrolet', 'Astro', 'Van', 14.7, 16.6, 18.6, 15.0, 20.0, 'None', '4WD', '6', 4.3, nan, 4000.0, 1790.0, 'No', 27.0, 8.0, 194.0, 111.0, 78.0, 42.0, 33.5, nan, 4025.0, 'USA', 'Chevrolet Astro'], ['Chevrolet', 'Caprice', 'Large', 18.0, 18.8, 19.6, 17.0, 26.0, 'Driver only', 'Rear', '8', 5.0, 170.0, 4200.0, 1350.0, 'No', 23.0, 6.0, 214.0, 116.0, 77.0, 42.0, 29.5, 20.0, 3910.0, 'USA', 'Chevrolet Caprice'], ['Chevrolet', 'Corvette', 'Sporty', 34.6, 38.0, 41.5, 17.0, 25.0, 'Driver only', 'Rear', '8', 5.7, 300.0, 5000.0, 1450.0, 'Yes', 20.0, 2.0, 179.0, 96.0, 74.0, 43.0, nan, nan, 3380.0, nan, 'Chevrolet Corvette'], [nan, 'Concorde', 'Large', 18.4, 18.4, 18.4, 20.0, 28.0, 'Driver & Passenger', 'Front', '6', 3.3, 153.0, 5300.0, 1990.0, 'No', 18.0, 6.0, 203.0, 113.0, 74.0, nan, 31.0, 15.0, 3515.0, 'USA', 'Chrylser Concorde'], ['Chrysler', 'LeBaron', 'Compact', 14.5, 15.8, 17.1, 23.0, 28.0, 'Driver & Passenger', 'Front', '4', 3.0, 141.0, 5000.0, 2090.0, 'No', 16.0, 6.0, 183.0, 104.0, 68.0, 41.0, 30.5, 14.0, 3085.0, 'USA', 'Chrysler LeBaron'], ['Chrysler', 'Imperial', 'Large', 29.5, 29.5, 29.5, 20.0, 26.0, 'Driver only', 'Front', '6', 3.3, 147.0, 4800.0, 1785.0, 'No', 16.0, 6.0, 203.0, 110.0, 69.0, 44.0, 36.0, 17.0, 3570.0, 'USA', 'Chrysler Imperial'], ['Dodge', 'Colt', 'Small', 7.9, 9.2, 10.6, 29.0, 33.0, 'None', 'Front', '4', 1.5, 92.0, 6000.0, 3285.0, 'Yes', nan, 5.0, 174.0, 98.0, 66.0, 32.0, nan, 11.0, 2270.0, 'USA', 'Dodge Colt'], ['Dodge', 'Shadow', 'Small', 8.4, 11.3, 14.2, 23.0, 29.0, 'Driver only', 'Front', '4', 2.2, 93.0, 4800.0, nan, 'Yes', 14.0, 5.0, 172.0, 97.0, 67.0, 38.0, 26.5, nan, 2670.0, 'USA', 'Dodge Shadow'], ['Dodge', 'Spirit', 'Compact', 11.9, 13.3, 14.7, 22.0, 27.0, 'Driver only', 'Front', '4', 2.5, 100.0, 4800.0, 2535.0, 'Yes', nan, 6.0, 181.0, 104.0, 68.0, 39.0, 30.5, nan, 2970.0, 'USA', 'Dodge Spirit'], ['Dodge', 'Caravan', 'Van', nan, 19.0, 24.4, 17.0, 21.0, 'Driver only', '4WD', '6', 3.0, 142.0, 5000.0, 1970.0, 'No', 20.0, 7.0, 175.0, 112.0, 72.0, 42.0, 26.5, nan, 3705.0, 'USA', 'Dodge Caravan'], ['Dodge', 'Dynasty', 'Midsize', 14.8, 15.6, 16.4, 21.0, nan, 'Driver only', 'Front', nan, 2.5, 100.0, 4800.0, 2465.0, 'No', 16.0, 6.0, 192.0, 105.0, 69.0, 42.0, 30.5, 16.0, 3080.0, 'USA', 'Dodge Dynasty'], ['Dodge', 'Stealth', 'Sporty', 18.5, 25.8, 33.1, nan, 24.0, 'Driver only', '4WD', '6', 3.0, 300.0, 6000.0, 2120.0, 'Yes', 19.8, 4.0, 180.0, 97.0, nan, 40.0, 20.0, 11.0, 3805.0, 'USA', 'Dodge Stealth'], ['Eagle', 'Summit', 'Small', 7.9, 12.2, 16.5, 29.0, 33.0, 'None', 'Front', '4', 1.5, 92.0, 6000.0, 2505.0, 'Yes', 13.2, 5.0, 174.0, 98.0, 66.0, 36.0, 26.5, 11.0, 2295.0, 'USA', 'Eagle Summit'], ['Eagle', 'Vision', 'Large', nan, 19.3, 21.2, 20.0, 28.0, 'Driver & Passenger', 'Front', '6', 3.5, nan, 5800.0, 1980.0, 'No', 18.0, 6.0, 202.0, 113.0, 74.0, 40.0, 30.0, 15.0, 3490.0, 'USA', 'Eagle Vision'], ['Ford', 'Festiva', 'Small', 6.9, 7.4, 7.9, 31.0, 33.0, nan, 'Front', '4', 1.3, 63.0, 5000.0, 3150.0, 'Yes', 10.0, 4.0, 141.0, 90.0, 63.0, 33.0, 26.0, 12.0, 1845.0, 'USA', 'Ford Festiva'], ['Ford', 'Escort', 'Small', 8.4, 10.1, 11.9, 23.0, 30.0, 'None', 'Front', '4', 1.8, 127.0, 6500.0, 2410.0, nan, 13.2, 5.0, 171.0, 98.0, 67.0, 36.0, 28.0, 12.0, 2530.0, 'USA', 'Ford Escort'], ['Ford', 'Tempo', 'Compact', 10.4, 11.3, 12.2, 22.0, 27.0, 'None', 'Front', '4', 2.3, 96.0, 4200.0, 2805.0, 'Yes', 15.9, 5.0, 177.0, 100.0, 68.0, nan, 27.5, 13.0, nan, 'USA', nan], ['Ford', 'Mustang', 'Sporty', 10.8, 15.9, 21.0, 22.0, 29.0, 'Driver only', 'Rear', '4', 2.3, 105.0, 4600.0, 2285.0, 'Yes', 15.4, 4.0, 180.0, 101.0, 68.0, 40.0, 24.0, 12.0, nan, 'USA', 'Ford Mustang'], ['Ford', 'Probe', 'Sporty', 12.8, 14.0, 15.2, nan, 30.0, 'Driver only', 'Front', '4', 2.0, 115.0, 5500.0, 2340.0, 'Yes', 15.5, 4.0, 179.0, 103.0, 70.0, 38.0, 23.0, 18.0, 2710.0, 'USA', 'Ford Probe'], ['Ford', 'Aerostar', 'Van', 14.5, 19.9, 25.3, 15.0, 20.0, 'Driver only', '4WD', '6', 3.0, 145.0, 4800.0, 2080.0, 'Yes', 21.0, 7.0, 176.0, 119.0, 72.0, 45.0, 30.0, nan, 3735.0, 'USA', 'Ford Aerostar'], ['Ford', 'Taurus', 'Midsize', 15.6, 20.2, 24.8, 21.0, 30.0, 'Driver only', 'Front', '6', 3.0, nan, 4800.0, 1885.0, 'No', nan, 5.0, 192.0, 106.0, 71.0, 40.0, 27.5, 18.0, 3325.0, 'USA', 'Ford Taurus'], ['Ford', 'Crown_Victoria', 'Large', 20.1, 20.9, 21.7, 18.0, 26.0, 'Driver only', 'Rear', '8', 4.6, 190.0, 4200.0, nan, 'No', 20.0, 6.0, 212.0, 114.0, 78.0, 43.0, 30.0, 21.0, 3950.0, 'USA', 'Ford Crown_Victoria'], ['Geo', 'Metro', 'Small', 6.7, 8.4, 10.0, 46.0, 50.0, 'None', 'Front', '3', 1.0, 55.0, 5700.0, 3755.0, nan, 10.6, 4.0, 151.0, 93.0, 63.0, 34.0, 27.5, 10.0, 1695.0, 'non-USA', 'Geo Metro'], ['Geo', 'Storm', 'Sporty', 11.5, 12.5, 13.5, 30.0, 36.0, 'Driver only', 'Front', '4', 1.6, 90.0, 5400.0, 3250.0, 'Yes', 12.4, 4.0, 164.0, 97.0, nan, 37.0, 24.5, 11.0, 2475.0, 'non-USA', 'Geo Storm'], ['Honda', 'Prelude', 'Sporty', 17.0, 19.8, 22.7, 24.0, 31.0, 'Driver & Passenger', 'Front', '4', 2.3, 160.0, 5800.0, 2855.0, 'Yes', nan, 4.0, 175.0, 100.0, 70.0, 39.0, 23.5, 8.0, 2865.0, 'non-USA', 'Honda Prelude'], ['Honda', 'Civic', 'Small', 8.4, 12.1, 15.8, 42.0, 46.0, 'Driver only', 'Front', '4', 1.5, nan, 5900.0, 2650.0, 'Yes', 11.9, 4.0, 173.0, nan, 67.0, 36.0, 28.0, 12.0, nan, 'non-USA', 'Honda Civic'], ['Honda', 'Accord', 'Compact', 13.8, 17.5, 21.2, 24.0, 31.0, 'Driver & Passenger', 'Front', '4', 2.2, 140.0, 5600.0, nan, 'Yes', 17.0, 4.0, 185.0, 107.0, 67.0, 41.0, 28.0, 14.0, 3040.0, 'non-USA', 'Honda Accord'], ['Hyundai', 'Excel', 'Small', 6.8, 8.0, 9.2, 29.0, 33.0, 'None', 'Front', '4', 1.5, 81.0, 5500.0, 2710.0, 'Yes', 11.9, 5.0, 168.0, 94.0, 63.0, 35.0, 26.0, 11.0, 2345.0, 'non-USA', 'Hyundai Excel'], ['Hyundai', 'Elantra', 'Small', 9.0, 10.0, 11.0, nan, 29.0, 'None', 'Front', '4', 1.8, 124.0, 6000.0, 2745.0, 'Yes', 13.7, 5.0, 172.0, 98.0, 66.0, 36.0, 28.0, 12.0, 2620.0, 'non-USA', 'Hyundai Elantra'], ['Hyundai', 'Scoupe', nan, 9.1, 10.0, 11.0, 26.0, 34.0, 'None', 'Front', '4', 1.5, 92.0, 5550.0, 2540.0, 'Yes', 11.9, 4.0, 166.0, 94.0, 64.0, 34.0, 23.5, 9.0, 2285.0, 'non-USA', nan], ['Hyundai', 'Sonata', 'Midsize', 12.4, 13.9, 15.3, 20.0, 27.0, 'None', 'Front', '4', 2.0, 128.0, 6000.0, 2335.0, 'Yes', 17.2, 5.0, 184.0, 104.0, 69.0, 41.0, 31.0, nan, 2885.0, nan, 'Hyundai Sonata'], ['Infiniti', 'Q45', 'Midsize', 45.4, 47.9, nan, 17.0, 22.0, nan, 'Rear', '8', 4.5, 278.0, 6000.0, 1955.0, 'No', 22.5, 5.0, 200.0, 113.0, 72.0, 42.0, 29.0, 15.0, 4000.0, 'non-USA', 'Infiniti Q45'], ['Lexus', 'ES300', 'Midsize', 27.5, 28.0, 28.4, 18.0, 24.0, 'Driver only', 'Front', '6', 3.0, 185.0, nan, 2325.0, 'Yes', 18.5, 5.0, 188.0, 103.0, 70.0, 40.0, 27.5, 14.0, 3510.0, 'non-USA', 'Lexus ES300'], [nan, 'SC300', 'Midsize', 34.7, 35.2, 35.6, 18.0, 23.0, 'Driver & Passenger', 'Rear', '6', 3.0, 225.0, 6000.0, 2510.0, 'Yes', nan, 4.0, 191.0, 106.0, 71.0, 39.0, 25.0, 9.0, 3515.0, 'non-USA', 'Lexus SC300'], ['Lincoln', 'Continental', 'Midsize', 33.3, 34.3, 35.3, 17.0, 26.0, 'Driver & Passenger', nan, '6', 3.8, 160.0, 4400.0, 1835.0, 'No', 18.4, 6.0, 205.0, 109.0, 73.0, 42.0, 30.0, 19.0, 3695.0, 'USA', 'Lincoln Continental'], ['Lincoln', 'Town_Car', 'Large', 34.4, 36.1, 37.8, 18.0, 26.0, 'Driver & Passenger', 'Rear', '8', 4.6, 210.0, 4600.0, 1840.0, 'No', 20.0, nan, 219.0, 117.0, 77.0, 45.0, 31.5, 22.0, 4055.0, 'USA', 'Lincoln Town_Car'], ['Mazda', '323', 'Small', 7.4, 8.3, 9.1, 29.0, 37.0, 'None', 'Front', '4', 1.6, 82.0, 5000.0, 2370.0, 'Yes', 13.2, 4.0, 164.0, 97.0, 66.0, 34.0, 27.0, 16.0, 2325.0, 'non-USA', 'Mazda 323'], ['Mazda', 'Protege', 'Small', 10.9, 11.6, 12.3, 28.0, 36.0, 'None', 'Front', '4', 1.8, 103.0, 5500.0, 2220.0, 'Yes', 14.5, 5.0, 172.0, 98.0, 66.0, 36.0, 26.5, 13.0, 2440.0, 'non-USA', 'Mazda Protege'], ['Mazda', '626', 'Compact', 14.3, 16.5, 18.7, 26.0, 34.0, 'Driver only', 'Front', '4', 2.5, 164.0, 5600.0, 2505.0, 'Yes', 15.5, 5.0, 184.0, 103.0, 69.0, 40.0, 29.5, 14.0, 2970.0, 'non-USA', 'Mazda 626'], ['Mazda', 'MPV', 'Van', 16.6, 19.1, 21.7, 18.0, 24.0, 'None', '4WD', '6', 3.0, 155.0, 5000.0, 2240.0, 'No', 19.6, 7.0, 190.0, 110.0, 72.0, 39.0, 27.5, nan, 3735.0, 'non-USA', 'Mazda MPV'], ['Mazda', 'RX-7', 'Sporty', 32.5, 32.5, 32.5, 17.0, 25.0, 'Driver only', nan, 'rotary', 1.3, 255.0, 6500.0, 2325.0, 'Yes', 20.0, 2.0, 169.0, 96.0, 69.0, nan, nan, nan, nan, 'non-USA', 'Mazda RX-7'], ['Mercedes-Benz', '190E', 'Compact', 29.0, 31.9, 34.9, nan, 29.0, 'Driver only', 'Rear', '4', 2.3, 130.0, 5100.0, 2425.0, 'Yes', 14.5, 5.0, 175.0, 105.0, 67.0, 34.0, 26.0, 12.0, 2920.0, nan, 'Mercedes-Benz 190E'], ['Mercedes-Benz', '300E', 'Midsize', 43.8, 61.9, 80.0, 19.0, 25.0, 'Driver & Passenger', 'Rear', '6', 3.2, 217.0, 5500.0, 2220.0, 'No', 18.5, 5.0, nan, 110.0, 69.0, 37.0, nan, 15.0, 3525.0, 'non-USA', 'Mercedes-Benz 300E'], ['Mercury', nan, 'Sporty', 13.3, 14.1, 15.0, 23.0, 26.0, 'Driver only', 'Front', '4', 1.6, 100.0, 5750.0, 2475.0, 'Yes', 11.1, 4.0, 166.0, 95.0, 65.0, 36.0, 19.0, 6.0, 2450.0, 'USA', 'Mercury Capri'], ['Mercury', 'Cougar', 'Midsize', 14.9, 14.9, 14.9, 19.0, 26.0, 'None', 'Rear', '6', 3.8, 140.0, 3800.0, 1730.0, 'No', 18.0, 5.0, 199.0, 113.0, 73.0, 38.0, 28.0, 15.0, 3610.0, 'USA', 'Mercury Cougar'], ['Mitsubishi', 'Mirage', 'Small', 7.7, 10.3, 12.9, 29.0, nan, 'None', 'Front', '4', 1.5, 92.0, 6000.0, 2505.0, 'Yes', 13.2, 5.0, 172.0, 98.0, 67.0, 36.0, 26.0, 11.0, 2295.0, 'non-USA', 'Mitsubishi Mirage'], ['Mitsubishi', 'Diamante', 'Midsize', 22.4, 26.1, nan, 18.0, 24.0, 'Driver only', 'Front', '6', 3.0, 202.0, 6000.0, 2210.0, 'No', 19.0, 5.0, 190.0, 107.0, 70.0, 43.0, 27.5, 14.0, 3730.0, 'non-USA', 'Mitsubishi Diamante'], ['Nissan', 'Sentra', 'Small', 8.7, 11.8, 14.9, 29.0, 33.0, 'Driver only', 'Front', nan, 1.6, 110.0, 6000.0, 2435.0, 'Yes', 13.2, 5.0, 170.0, 96.0, 66.0, 33.0, 26.0, nan, nan, 'non-USA', 'Nissan Sentra'], ['Nissan', 'Altima', 'Compact', 13.0, 15.7, 18.3, 24.0, 30.0, 'Driver only', 'Front', '4', 2.4, 150.0, 5600.0, 2130.0, 'Yes', 15.9, 5.0, 181.0, 103.0, 67.0, 40.0, 28.5, 14.0, 3050.0, 'non-USA', 'Nissan Altima'], ['Nissan', 'Quest', 'Van', 16.7, 19.1, 21.5, 17.0, 23.0, 'None', 'Front', '6', 3.0, nan, 4800.0, 2065.0, 'No', 20.0, 7.0, 190.0, 112.0, 74.0, 41.0, 27.0, nan, 4100.0, 'non-USA', 'Nissan Quest'], ['Nissan', 'Maxima', 'Midsize', 21.0, 21.5, 22.0, 21.0, 26.0, 'Driver only', 'Front', '6', 3.0, 160.0, 5200.0, 2045.0, nan, 18.5, 5.0, 188.0, 104.0, 69.0, 41.0, 28.5, 14.0, 3200.0, 'non-USA', 'Nissan Maxima'], ['Oldsmobile', 'Achieva', 'Compact', 13.0, 13.5, 14.0, 24.0, 31.0, 'None', 'Front', '4', 2.3, 155.0, 6000.0, 2380.0, 'No', 15.2, 5.0, 188.0, 103.0, 67.0, 39.0, 28.0, 14.0, 2910.0, 'USA', 'Oldsmobile Achieva'], ['Oldsmobile', 'Cutlass_Ciera', 'Midsize', 14.2, 16.3, 18.4, 23.0, 31.0, 'Driver only', 'Front', '4', 2.2, 110.0, 5200.0, 2565.0, 'No', nan, 5.0, 190.0, 105.0, 70.0, 42.0, 28.0, 16.0, 2890.0, 'USA', 'Oldsmobile Cutlass_Ciera'], ['Oldsmobile', 'Silhouette', 'Van', 19.5, 19.5, 19.5, 18.0, 23.0, 'None', 'Front', '6', 3.8, 170.0, 4800.0, 1690.0, 'No', 20.0, 7.0, nan, 110.0, 74.0, 44.0, 30.5, nan, 3715.0, 'USA', 'Oldsmobile Silhouette'], ['Oldsmobile', 'Eighty-Eight', 'Large', 19.5, 20.7, 21.9, nan, 28.0, 'Driver only', 'Front', '6', 3.8, 170.0, 4800.0, 1570.0, 'No', 18.0, 6.0, 201.0, 111.0, 74.0, 42.0, 31.5, 17.0, 3470.0, 'USA', 'Oldsmobile Eighty-Eight'], ['Plymouth', 'Laser', 'Sporty', 11.4, 14.4, 17.4, nan, 30.0, 'None', '4WD', '4', 1.8, 92.0, 5000.0, 2360.0, 'Yes', 15.9, 4.0, 173.0, 97.0, 67.0, 39.0, 24.5, 8.0, 2640.0, nan, 'Plymouth Laser'], ['Pontiac', 'LeMans', 'Small', nan, 9.0, 9.9, 31.0, 41.0, 'None', 'Front', '4', 1.6, 74.0, 5600.0, 3130.0, 'Yes', 13.2, 4.0, 177.0, 99.0, 66.0, 35.0, 25.5, 17.0, 2350.0, 'USA', 'Pontiac LeMans'], ['Pontiac', 'Sunbird', 'Compact', 9.4, 11.1, 12.8, nan, 31.0, 'None', nan, '4', 2.0, 110.0, 5200.0, 2665.0, 'Yes', 15.2, 5.0, 181.0, 101.0, 66.0, 39.0, 25.0, 13.0, nan, 'USA', nan], ['Pontiac', 'Firebird', nan, 14.0, 17.7, 21.4, 19.0, 28.0, 'Driver & Passenger', 'Rear', '6', nan, 160.0, 4600.0, 1805.0, 'Yes', 15.5, 4.0, 196.0, 101.0, 75.0, 43.0, 25.0, 13.0, 3240.0, 'USA', 'Pontiac Firebird'], ['Pontiac', 'Grand_Prix', 'Midsize', 15.4, 18.5, 21.6, 19.0, 27.0, 'None', 'Front', '6', 3.4, 200.0, 5000.0, 1890.0, 'Yes', 16.5, 5.0, 195.0, 108.0, 72.0, 41.0, 28.5, 16.0, 3450.0, 'USA', 'Pontiac Grand_Prix'], ['Pontiac', 'Bonneville', 'Large', 19.4, 24.4, 29.4, 19.0, 28.0, 'Driver & Passenger', 'Front', '6', 3.8, 170.0, 4800.0, 1565.0, 'No', 18.0, 6.0, 177.0, 111.0, 74.0, 43.0, 30.5, 18.0, 3495.0, 'USA', 'Pontiac Bonneville'], ['Saab', '900', 'Compact', 20.3, 28.7, 37.1, 20.0, 26.0, nan, 'Front', '4', 2.1, 140.0, 6000.0, 2910.0, 'Yes', 18.0, 5.0, nan, 99.0, 67.0, 37.0, 26.5, 14.0, 2775.0, 'non-USA', 'Saab 900'], ['Saturn', 'SL', 'Small', 9.2, nan, 12.9, nan, 38.0, 'Driver only', 'Front', '4', 1.9, 85.0, 5000.0, 2145.0, 'Yes', 12.8, 5.0, 176.0, 102.0, 68.0, 40.0, 26.5, nan, 2495.0, 'USA', 'Saturn SL'], ['Subaru', 'Justy', 'Small', 7.3, 8.4, 9.5, 33.0, 37.0, 'None', '4WD', '3', 1.2, 73.0, 5600.0, 2875.0, 'Yes', 9.2, 4.0, 146.0, 90.0, 60.0, 32.0, 23.5, 10.0, 2045.0, 'non-USA', 'Subaru Justy'], ['Subaru', 'Loyale', 'Small', 10.5, 10.9, 11.3, 25.0, 30.0, 'None', '4WD', '4', 1.8, 90.0, 5200.0, 3375.0, 'Yes', 15.9, 5.0, 175.0, 97.0, 65.0, 35.0, 27.5, 15.0, 2490.0, 'non-USA', 'Subaru Loyale'], ['Subaru', 'Legacy', 'Compact', 16.3, 19.5, 22.7, 23.0, 30.0, 'Driver only', '4WD', '4', 2.2, 130.0, nan, 2330.0, 'Yes', 15.9, 5.0, 179.0, 102.0, 67.0, 37.0, 27.0, 14.0, 3085.0, 'non-USA', 'Subaru Legacy'], ['Suzuki', 'Swift', nan, 7.3, 8.6, nan, 39.0, 43.0, 'None', 'Front', '3', 1.3, 70.0, 6000.0, 3360.0, 'Yes', 10.6, 4.0, 161.0, 93.0, nan, 34.0, 27.5, 10.0, 1965.0, 'non-USA', 'Suzuki Swift'], ['Toyota', 'Tercel', 'Small', nan, 9.8, 11.8, 32.0, 37.0, 'Driver only', 'Front', '4', 1.5, 82.0, 5200.0, 3505.0, 'Yes', 11.9, nan, 162.0, 94.0, nan, 36.0, 24.0, 11.0, 2055.0, 'non-USA', 'Toyota Tercel'], ['Toyota', 'Celica', 'Sporty', 14.2, 18.4, 22.6, 25.0, 32.0, nan, 'Front', '4', 2.2, 135.0, nan, 2405.0, 'Yes', 15.9, 4.0, 174.0, 99.0, 69.0, nan, 23.0, 13.0, 2950.0, 'non-USA', 'Toyota Celica'], ['Toyota', 'Camry', 'Midsize', 15.2, nan, 21.2, 22.0, 29.0, 'Driver only', nan, '4', 2.2, 130.0, 5400.0, 2340.0, nan, 18.5, 5.0, 188.0, 103.0, 70.0, 38.0, 28.5, 15.0, 3030.0, 'non-USA', 'Toyota Camry'], ['Toyota', 'Previa', 'Van', nan, 22.7, 26.6, 18.0, 22.0, 'Driver only', '4WD', '4', 2.4, 138.0, 5000.0, 2515.0, 'Yes', 19.8, 7.0, 187.0, 113.0, 71.0, 41.0, 35.0, nan, 3785.0, 'non-USA', 'Toyota Previa'], ['Volkswagen', 'Fox', 'Small', 8.7, 9.1, 9.5, 25.0, 33.0, 'None', 'Front', '4', 1.8, 81.0, 5500.0, 2550.0, 'Yes', 12.4, 4.0, 163.0, 93.0, 63.0, 34.0, 26.0, 10.0, 2240.0, 'non-USA', 'Volkswagen Fox'], ['Volkswagen', 'Eurovan', 'Van', 16.6, 19.7, 22.7, 17.0, 21.0, 'None', 'Front', '5', 2.5, 109.0, 4500.0, 2915.0, 'Yes', 21.1, 7.0, 187.0, 115.0, 72.0, 38.0, 34.0, nan, 3960.0, nan, 'Volkswagen Eurovan'], ['Volkswagen', 'Passat', 'Compact', 17.6, 20.0, 22.4, 21.0, 30.0, 'None', 'Front', '4', 2.0, 134.0, 5800.0, 2685.0, 'Yes', 18.5, 5.0, 180.0, 103.0, 67.0, 35.0, 31.5, 14.0, 2985.0, 'non-USA', 'Volkswagen Passat'], ['Volkswagen', 'Corrado', 'Sporty', 22.9, 23.3, 23.7, 18.0, 25.0, 'None', 'Front', '6', 2.8, 178.0, 5800.0, 2385.0, 'Yes', 18.5, 4.0, 159.0, 97.0, 66.0, 36.0, 26.0, 15.0, 2810.0, 'non-USA', 'Volkswagen Corrado'], ['Volvo', '240', 'Compact', 21.8, 22.7, 23.5, 21.0, 28.0, 'Driver only', 'Rear', nan, 2.3, 114.0, 5400.0, 2215.0, 'Yes', 15.8, 5.0, 190.0, 104.0, 67.0, 37.0, 29.5, 14.0, 2985.0, 'non-USA', 'Volvo 240'], [nan, '850', 'Midsize', 24.8, 26.7, 28.5, 20.0, 28.0, 'Driver & Passenger', 'Front', '5', 2.4, 168.0, 6200.0, nan, 'Yes', 19.3, 5.0, 184.0, 105.0, 69.0, 38.0, 30.0, 15.0, 3245.0, 'non-USA', 'Volvo 850']]\n"
     ]
    }
   ],
   "source": [
    "#convert dataframe to list\n",
    "df_cars93_list = df_cars93.values.tolist()\n",
    "print(df_cars93_list)"
   ]
  },
  {
   "cell_type": "markdown",
   "metadata": {},
   "source": [
    "## Exercise 38\n",
    "How to extract the row and column number of a cell with a given criterion?\n",
    "Which manufacturer, model and tpye has the highest price value?"
   ]
  },
  {
   "cell_type": "code",
   "execution_count": 12,
   "metadata": {},
   "outputs": [
    {
     "name": "stdout",
     "output_type": "stream",
     "text": [
      "  Manufacturer    Model     Type  Min.Price  Price  Max.Price  MPG.city  \\\n",
      "0        Acura  Integra    Small       12.9   15.9       18.8      25.0   \n",
      "1          NaN   Legend  Midsize       29.2   33.9       38.7      18.0   \n",
      "2         Audi       90  Compact       25.9   29.1       32.3      20.0   \n",
      "3         Audi      100  Midsize        NaN   37.7       44.6      19.0   \n",
      "4          BMW     535i  Midsize        NaN   30.0        NaN      22.0   \n",
      "\n",
      "   MPG.highway             AirBags DriveTrain  ... Passengers  Length  \\\n",
      "0         31.0                None      Front  ...        5.0   177.0   \n",
      "1         25.0  Driver & Passenger      Front  ...        5.0   195.0   \n",
      "2         26.0         Driver only      Front  ...        5.0   180.0   \n",
      "3         26.0  Driver & Passenger        NaN  ...        6.0   193.0   \n",
      "4         30.0                 NaN       Rear  ...        4.0   186.0   \n",
      "\n",
      "   Wheelbase  Width  Turn.circle Rear.seat.room  Luggage.room  Weight  \\\n",
      "0      102.0   68.0         37.0           26.5           NaN  2705.0   \n",
      "1      115.0   71.0         38.0           30.0          15.0  3560.0   \n",
      "2      102.0   67.0         37.0           28.0          14.0  3375.0   \n",
      "3      106.0    NaN         37.0           31.0          17.0  3405.0   \n",
      "4      109.0   69.0         39.0           27.0          13.0  3640.0   \n",
      "\n",
      "    Origin           Make  \n",
      "0  non-USA  Acura Integra  \n",
      "1  non-USA   Acura Legend  \n",
      "2  non-USA        Audi 90  \n",
      "3  non-USA       Audi 100  \n",
      "4  non-USA       BMW 535i  \n",
      "\n",
      "[5 rows x 27 columns]\n"
     ]
    }
   ],
   "source": [
    "df_cars93 = pd.read_csv('https://raw.githubusercontent.com/selva86/datasets/master/Cars93_miss.csv')\n",
    "print(df_cars93.head())"
   ]
  },
  {
   "cell_type": "code",
   "execution_count": 13,
   "metadata": {},
   "outputs": [
    {
     "data": {
      "text/html": [
       "<div>\n",
       "<style scoped>\n",
       "    .dataframe tbody tr th:only-of-type {\n",
       "        vertical-align: middle;\n",
       "    }\n",
       "\n",
       "    .dataframe tbody tr th {\n",
       "        vertical-align: top;\n",
       "    }\n",
       "\n",
       "    .dataframe thead th {\n",
       "        text-align: right;\n",
       "    }\n",
       "</style>\n",
       "<table border=\"1\" class=\"dataframe\">\n",
       "  <thead>\n",
       "    <tr style=\"text-align: right;\">\n",
       "      <th></th>\n",
       "      <th>Manufacturer</th>\n",
       "      <th>Model</th>\n",
       "      <th>Type</th>\n",
       "    </tr>\n",
       "  </thead>\n",
       "  <tbody>\n",
       "    <tr>\n",
       "      <th>58</th>\n",
       "      <td>Mercedes-Benz</td>\n",
       "      <td>300E</td>\n",
       "      <td>Midsize</td>\n",
       "    </tr>\n",
       "  </tbody>\n",
       "</table>\n",
       "</div>"
      ],
      "text/plain": [
       "     Manufacturer Model     Type\n",
       "58  Mercedes-Benz  300E  Midsize"
      ]
     },
     "execution_count": 13,
     "metadata": {},
     "output_type": "execute_result"
    }
   ],
   "source": [
    "# Get Manufacturuer, Model, Type of the most expensive car\n",
    "df_cars93.loc[df_cars93.Price == np.max(df_cars93.Price), ['Manufacturer', 'Model', 'Type' ]]"
   ]
  },
  {
   "cell_type": "code",
   "execution_count": 14,
   "metadata": {},
   "outputs": [
    {
     "name": "stdout",
     "output_type": "stream",
     "text": [
      "[58] [4]\n"
     ]
    }
   ],
   "source": [
    "# Get the row and column of this car\n",
    "\n",
    "row, column = np.where(df_cars93.values == np.max(df_cars93.Price) )\n",
    "print( row, column)"
   ]
  },
  {
   "cell_type": "code",
   "execution_count": 15,
   "metadata": {},
   "outputs": [],
   "source": [
    "# Get the price of this car . here we offer solutions 1 an 2\n",
    "result1 = df_cars93.iat[row[0], column[0]]\n",
    "result2 = df_cars93.iloc[row[0], column[0]]"
   ]
  },
  {
   "cell_type": "code",
   "execution_count": 16,
   "metadata": {},
   "outputs": [
    {
     "name": "stderr",
     "output_type": "stream",
     "text": [
      "c:\\users\\d022785\\appdata\\local\\programs\\python\\python37\\lib\\site-packages\\ipykernel_launcher.py:2: FutureWarning: get_value is deprecated and will be removed in a future release. Please use .at[] or .iat[] accessors instead\n",
      "  \n"
     ]
    }
   ],
   "source": [
    "result3 = df_cars93.at[row[0], 'Price']\n",
    "result4 = df_cars93.get_value(row[0], 'Price')"
   ]
  },
  {
   "cell_type": "code",
   "execution_count": 17,
   "metadata": {},
   "outputs": [
    {
     "name": "stdout",
     "output_type": "stream",
     "text": [
      "result1:  61.9\n",
      "result2:  61.9\n",
      "result3:  61.9\n",
      "result4:  61.9\n"
     ]
    }
   ],
   "source": [
    "print('result1: ', result1)\n",
    "print('result2: ', result2)\n",
    "print('result3: ', result3)\n",
    "print('result4: ', result4)"
   ]
  },
  {
   "cell_type": "markdown",
   "metadata": {},
   "source": []
  },
  {
   "cell_type": "markdown",
   "metadata": {},
   "source": [
    "## Exercise 39\n",
    "How to rename a specific column in a dataframe\n",
    "\n",
    "Rename the column 'Type' to 'CarType' and replace the '.' in all column names by '_'"
   ]
  },
  {
   "cell_type": "code",
   "execution_count": 18,
   "metadata": {},
   "outputs": [
    {
     "name": "stdout",
     "output_type": "stream",
     "text": [
      "Index(['Manufacturer', 'Model', 'Type', 'Min.Price', 'Price', 'Max.Price',\n",
      "       'MPG.city', 'MPG.highway', 'AirBags', 'DriveTrain', 'Cylinders',\n",
      "       'EngineSize', 'Horsepower', 'RPM', 'Rev.per.mile', 'Man.trans.avail',\n",
      "       'Fuel.tank.capacity', 'Passengers', 'Length', 'Wheelbase', 'Width',\n",
      "       'Turn.circle', 'Rear.seat.room', 'Luggage.room', 'Weight', 'Origin',\n",
      "       'Make'],\n",
      "      dtype='object')\n"
     ]
    }
   ],
   "source": [
    "df_cars93 = pd.read_csv('https://raw.githubusercontent.com/selva86/datasets/master/Cars93_miss.csv')\n",
    "\n",
    "print(df_cars93.columns)"
   ]
  },
  {
   "cell_type": "code",
   "execution_count": 19,
   "metadata": {},
   "outputs": [],
   "source": [
    "df_cars93 = df_cars93.rename(columns = {'Type': 'CarTypp'})"
   ]
  },
  {
   "cell_type": "code",
   "execution_count": 20,
   "metadata": {},
   "outputs": [
    {
     "name": "stdout",
     "output_type": "stream",
     "text": [
      "Index(['Manufacturer', 'Model', 'CarTypp', 'Min.Price', 'Price', 'Max.Price',\n",
      "       'MPG.city', 'MPG.highway', 'AirBags', 'DriveTrain', 'Cylinders',\n",
      "       'EngineSize', 'Horsepower', 'RPM', 'Rev.per.mile', 'Man.trans.avail',\n",
      "       'Fuel.tank.capacity', 'Passengers', 'Length', 'Wheelbase', 'Width',\n",
      "       'Turn.circle', 'Rear.seat.room', 'Luggage.room', 'Weight', 'Origin',\n",
      "       'Make'],\n",
      "      dtype='object')\n"
     ]
    }
   ],
   "source": [
    "print(df_cars93.columns)"
   ]
  },
  {
   "cell_type": "code",
   "execution_count": 21,
   "metadata": {},
   "outputs": [
    {
     "name": "stdout",
     "output_type": "stream",
     "text": [
      "Index(['Manufacturer', 'Model', 'CarType', 'Min.Price', 'Price', 'Max.Price',\n",
      "       'MPG.city', 'MPG.highway', 'AirBags', 'DriveTrain', 'Cylinders',\n",
      "       'EngineSize', 'Horsepower', 'RPM', 'Rev.per.mile', 'Man.trans.avail',\n",
      "       'Fuel.tank.capacity', 'Passengers', 'Length', 'Wheelbase', 'Width',\n",
      "       'Turn.circle', 'Rear.seat.room', 'Luggage.room', 'Weight', 'Origin',\n",
      "       'Make'],\n",
      "      dtype='object')\n"
     ]
    }
   ],
   "source": [
    "df_cars93.columns.values[2] = 'CarType'\n",
    "print(df_cars93.columns)"
   ]
  },
  {
   "cell_type": "code",
   "execution_count": 22,
   "metadata": {},
   "outputs": [
    {
     "name": "stdout",
     "output_type": "stream",
     "text": [
      "Index(['Manufacturer', 'Model', 'CarType', 'Min_Price', 'Price', 'Max_Price',\n",
      "       'MPG_city', 'MPG_highway', 'AirBags', 'DriveTrain', 'Cylinders',\n",
      "       'EngineSize', 'Horsepower', 'RPM', 'Rev_per_mile', 'Man_trans_avail',\n",
      "       'Fuel_tank_capacity', 'Passengers', 'Length', 'Wheelbase', 'Width',\n",
      "       'Turn_circle', 'Rear_seat_room', 'Luggage_room', 'Weight', 'Origin',\n",
      "       'Make'],\n",
      "      dtype='object')\n"
     ]
    }
   ],
   "source": [
    "# Now replace all dots by underlines\n",
    "\n",
    "df_cars93.columns = df_cars93.columns.map(lambda x: x.replace('.', '_'))\n",
    "print(df_cars93.columns)"
   ]
  },
  {
   "cell_type": "markdown",
   "metadata": {},
   "source": [
    "## Exercise 40\n",
    "How to check if a dataframe has missing values"
   ]
  },
  {
   "cell_type": "code",
   "execution_count": 23,
   "metadata": {},
   "outputs": [
    {
     "data": {
      "text/plain": [
       "True"
      ]
     },
     "execution_count": 23,
     "metadata": {},
     "output_type": "execute_result"
    }
   ],
   "source": [
    "df_cars93.isnull().values.any()"
   ]
  },
  {
   "cell_type": "markdown",
   "metadata": {},
   "source": [
    "## Exercise 41\n",
    "now we want to count the number of empty values in each column"
   ]
  },
  {
   "cell_type": "code",
   "execution_count": 24,
   "metadata": {},
   "outputs": [
    {
     "name": "stdout",
     "output_type": "stream",
     "text": [
      "Manufacturer           4\n",
      "Model                  1\n",
      "CarType                3\n",
      "Min_Price              7\n",
      "Price                  2\n",
      "Max_Price              5\n",
      "MPG_city               9\n",
      "MPG_highway            2\n",
      "AirBags                6\n",
      "DriveTrain             7\n",
      "Cylinders              5\n",
      "EngineSize             2\n",
      "Horsepower             7\n",
      "RPM                    3\n",
      "Rev_per_mile           6\n",
      "Man_trans_avail        5\n",
      "Fuel_tank_capacity     8\n",
      "Passengers             2\n",
      "Length                 4\n",
      "Wheelbase              1\n",
      "Width                  6\n",
      "Turn_circle            5\n",
      "Rear_seat_room         4\n",
      "Luggage_room          19\n",
      "Weight                 7\n",
      "Origin                 5\n",
      "Make                   3\n",
      "dtype: int64\n"
     ]
    },
    {
     "name": "stderr",
     "output_type": "stream",
     "text": [
      "c:\\users\\d022785\\appdata\\local\\programs\\python\\python37\\lib\\site-packages\\ipykernel_launcher.py:3: FutureWarning: \n",
      "The current behaviour of 'Series.argmax' is deprecated, use 'idxmax'\n",
      "instead.\n",
      "The behavior of 'argmax' will be corrected to return the positional\n",
      "maximum in the future. For now, use 'series.values.argmax' or\n",
      "'np.argmax(np.array(values))' to get the position of the maximum\n",
      "row.\n",
      "  This is separate from the ipykernel package so we can avoid doing imports until\n"
     ]
    },
    {
     "data": {
      "text/plain": [
       "'Luggage_room'"
      ]
     },
     "execution_count": 24,
     "metadata": {},
     "output_type": "execute_result"
    }
   ],
   "source": [
    "n_missings_each_column = df_cars93.apply(lambda x: x.isnull().sum())\n",
    "print(n_missings_each_column)\n",
    "n_missings_each_column.argmax()"
   ]
  },
  {
   "cell_type": "markdown",
   "metadata": {},
   "source": [
    "## Exercise 42\n",
    "Replace empty values with the mean value.\n",
    "Fill the Min.Price and Max.Price with the mean value"
   ]
  },
  {
   "cell_type": "code",
   "execution_count": 25,
   "metadata": {},
   "outputs": [
    {
     "name": "stdout",
     "output_type": "stream",
     "text": [
      "    Min.Price  Max.Price\n",
      "0   12.900000  18.800000\n",
      "1   29.200000  38.700000\n",
      "2   25.900000  32.300000\n",
      "3   17.118605  44.600000\n",
      "4   17.118605  21.459091\n",
      "5   14.200000  17.300000\n",
      "6   19.900000  21.459091\n",
      "7   22.600000  24.900000\n",
      "8   26.300000  26.300000\n",
      "9   33.000000  36.300000\n",
      "10  37.500000  42.700000\n",
      "11   8.500000  18.300000\n",
      "12  11.400000  11.400000\n",
      "13  13.400000  16.800000\n",
      "14  13.400000  18.400000\n",
      "15  14.700000  18.000000\n",
      "16  14.700000  18.600000\n",
      "17  18.000000  19.600000\n",
      "18  34.600000  41.500000\n",
      "19  18.400000  18.400000\n",
      "20  14.500000  17.100000\n",
      "21  29.500000  29.500000\n",
      "22   7.900000  10.600000\n",
      "23   8.400000  14.200000\n",
      "24  11.900000  14.700000\n",
      "25  17.118605  24.400000\n",
      "26  14.800000  16.400000\n",
      "27  18.500000  33.100000\n",
      "28   7.900000  16.500000\n",
      "29  17.118605  21.200000\n",
      "..        ...        ...\n",
      "63   8.700000  14.900000\n",
      "64  13.000000  18.300000\n",
      "65  16.700000  21.500000\n",
      "66  21.000000  22.000000\n",
      "67  13.000000  14.000000\n",
      "68  14.200000  18.400000\n",
      "69  19.500000  19.500000\n",
      "70  19.500000  21.900000\n",
      "71  11.400000  17.400000\n",
      "72  17.118605   9.900000\n",
      "73   9.400000  12.800000\n",
      "74  14.000000  21.400000\n",
      "75  15.400000  21.600000\n",
      "76  19.400000  29.400000\n",
      "77  20.300000  37.100000\n",
      "78   9.200000  12.900000\n",
      "79   7.300000   9.500000\n",
      "80  10.500000  11.300000\n",
      "81  16.300000  22.700000\n",
      "82   7.300000  21.459091\n",
      "83  17.118605  11.800000\n",
      "84  14.200000  22.600000\n",
      "85  15.200000  21.200000\n",
      "86  17.118605  26.600000\n",
      "87   8.700000   9.500000\n",
      "88  16.600000  22.700000\n",
      "89  17.600000  22.400000\n",
      "90  22.900000  23.700000\n",
      "91  21.800000  23.500000\n",
      "92  24.800000  28.500000\n",
      "\n",
      "[93 rows x 2 columns]\n"
     ]
    }
   ],
   "source": [
    "# Input\n",
    "df = pd.read_csv('https://raw.githubusercontent.com/selva86/datasets/master/Cars93_miss.csv')\n",
    "\n",
    "# Solution\n",
    "df_out = df[['Min.Price', 'Max.Price']] = df[['Min.Price', 'Max.Price']].apply(lambda x: x.fillna(x.mean()))\n",
    "print(df_out)"
   ]
  },
  {
   "cell_type": "code",
   "execution_count": 26,
   "metadata": {},
   "outputs": [
    {
     "name": "stdout",
     "output_type": "stream",
     "text": [
      "19.61648351648352\n"
     ]
    }
   ],
   "source": [
    "print(df.Price.mean())"
   ]
  },
  {
   "cell_type": "markdown",
   "metadata": {},
   "source": [
    "Comment: for the fields with a '.' in the name the command df.<field_with_dot>.mean() does not work as the dot is interpreted as the end of a field name and then any function is expected. Therefore I will rename those 2 fields"
   ]
  },
  {
   "cell_type": "code",
   "execution_count": 27,
   "metadata": {},
   "outputs": [],
   "source": [
    "df_new = df.rename(columns = {'Min.Price': 'Min_Price', 'Max.Price': 'Max_Price'})"
   ]
  },
  {
   "cell_type": "code",
   "execution_count": 28,
   "metadata": {},
   "outputs": [
    {
     "name": "stdout",
     "output_type": "stream",
     "text": [
      "17.11860465116279\n"
     ]
    }
   ],
   "source": [
    "print(df_new.Min_Price.mean())"
   ]
  },
  {
   "cell_type": "code",
   "execution_count": 29,
   "metadata": {},
   "outputs": [
    {
     "name": "stdout",
     "output_type": "stream",
     "text": [
      "21.45909090909091\n"
     ]
    }
   ],
   "source": [
    "print(df_new.Max_Price.mean())"
   ]
  },
  {
   "cell_type": "markdown",
   "metadata": {},
   "source": [
    "## Exercise 43\n",
    "How to use the 'apply' function on existing columns with global variables as additional arguments"
   ]
  },
  {
   "cell_type": "code",
   "execution_count": 30,
   "metadata": {},
   "outputs": [
    {
     "name": "stdout",
     "output_type": "stream",
     "text": [
      "   Manufacturer          Model     Type  Min_Price  Price  Max_Price  \\\n",
      "0         Acura        Integra    Small  12.900000   15.9      18.80   \n",
      "1           NaN         Legend  Midsize  29.200000   33.9      38.70   \n",
      "2          Audi             90  Compact  25.900000   29.1      32.30   \n",
      "3          Audi            100  Midsize  17.118605   37.7      44.60   \n",
      "4           BMW           535i  Midsize  17.118605   30.0      19.15   \n",
      "5         Buick        Century  Midsize  14.200000   15.7      17.30   \n",
      "6         Buick        LeSabre    Large  19.900000   20.8      19.15   \n",
      "7         Buick     Roadmaster    Large  22.600000   23.7      24.90   \n",
      "8         Buick        Riviera  Midsize  26.300000   26.3      26.30   \n",
      "9      Cadillac        DeVille    Large  33.000000   34.7      36.30   \n",
      "10     Cadillac        Seville  Midsize  37.500000   40.1      42.70   \n",
      "11    Chevrolet       Cavalier  Compact   8.500000   13.4      18.30   \n",
      "12    Chevrolet        Corsica  Compact  11.400000   11.4      11.40   \n",
      "13    Chevrolet         Camaro   Sporty  13.400000   15.1      16.80   \n",
      "14    Chevrolet         Lumina  Midsize  13.400000   15.9      18.40   \n",
      "15    Chevrolet     Lumina_APV      Van  14.700000   16.3      18.00   \n",
      "16    Chevrolet          Astro      Van  14.700000   16.6      18.60   \n",
      "17    Chevrolet        Caprice    Large  18.000000   18.8      19.60   \n",
      "18    Chevrolet       Corvette   Sporty  34.600000   38.0      41.50   \n",
      "19          NaN       Concorde    Large  18.400000   18.4      18.40   \n",
      "20     Chrysler        LeBaron  Compact  14.500000   15.8      17.10   \n",
      "21     Chrysler       Imperial    Large  29.500000   29.5      29.50   \n",
      "22        Dodge           Colt    Small   7.900000    9.2      10.60   \n",
      "23        Dodge         Shadow    Small   8.400000   11.3      14.20   \n",
      "24        Dodge         Spirit  Compact  11.900000   13.3      14.70   \n",
      "25        Dodge        Caravan      Van  17.118605   19.0      24.40   \n",
      "26        Dodge        Dynasty  Midsize  14.800000   15.6      16.40   \n",
      "27        Dodge        Stealth   Sporty  18.500000   25.8      33.10   \n",
      "28        Eagle         Summit    Small   7.900000   12.2      16.50   \n",
      "29        Eagle         Vision    Large  17.118605   19.3      21.20   \n",
      "..          ...            ...      ...        ...    ...        ...   \n",
      "63       Nissan         Sentra    Small   8.700000   11.8      14.90   \n",
      "64       Nissan         Altima  Compact  13.000000   15.7      18.30   \n",
      "65       Nissan          Quest      Van  16.700000   19.1      21.50   \n",
      "66       Nissan         Maxima  Midsize  21.000000   21.5      22.00   \n",
      "67   Oldsmobile        Achieva  Compact  13.000000   13.5      14.00   \n",
      "68   Oldsmobile  Cutlass_Ciera  Midsize  14.200000   16.3      18.40   \n",
      "69   Oldsmobile     Silhouette      Van  19.500000   19.5      19.50   \n",
      "70   Oldsmobile   Eighty-Eight    Large  19.500000   20.7      21.90   \n",
      "71     Plymouth          Laser   Sporty  11.400000   14.4      17.40   \n",
      "72      Pontiac         LeMans    Small  17.118605    9.0       9.90   \n",
      "73      Pontiac        Sunbird  Compact   9.400000   11.1      12.80   \n",
      "74      Pontiac       Firebird      NaN  14.000000   17.7      21.40   \n",
      "75      Pontiac     Grand_Prix  Midsize  15.400000   18.5      21.60   \n",
      "76      Pontiac     Bonneville    Large  19.400000   24.4      29.40   \n",
      "77         Saab            900  Compact  20.300000   28.7      37.10   \n",
      "78       Saturn             SL    Small   9.200000    NaN      12.90   \n",
      "79       Subaru          Justy    Small   7.300000    8.4       9.50   \n",
      "80       Subaru         Loyale    Small  10.500000   10.9      11.30   \n",
      "81       Subaru         Legacy  Compact  16.300000   19.5      22.70   \n",
      "82       Suzuki          Swift      NaN   7.300000    8.6      19.15   \n",
      "83       Toyota         Tercel    Small  17.118605    9.8      11.80   \n",
      "84       Toyota         Celica   Sporty  14.200000   18.4      22.60   \n",
      "85       Toyota          Camry  Midsize  15.200000    NaN      21.20   \n",
      "86       Toyota         Previa      Van  17.118605   22.7      26.60   \n",
      "87   Volkswagen            Fox    Small   8.700000    9.1       9.50   \n",
      "88   Volkswagen        Eurovan      Van  16.600000   19.7      22.70   \n",
      "89   Volkswagen         Passat  Compact  17.600000   20.0      22.40   \n",
      "90   Volkswagen        Corrado   Sporty  22.900000   23.3      23.70   \n",
      "91        Volvo            240  Compact  21.800000   22.7      23.50   \n",
      "92          NaN            850  Midsize  24.800000   26.7      28.50   \n",
      "\n",
      "    MPG.city  MPG.highway             AirBags DriveTrain  ... Passengers  \\\n",
      "0       25.0         31.0                None      Front  ...        5.0   \n",
      "1       18.0         25.0  Driver & Passenger      Front  ...        5.0   \n",
      "2       20.0         26.0         Driver only      Front  ...        5.0   \n",
      "3       19.0         26.0  Driver & Passenger        NaN  ...        6.0   \n",
      "4       22.0         30.0                 NaN       Rear  ...        4.0   \n",
      "5       22.0         31.0         Driver only        NaN  ...        6.0   \n",
      "6       19.0         28.0         Driver only      Front  ...        6.0   \n",
      "7       16.0         25.0         Driver only       Rear  ...        6.0   \n",
      "8       19.0         27.0         Driver only      Front  ...        5.0   \n",
      "9       16.0         25.0         Driver only      Front  ...        6.0   \n",
      "10      16.0         25.0  Driver & Passenger      Front  ...        5.0   \n",
      "11      25.0         36.0                 NaN        NaN  ...        5.0   \n",
      "12      25.0         34.0         Driver only      Front  ...        5.0   \n",
      "13      19.0         28.0  Driver & Passenger       Rear  ...        4.0   \n",
      "14       NaN         29.0                None      Front  ...        6.0   \n",
      "15      18.0         23.0                None      Front  ...        7.0   \n",
      "16      15.0         20.0                None        4WD  ...        8.0   \n",
      "17      17.0         26.0         Driver only       Rear  ...        6.0   \n",
      "18      17.0         25.0         Driver only       Rear  ...        2.0   \n",
      "19      20.0         28.0  Driver & Passenger      Front  ...        6.0   \n",
      "20      23.0         28.0  Driver & Passenger      Front  ...        6.0   \n",
      "21      20.0         26.0         Driver only      Front  ...        6.0   \n",
      "22      29.0         33.0                None      Front  ...        5.0   \n",
      "23      23.0         29.0         Driver only      Front  ...        5.0   \n",
      "24      22.0         27.0         Driver only      Front  ...        6.0   \n",
      "25      17.0         21.0         Driver only        4WD  ...        7.0   \n",
      "26      21.0          NaN         Driver only      Front  ...        6.0   \n",
      "27       NaN         24.0         Driver only        4WD  ...        4.0   \n",
      "28      29.0         33.0                None      Front  ...        5.0   \n",
      "29      20.0         28.0  Driver & Passenger      Front  ...        6.0   \n",
      "..       ...          ...                 ...        ...  ...        ...   \n",
      "63      29.0         33.0         Driver only      Front  ...        5.0   \n",
      "64      24.0         30.0         Driver only      Front  ...        5.0   \n",
      "65      17.0         23.0                None      Front  ...        7.0   \n",
      "66      21.0         26.0         Driver only      Front  ...        5.0   \n",
      "67      24.0         31.0                None      Front  ...        5.0   \n",
      "68      23.0         31.0         Driver only      Front  ...        5.0   \n",
      "69      18.0         23.0                None      Front  ...        7.0   \n",
      "70       NaN         28.0         Driver only      Front  ...        6.0   \n",
      "71       NaN         30.0                None        4WD  ...        4.0   \n",
      "72      31.0         41.0                None      Front  ...        4.0   \n",
      "73       NaN         31.0                None        NaN  ...        5.0   \n",
      "74      19.0         28.0  Driver & Passenger       Rear  ...        4.0   \n",
      "75      19.0         27.0                None      Front  ...        5.0   \n",
      "76      19.0         28.0  Driver & Passenger      Front  ...        6.0   \n",
      "77      20.0         26.0                 NaN      Front  ...        5.0   \n",
      "78       NaN         38.0         Driver only      Front  ...        5.0   \n",
      "79      33.0         37.0                None        4WD  ...        4.0   \n",
      "80      25.0         30.0                None        4WD  ...        5.0   \n",
      "81      23.0         30.0         Driver only        4WD  ...        5.0   \n",
      "82      39.0         43.0                None      Front  ...        4.0   \n",
      "83      32.0         37.0         Driver only      Front  ...        NaN   \n",
      "84      25.0         32.0                 NaN      Front  ...        4.0   \n",
      "85      22.0         29.0         Driver only        NaN  ...        5.0   \n",
      "86      18.0         22.0         Driver only        4WD  ...        7.0   \n",
      "87      25.0         33.0                None      Front  ...        4.0   \n",
      "88      17.0         21.0                None      Front  ...        7.0   \n",
      "89      21.0         30.0                None      Front  ...        5.0   \n",
      "90      18.0         25.0                None      Front  ...        4.0   \n",
      "91      21.0         28.0         Driver only       Rear  ...        5.0   \n",
      "92      20.0         28.0  Driver & Passenger      Front  ...        5.0   \n",
      "\n",
      "    Length  Wheelbase  Width  Turn.circle Rear.seat.room  Luggage.room  \\\n",
      "0    177.0      102.0   68.0         37.0           26.5           NaN   \n",
      "1    195.0      115.0   71.0         38.0           30.0          15.0   \n",
      "2    180.0      102.0   67.0         37.0           28.0          14.0   \n",
      "3    193.0      106.0    NaN         37.0           31.0          17.0   \n",
      "4    186.0      109.0   69.0         39.0           27.0          13.0   \n",
      "5    189.0      105.0   69.0         41.0           28.0          16.0   \n",
      "6    200.0      111.0   74.0         42.0           30.5          17.0   \n",
      "7    216.0      116.0   78.0         45.0           30.5          21.0   \n",
      "8    198.0      108.0    NaN         41.0           26.5          14.0   \n",
      "9    206.0      114.0   73.0         43.0           35.0          18.0   \n",
      "10   204.0      111.0   74.0         44.0           31.0           NaN   \n",
      "11   182.0      101.0   66.0         38.0           25.0          13.0   \n",
      "12   184.0      103.0   68.0         39.0           26.0           NaN   \n",
      "13   193.0      101.0   74.0         43.0           25.0          13.0   \n",
      "14     NaN      108.0   71.0          NaN           28.5          16.0   \n",
      "15   178.0      110.0   74.0         44.0           30.5           NaN   \n",
      "16   194.0      111.0   78.0         42.0           33.5           NaN   \n",
      "17   214.0      116.0   77.0         42.0           29.5          20.0   \n",
      "18   179.0       96.0   74.0         43.0            NaN           NaN   \n",
      "19   203.0      113.0   74.0          NaN           31.0          15.0   \n",
      "20   183.0      104.0   68.0         41.0           30.5          14.0   \n",
      "21   203.0      110.0   69.0         44.0           36.0          17.0   \n",
      "22   174.0       98.0   66.0         32.0            NaN          11.0   \n",
      "23   172.0       97.0   67.0         38.0           26.5           NaN   \n",
      "24   181.0      104.0   68.0         39.0           30.5           NaN   \n",
      "25   175.0      112.0   72.0         42.0           26.5           NaN   \n",
      "26   192.0      105.0   69.0         42.0           30.5          16.0   \n",
      "27   180.0       97.0    NaN         40.0           20.0          11.0   \n",
      "28   174.0       98.0   66.0         36.0           26.5          11.0   \n",
      "29   202.0      113.0   74.0         40.0           30.0          15.0   \n",
      "..     ...        ...    ...          ...            ...           ...   \n",
      "63   170.0       96.0   66.0         33.0           26.0           NaN   \n",
      "64   181.0      103.0   67.0         40.0           28.5          14.0   \n",
      "65   190.0      112.0   74.0         41.0           27.0           NaN   \n",
      "66   188.0      104.0   69.0         41.0           28.5          14.0   \n",
      "67   188.0      103.0   67.0         39.0           28.0          14.0   \n",
      "68   190.0      105.0   70.0         42.0           28.0          16.0   \n",
      "69     NaN      110.0   74.0         44.0           30.5           NaN   \n",
      "70   201.0      111.0   74.0         42.0           31.5          17.0   \n",
      "71   173.0       97.0   67.0         39.0           24.5           8.0   \n",
      "72   177.0       99.0   66.0         35.0           25.5          17.0   \n",
      "73   181.0      101.0   66.0         39.0           25.0          13.0   \n",
      "74   196.0      101.0   75.0         43.0           25.0          13.0   \n",
      "75   195.0      108.0   72.0         41.0           28.5          16.0   \n",
      "76   177.0      111.0   74.0         43.0           30.5          18.0   \n",
      "77     NaN       99.0   67.0         37.0           26.5          14.0   \n",
      "78   176.0      102.0   68.0         40.0           26.5           NaN   \n",
      "79   146.0       90.0   60.0         32.0           23.5          10.0   \n",
      "80   175.0       97.0   65.0         35.0           27.5          15.0   \n",
      "81   179.0      102.0   67.0         37.0           27.0          14.0   \n",
      "82   161.0       93.0    NaN         34.0           27.5          10.0   \n",
      "83   162.0       94.0    NaN         36.0           24.0          11.0   \n",
      "84   174.0       99.0   69.0          NaN           23.0          13.0   \n",
      "85   188.0      103.0   70.0         38.0           28.5          15.0   \n",
      "86   187.0      113.0   71.0         41.0           35.0           NaN   \n",
      "87   163.0       93.0   63.0         34.0           26.0          10.0   \n",
      "88   187.0      115.0   72.0         38.0           34.0           NaN   \n",
      "89   180.0      103.0   67.0         35.0           31.5          14.0   \n",
      "90   159.0       97.0   66.0         36.0           26.0          15.0   \n",
      "91   190.0      104.0   67.0         37.0           29.5          14.0   \n",
      "92   184.0      105.0   69.0         38.0           30.0          15.0   \n",
      "\n",
      "    Weight   Origin                      Make  \n",
      "0   2705.0  non-USA             Acura Integra  \n",
      "1   3560.0  non-USA              Acura Legend  \n",
      "2   3375.0  non-USA                   Audi 90  \n",
      "3   3405.0  non-USA                  Audi 100  \n",
      "4   3640.0  non-USA                  BMW 535i  \n",
      "5      NaN      USA             Buick Century  \n",
      "6   3470.0      USA             Buick LeSabre  \n",
      "7   4105.0      USA          Buick Roadmaster  \n",
      "8   3495.0      USA             Buick Riviera  \n",
      "9   3620.0      USA          Cadillac DeVille  \n",
      "10  3935.0      USA          Cadillac Seville  \n",
      "11  2490.0      USA        Chevrolet Cavalier  \n",
      "12  2785.0      USA         Chevrolet Corsica  \n",
      "13  3240.0      USA          Chevrolet Camaro  \n",
      "14  3195.0      USA          Chevrolet Lumina  \n",
      "15  3715.0      USA      Chevrolet Lumina_APV  \n",
      "16  4025.0      USA           Chevrolet Astro  \n",
      "17  3910.0      USA         Chevrolet Caprice  \n",
      "18  3380.0      NaN        Chevrolet Corvette  \n",
      "19  3515.0      USA         Chrylser Concorde  \n",
      "20  3085.0      USA          Chrysler LeBaron  \n",
      "21  3570.0      USA         Chrysler Imperial  \n",
      "22  2270.0      USA                Dodge Colt  \n",
      "23  2670.0      USA              Dodge Shadow  \n",
      "24  2970.0      USA              Dodge Spirit  \n",
      "25  3705.0      USA             Dodge Caravan  \n",
      "26  3080.0      USA             Dodge Dynasty  \n",
      "27  3805.0      USA             Dodge Stealth  \n",
      "28  2295.0      USA              Eagle Summit  \n",
      "29  3490.0      USA              Eagle Vision  \n",
      "..     ...      ...                       ...  \n",
      "63     NaN  non-USA             Nissan Sentra  \n",
      "64  3050.0  non-USA             Nissan Altima  \n",
      "65  4100.0  non-USA              Nissan Quest  \n",
      "66  3200.0  non-USA             Nissan Maxima  \n",
      "67  2910.0      USA        Oldsmobile Achieva  \n",
      "68  2890.0      USA  Oldsmobile Cutlass_Ciera  \n",
      "69  3715.0      USA     Oldsmobile Silhouette  \n",
      "70  3470.0      USA   Oldsmobile Eighty-Eight  \n",
      "71  2640.0      NaN            Plymouth Laser  \n",
      "72  2350.0      USA            Pontiac LeMans  \n",
      "73     NaN      USA                       NaN  \n",
      "74  3240.0      USA          Pontiac Firebird  \n",
      "75  3450.0      USA        Pontiac Grand_Prix  \n",
      "76  3495.0      USA        Pontiac Bonneville  \n",
      "77  2775.0  non-USA                  Saab 900  \n",
      "78  2495.0      USA                 Saturn SL  \n",
      "79  2045.0  non-USA              Subaru Justy  \n",
      "80  2490.0  non-USA             Subaru Loyale  \n",
      "81  3085.0  non-USA             Subaru Legacy  \n",
      "82  1965.0  non-USA              Suzuki Swift  \n",
      "83  2055.0  non-USA             Toyota Tercel  \n",
      "84  2950.0  non-USA             Toyota Celica  \n",
      "85  3030.0  non-USA              Toyota Camry  \n",
      "86  3785.0  non-USA             Toyota Previa  \n",
      "87  2240.0  non-USA            Volkswagen Fox  \n",
      "88  3960.0      NaN        Volkswagen Eurovan  \n",
      "89  2985.0  non-USA         Volkswagen Passat  \n",
      "90  2810.0  non-USA        Volkswagen Corrado  \n",
      "91  2985.0  non-USA                 Volvo 240  \n",
      "92  3245.0  non-USA                 Volvo 850  \n",
      "\n",
      "[93 rows x 27 columns]\n"
     ]
    }
   ],
   "source": [
    "# Input\n",
    "df = pd.read_csv('https://raw.githubusercontent.com/selva86/datasets/master/Cars93_miss.csv')\n",
    "\n",
    "# Solution\n",
    "d = {'Min.Price': np.nanmean, 'Max.Price': np.nanmedian}\n",
    "df[['Min.Price', 'Max.Price']] = df[['Min.Price', 'Max.Price']].apply(lambda x, d: x.fillna(d[x.name](x)), args=(d, ))\n",
    "# print(df)\n",
    "df_new = df.rename(columns = {'Min.Price': 'Min_Price', 'Max.Price': 'Max_Price'})\n",
    "print(df_new)"
   ]
  },
  {
   "cell_type": "code",
   "execution_count": 31,
   "metadata": {},
   "outputs": [
    {
     "name": "stdout",
     "output_type": "stream",
     "text": [
      "<function nanmean at 0x0000020E89FB6730> <function nanmedian at 0x0000020E89FB69D8>\n"
     ]
    }
   ],
   "source": [
    "print(np.nanmean, np.nanmedian)"
   ]
  },
  {
   "cell_type": "code",
   "execution_count": 32,
   "metadata": {},
   "outputs": [
    {
     "data": {
      "text/plain": [
       "17.11860465116279"
      ]
     },
     "execution_count": 32,
     "metadata": {},
     "output_type": "execute_result"
    }
   ],
   "source": [
    "df_new.Min_Price.mean()"
   ]
  },
  {
   "cell_type": "code",
   "execution_count": 33,
   "metadata": {},
   "outputs": [
    {
     "data": {
      "text/plain": [
       "19.15"
      ]
     },
     "execution_count": 33,
     "metadata": {},
     "output_type": "execute_result"
    }
   ],
   "source": [
    "df_new.Max_Price.median()"
   ]
  },
  {
   "cell_type": "code",
   "execution_count": 34,
   "metadata": {},
   "outputs": [
    {
     "data": {
      "text/plain": [
       "21.33494623655914"
      ]
     },
     "execution_count": 34,
     "metadata": {},
     "output_type": "execute_result"
    }
   ],
   "source": [
    "df_new.Max_Price.mean()"
   ]
  },
  {
   "cell_type": "markdown",
   "metadata": {},
   "source": [
    "## Exercise 44\n",
    "How to select a specificcolumn from a dataframe as a dataframe instead of a series.\n",
    "Get the first column (a) in df as a dataframe (rather than the series)"
   ]
  },
  {
   "cell_type": "code",
   "execution_count": 35,
   "metadata": {},
   "outputs": [
    {
     "name": "stdout",
     "output_type": "stream",
     "text": [
      "    a   b   c   d   e\n",
      "0   0   1   2   3   4\n",
      "1   5   6   7   8   9\n",
      "2  10  11  12  13  14\n",
      "3  15  16  17  18  19\n",
      "4  20  21  22  23  24\n",
      "5  25  26  27  28  29\n"
     ]
    }
   ],
   "source": [
    "df_44 = pd.DataFrame(np.arange(30).reshape(-1, 5), columns = list('abcde'))\n",
    "print(df_44)"
   ]
  },
  {
   "cell_type": "code",
   "execution_count": 36,
   "metadata": {},
   "outputs": [
    {
     "name": "stdout",
     "output_type": "stream",
     "text": [
      "<class 'pandas.core.series.Series'>\n",
      "<class 'pandas.core.series.Series'>\n",
      "0     0\n",
      "1     5\n",
      "2    10\n",
      "3    15\n",
      "4    20\n",
      "5    25\n",
      "Name: a, dtype: int32\n"
     ]
    }
   ],
   "source": [
    "print(type(df_44.a))\n",
    "print(type(df_44['a']))\n",
    "print(df_44['a'])\n",
    "\n",
    "# 2 Anotationen"
   ]
  },
  {
   "cell_type": "code",
   "execution_count": 37,
   "metadata": {},
   "outputs": [
    {
     "name": "stdout",
     "output_type": "stream",
     "text": [
      "<class 'pandas.core.frame.DataFrame'>\n",
      "    a\n",
      "0   0\n",
      "1   5\n",
      "2  10\n",
      "3  15\n",
      "4  20\n",
      "5  25\n"
     ]
    }
   ],
   "source": [
    "print(type(df_44.loc[:, ['a']]))\n",
    "print(df_44.loc[:, ['a']])"
   ]
  },
  {
   "cell_type": "code",
   "execution_count": 38,
   "metadata": {},
   "outputs": [
    {
     "name": "stdout",
     "output_type": "stream",
     "text": [
      "<class 'pandas.core.frame.DataFrame'>\n"
     ]
    },
    {
     "data": {
      "text/html": [
       "<div>\n",
       "<style scoped>\n",
       "    .dataframe tbody tr th:only-of-type {\n",
       "        vertical-align: middle;\n",
       "    }\n",
       "\n",
       "    .dataframe tbody tr th {\n",
       "        vertical-align: top;\n",
       "    }\n",
       "\n",
       "    .dataframe thead th {\n",
       "        text-align: right;\n",
       "    }\n",
       "</style>\n",
       "<table border=\"1\" class=\"dataframe\">\n",
       "  <thead>\n",
       "    <tr style=\"text-align: right;\">\n",
       "      <th></th>\n",
       "      <th>a</th>\n",
       "    </tr>\n",
       "  </thead>\n",
       "  <tbody>\n",
       "    <tr>\n",
       "      <th>0</th>\n",
       "      <td>0</td>\n",
       "    </tr>\n",
       "    <tr>\n",
       "      <th>1</th>\n",
       "      <td>5</td>\n",
       "    </tr>\n",
       "    <tr>\n",
       "      <th>2</th>\n",
       "      <td>10</td>\n",
       "    </tr>\n",
       "    <tr>\n",
       "      <th>3</th>\n",
       "      <td>15</td>\n",
       "    </tr>\n",
       "    <tr>\n",
       "      <th>4</th>\n",
       "      <td>20</td>\n",
       "    </tr>\n",
       "    <tr>\n",
       "      <th>5</th>\n",
       "      <td>25</td>\n",
       "    </tr>\n",
       "  </tbody>\n",
       "</table>\n",
       "</div>"
      ],
      "text/plain": [
       "    a\n",
       "0   0\n",
       "1   5\n",
       "2  10\n",
       "3  15\n",
       "4  20\n",
       "5  25"
      ]
     },
     "execution_count": 38,
     "metadata": {},
     "output_type": "execute_result"
    }
   ],
   "source": [
    "print(type(df_44.iloc[:, [0]]))\n",
    "df_44.iloc[:, [0]]"
   ]
  },
  {
   "cell_type": "code",
   "execution_count": 39,
   "metadata": {},
   "outputs": [
    {
     "name": "stdout",
     "output_type": "stream",
     "text": [
      "<class 'pandas.core.series.Series'>\n",
      "<class 'pandas.core.series.Series'>\n",
      "<class 'pandas.core.series.Series'>\n",
      "<class 'pandas.core.series.Series'>\n"
     ]
    }
   ],
   "source": [
    "# Alternately the following returns a Series\n",
    "print(type(df_44.a))\n",
    "print(type(df_44['a']))\n",
    "print(type(df_44.loc[:, 'a']))\n",
    "print(type(df_44.iloc[:, 1]))"
   ]
  },
  {
   "cell_type": "code",
   "execution_count": 40,
   "metadata": {},
   "outputs": [
    {
     "name": "stdout",
     "output_type": "stream",
     "text": [
      "0     0\n",
      "1     5\n",
      "2    10\n",
      "3    15\n",
      "4    20\n",
      "5    25\n",
      "Name: a, dtype: int32\n",
      "0     0\n",
      "1     5\n",
      "2    10\n",
      "3    15\n",
      "4    20\n",
      "5    25\n",
      "Name: a, dtype: int32\n",
      "0     0\n",
      "1     5\n",
      "2    10\n",
      "3    15\n",
      "4    20\n",
      "5    25\n",
      "Name: a, dtype: int32\n",
      "0     1\n",
      "1     6\n",
      "2    11\n",
      "3    16\n",
      "4    21\n",
      "5    26\n",
      "Name: b, dtype: int32\n"
     ]
    }
   ],
   "source": [
    "# Alternately the following returns a Series\n",
    "print(df_44.a)\n",
    "print(df_44['a'])\n",
    "print(df_44.loc[:, 'a'])\n",
    "print(df_44.iloc[:, 1])"
   ]
  },
  {
   "cell_type": "markdown",
   "metadata": {},
   "source": [
    "## Exercise 45\n",
    "How to change the order of columns within a DataFrame\n",
    "1.) Change columns a and c \n",
    "2.) Create generic function to interchange 2 columns without hardcoding the column names\n",
    "3.) Sort the columns in reverse alphabetical order meaning 'e' first and 'a' the last"
   ]
  },
  {
   "cell_type": "code",
   "execution_count": 41,
   "metadata": {},
   "outputs": [
    {
     "name": "stdout",
     "output_type": "stream",
     "text": [
      "    a   b   c   d   e\n",
      "0   0   1   2   3   4\n",
      "1   5   6   7   8   9\n",
      "2  10  11  12  13  14\n",
      "3  15  16  17  18  19\n",
      "4  20  21  22  23  24\n",
      "5  25  26  27  28  29\n",
      "6  30  31  32  33  34\n",
      "7  35  36  37  38  39\n"
     ]
    }
   ],
   "source": [
    "df_45 = pd.DataFrame(np.arange(40).reshape(-1, 5), columns=list('abcde'))\n",
    "print(df_45)"
   ]
  },
  {
   "cell_type": "code",
   "execution_count": 42,
   "metadata": {},
   "outputs": [
    {
     "data": {
      "text/html": [
       "<div>\n",
       "<style scoped>\n",
       "    .dataframe tbody tr th:only-of-type {\n",
       "        vertical-align: middle;\n",
       "    }\n",
       "\n",
       "    .dataframe tbody tr th {\n",
       "        vertical-align: top;\n",
       "    }\n",
       "\n",
       "    .dataframe thead th {\n",
       "        text-align: right;\n",
       "    }\n",
       "</style>\n",
       "<table border=\"1\" class=\"dataframe\">\n",
       "  <thead>\n",
       "    <tr style=\"text-align: right;\">\n",
       "      <th></th>\n",
       "      <th>c</th>\n",
       "      <th>b</th>\n",
       "      <th>a</th>\n",
       "      <th>d</th>\n",
       "      <th>e</th>\n",
       "    </tr>\n",
       "  </thead>\n",
       "  <tbody>\n",
       "    <tr>\n",
       "      <th>0</th>\n",
       "      <td>2</td>\n",
       "      <td>1</td>\n",
       "      <td>0</td>\n",
       "      <td>3</td>\n",
       "      <td>4</td>\n",
       "    </tr>\n",
       "    <tr>\n",
       "      <th>1</th>\n",
       "      <td>7</td>\n",
       "      <td>6</td>\n",
       "      <td>5</td>\n",
       "      <td>8</td>\n",
       "      <td>9</td>\n",
       "    </tr>\n",
       "    <tr>\n",
       "      <th>2</th>\n",
       "      <td>12</td>\n",
       "      <td>11</td>\n",
       "      <td>10</td>\n",
       "      <td>13</td>\n",
       "      <td>14</td>\n",
       "    </tr>\n",
       "    <tr>\n",
       "      <th>3</th>\n",
       "      <td>17</td>\n",
       "      <td>16</td>\n",
       "      <td>15</td>\n",
       "      <td>18</td>\n",
       "      <td>19</td>\n",
       "    </tr>\n",
       "    <tr>\n",
       "      <th>4</th>\n",
       "      <td>22</td>\n",
       "      <td>21</td>\n",
       "      <td>20</td>\n",
       "      <td>23</td>\n",
       "      <td>24</td>\n",
       "    </tr>\n",
       "    <tr>\n",
       "      <th>5</th>\n",
       "      <td>27</td>\n",
       "      <td>26</td>\n",
       "      <td>25</td>\n",
       "      <td>28</td>\n",
       "      <td>29</td>\n",
       "    </tr>\n",
       "    <tr>\n",
       "      <th>6</th>\n",
       "      <td>32</td>\n",
       "      <td>31</td>\n",
       "      <td>30</td>\n",
       "      <td>33</td>\n",
       "      <td>34</td>\n",
       "    </tr>\n",
       "    <tr>\n",
       "      <th>7</th>\n",
       "      <td>37</td>\n",
       "      <td>36</td>\n",
       "      <td>35</td>\n",
       "      <td>38</td>\n",
       "      <td>39</td>\n",
       "    </tr>\n",
       "  </tbody>\n",
       "</table>\n",
       "</div>"
      ],
      "text/plain": [
       "    c   b   a   d   e\n",
       "0   2   1   0   3   4\n",
       "1   7   6   5   8   9\n",
       "2  12  11  10  13  14\n",
       "3  17  16  15  18  19\n",
       "4  22  21  20  23  24\n",
       "5  27  26  25  28  29\n",
       "6  32  31  30  33  34\n",
       "7  37  36  35  38  39"
      ]
     },
     "execution_count": 42,
     "metadata": {},
     "output_type": "execute_result"
    }
   ],
   "source": [
    "df_45[list('cbade')]"
   ]
  },
  {
   "cell_type": "code",
   "execution_count": 43,
   "metadata": {},
   "outputs": [
    {
     "name": "stdout",
     "output_type": "stream",
     "text": [
      "    c   b   a   d   e\n",
      "0   2   1   0   3   4\n",
      "1   7   6   5   8   9\n",
      "2  12  11  10  13  14\n",
      "3  17  16  15  18  19\n",
      "4  22  21  20  23  24\n",
      "5  27  26  25  28  29\n",
      "6  32  31  30  33  34\n",
      "7  37  36  35  38  39\n"
     ]
    }
   ],
   "source": [
    "df_45 = pd.DataFrame(np.arange(40).reshape(-1, 5), columns=list('abcde'))\n",
    "\n",
    "def switch_columns(df, col1=None, col2=None):\n",
    "    colnames = df.columns.tolist()\n",
    "    i1, i2 = colnames.index(col1), colnames.index(col2)\n",
    "    colnames[i2], colnames[i1] = colnames[i1], colnames[i2]\n",
    "    return df[colnames]\n",
    "\n",
    "df_45a = switch_columns(df_45, 'a', 'c')\n",
    "print(df_45a)"
   ]
  },
  {
   "cell_type": "code",
   "execution_count": 44,
   "metadata": {},
   "outputs": [
    {
     "name": "stdout",
     "output_type": "stream",
     "text": [
      "    a   b   c   d   e\n",
      "0   0   1   2   3   4\n",
      "1   5   6   7   8   9\n",
      "2  10  11  12  13  14\n",
      "3  15  16  17  18  19\n",
      "4  20  21  22  23  24\n",
      "5  25  26  27  28  29\n",
      "6  30  31  32  33  34\n",
      "7  35  36  37  38  39\n"
     ]
    }
   ],
   "source": [
    "df_45_sorted = df_45[sorted(df_45.columns)]\n",
    "print(df_45_sorted)"
   ]
  },
  {
   "cell_type": "code",
   "execution_count": 45,
   "metadata": {},
   "outputs": [],
   "source": [
    "df_45_sorted2 = df_45.sort_index(axis=1, ascending = False, inplace=False)"
   ]
  },
  {
   "cell_type": "code",
   "execution_count": 47,
   "metadata": {},
   "outputs": [
    {
     "name": "stdout",
     "output_type": "stream",
     "text": [
      "    a   b   c   d   e\n",
      "0   0   1   2   3   4\n",
      "1   5   6   7   8   9\n",
      "2  10  11  12  13  14\n",
      "3  15  16  17  18  19\n",
      "4  20  21  22  23  24\n",
      "5  25  26  27  28  29\n",
      "6  30  31  32  33  34\n",
      "7  35  36  37  38  39\n",
      "    e   d   c   b   a\n",
      "0   4   3   2   1   0\n",
      "1   9   8   7   6   5\n",
      "2  14  13  12  11  10\n",
      "3  19  18  17  16  15\n",
      "4  24  23  22  21  20\n",
      "5  29  28  27  26  25\n",
      "6  34  33  32  31  30\n",
      "7  39  38  37  36  35\n"
     ]
    }
   ],
   "source": [
    "print(df_45)\n",
    "print(df_45_sorted2)"
   ]
  },
  {
   "cell_type": "markdown",
   "metadata": {},
   "source": [
    "## Exercise 46\n",
    "How to set the number of rows and columns displayed in the output?\n",
    "Show at max 10 rows and 10 columns"
   ]
  },
  {
   "cell_type": "code",
   "execution_count": 48,
   "metadata": {},
   "outputs": [],
   "source": [
    "df_46 = pd.read_csv(\"https://raw.githubusercontent.com/selva86/datasets/master/Cars93_miss.csv\")"
   ]
  },
  {
   "cell_type": "code",
   "execution_count": 51,
   "metadata": {},
   "outputs": [
    {
     "data": {
      "text/html": [
       "<div>\n",
       "<style scoped>\n",
       "    .dataframe tbody tr th:only-of-type {\n",
       "        vertical-align: middle;\n",
       "    }\n",
       "\n",
       "    .dataframe tbody tr th {\n",
       "        vertical-align: top;\n",
       "    }\n",
       "\n",
       "    .dataframe thead th {\n",
       "        text-align: right;\n",
       "    }\n",
       "</style>\n",
       "<table border=\"1\" class=\"dataframe\">\n",
       "  <thead>\n",
       "    <tr style=\"text-align: right;\">\n",
       "      <th></th>\n",
       "      <th>Manufacturer</th>\n",
       "      <th>Model</th>\n",
       "      <th>Type</th>\n",
       "      <th>Min.Price</th>\n",
       "      <th>Price</th>\n",
       "      <th>Max.Price</th>\n",
       "      <th>MPG.city</th>\n",
       "      <th>...</th>\n",
       "      <th>Width</th>\n",
       "      <th>Turn.circle</th>\n",
       "      <th>Rear.seat.room</th>\n",
       "      <th>Luggage.room</th>\n",
       "      <th>Weight</th>\n",
       "      <th>Origin</th>\n",
       "      <th>Make</th>\n",
       "    </tr>\n",
       "  </thead>\n",
       "  <tbody>\n",
       "    <tr>\n",
       "      <th>0</th>\n",
       "      <td>Acura</td>\n",
       "      <td>Integra</td>\n",
       "      <td>Small</td>\n",
       "      <td>12.9</td>\n",
       "      <td>15.9</td>\n",
       "      <td>18.8</td>\n",
       "      <td>25.0</td>\n",
       "      <td>...</td>\n",
       "      <td>68.0</td>\n",
       "      <td>37.0</td>\n",
       "      <td>26.5</td>\n",
       "      <td>NaN</td>\n",
       "      <td>2705.0</td>\n",
       "      <td>non-USA</td>\n",
       "      <td>Acura Integra</td>\n",
       "    </tr>\n",
       "    <tr>\n",
       "      <th>1</th>\n",
       "      <td>NaN</td>\n",
       "      <td>Legend</td>\n",
       "      <td>Midsize</td>\n",
       "      <td>29.2</td>\n",
       "      <td>33.9</td>\n",
       "      <td>38.7</td>\n",
       "      <td>18.0</td>\n",
       "      <td>...</td>\n",
       "      <td>71.0</td>\n",
       "      <td>38.0</td>\n",
       "      <td>30.0</td>\n",
       "      <td>15.0</td>\n",
       "      <td>3560.0</td>\n",
       "      <td>non-USA</td>\n",
       "      <td>Acura Legend</td>\n",
       "    </tr>\n",
       "    <tr>\n",
       "      <th>2</th>\n",
       "      <td>Audi</td>\n",
       "      <td>90</td>\n",
       "      <td>Compact</td>\n",
       "      <td>25.9</td>\n",
       "      <td>29.1</td>\n",
       "      <td>32.3</td>\n",
       "      <td>20.0</td>\n",
       "      <td>...</td>\n",
       "      <td>67.0</td>\n",
       "      <td>37.0</td>\n",
       "      <td>28.0</td>\n",
       "      <td>14.0</td>\n",
       "      <td>3375.0</td>\n",
       "      <td>non-USA</td>\n",
       "      <td>Audi 90</td>\n",
       "    </tr>\n",
       "    <tr>\n",
       "      <th>3</th>\n",
       "      <td>Audi</td>\n",
       "      <td>100</td>\n",
       "      <td>Midsize</td>\n",
       "      <td>NaN</td>\n",
       "      <td>37.7</td>\n",
       "      <td>44.6</td>\n",
       "      <td>19.0</td>\n",
       "      <td>...</td>\n",
       "      <td>NaN</td>\n",
       "      <td>37.0</td>\n",
       "      <td>31.0</td>\n",
       "      <td>17.0</td>\n",
       "      <td>3405.0</td>\n",
       "      <td>non-USA</td>\n",
       "      <td>Audi 100</td>\n",
       "    </tr>\n",
       "    <tr>\n",
       "      <th>...</th>\n",
       "      <td>...</td>\n",
       "      <td>...</td>\n",
       "      <td>...</td>\n",
       "      <td>...</td>\n",
       "      <td>...</td>\n",
       "      <td>...</td>\n",
       "      <td>...</td>\n",
       "      <td>...</td>\n",
       "      <td>...</td>\n",
       "      <td>...</td>\n",
       "      <td>...</td>\n",
       "      <td>...</td>\n",
       "      <td>...</td>\n",
       "      <td>...</td>\n",
       "      <td>...</td>\n",
       "    </tr>\n",
       "    <tr>\n",
       "      <th>89</th>\n",
       "      <td>Volkswagen</td>\n",
       "      <td>Passat</td>\n",
       "      <td>Compact</td>\n",
       "      <td>17.6</td>\n",
       "      <td>20.0</td>\n",
       "      <td>22.4</td>\n",
       "      <td>21.0</td>\n",
       "      <td>...</td>\n",
       "      <td>67.0</td>\n",
       "      <td>35.0</td>\n",
       "      <td>31.5</td>\n",
       "      <td>14.0</td>\n",
       "      <td>2985.0</td>\n",
       "      <td>non-USA</td>\n",
       "      <td>Volkswagen Passat</td>\n",
       "    </tr>\n",
       "    <tr>\n",
       "      <th>90</th>\n",
       "      <td>Volkswagen</td>\n",
       "      <td>Corrado</td>\n",
       "      <td>Sporty</td>\n",
       "      <td>22.9</td>\n",
       "      <td>23.3</td>\n",
       "      <td>23.7</td>\n",
       "      <td>18.0</td>\n",
       "      <td>...</td>\n",
       "      <td>66.0</td>\n",
       "      <td>36.0</td>\n",
       "      <td>26.0</td>\n",
       "      <td>15.0</td>\n",
       "      <td>2810.0</td>\n",
       "      <td>non-USA</td>\n",
       "      <td>Volkswagen Corrado</td>\n",
       "    </tr>\n",
       "    <tr>\n",
       "      <th>91</th>\n",
       "      <td>Volvo</td>\n",
       "      <td>240</td>\n",
       "      <td>Compact</td>\n",
       "      <td>21.8</td>\n",
       "      <td>22.7</td>\n",
       "      <td>23.5</td>\n",
       "      <td>21.0</td>\n",
       "      <td>...</td>\n",
       "      <td>67.0</td>\n",
       "      <td>37.0</td>\n",
       "      <td>29.5</td>\n",
       "      <td>14.0</td>\n",
       "      <td>2985.0</td>\n",
       "      <td>non-USA</td>\n",
       "      <td>Volvo 240</td>\n",
       "    </tr>\n",
       "    <tr>\n",
       "      <th>92</th>\n",
       "      <td>NaN</td>\n",
       "      <td>850</td>\n",
       "      <td>Midsize</td>\n",
       "      <td>24.8</td>\n",
       "      <td>26.7</td>\n",
       "      <td>28.5</td>\n",
       "      <td>20.0</td>\n",
       "      <td>...</td>\n",
       "      <td>69.0</td>\n",
       "      <td>38.0</td>\n",
       "      <td>30.0</td>\n",
       "      <td>15.0</td>\n",
       "      <td>3245.0</td>\n",
       "      <td>non-USA</td>\n",
       "      <td>Volvo 850</td>\n",
       "    </tr>\n",
       "  </tbody>\n",
       "</table>\n",
       "<p>93 rows × 27 columns</p>\n",
       "</div>"
      ],
      "text/plain": [
       "   Manufacturer    Model     Type  Min.Price  Price  Max.Price  MPG.city  ...  \\\n",
       "0         Acura  Integra    Small       12.9   15.9       18.8      25.0  ...   \n",
       "1           NaN   Legend  Midsize       29.2   33.9       38.7      18.0  ...   \n",
       "2          Audi       90  Compact       25.9   29.1       32.3      20.0  ...   \n",
       "3          Audi      100  Midsize        NaN   37.7       44.6      19.0  ...   \n",
       "..          ...      ...      ...        ...    ...        ...       ...  ...   \n",
       "89   Volkswagen   Passat  Compact       17.6   20.0       22.4      21.0  ...   \n",
       "90   Volkswagen  Corrado   Sporty       22.9   23.3       23.7      18.0  ...   \n",
       "91        Volvo      240  Compact       21.8   22.7       23.5      21.0  ...   \n",
       "92          NaN      850  Midsize       24.8   26.7       28.5      20.0  ...   \n",
       "\n",
       "    Width Turn.circle Rear.seat.room Luggage.room  Weight   Origin  \\\n",
       "0    68.0        37.0           26.5          NaN  2705.0  non-USA   \n",
       "1    71.0        38.0           30.0         15.0  3560.0  non-USA   \n",
       "2    67.0        37.0           28.0         14.0  3375.0  non-USA   \n",
       "3     NaN        37.0           31.0         17.0  3405.0  non-USA   \n",
       "..    ...         ...            ...          ...     ...      ...   \n",
       "89   67.0        35.0           31.5         14.0  2985.0  non-USA   \n",
       "90   66.0        36.0           26.0         15.0  2810.0  non-USA   \n",
       "91   67.0        37.0           29.5         14.0  2985.0  non-USA   \n",
       "92   69.0        38.0           30.0         15.0  3245.0  non-USA   \n",
       "\n",
       "                  Make  \n",
       "0        Acura Integra  \n",
       "1         Acura Legend  \n",
       "2              Audi 90  \n",
       "3             Audi 100  \n",
       "..                 ...  \n",
       "89   Volkswagen Passat  \n",
       "90  Volkswagen Corrado  \n",
       "91           Volvo 240  \n",
       "92           Volvo 850  \n",
       "\n",
       "[93 rows x 27 columns]"
      ]
     },
     "execution_count": 51,
     "metadata": {},
     "output_type": "execute_result"
    }
   ],
   "source": [
    "# Solution\n",
    "pd.set_option('display.max_columns', 14)\n",
    "pd.set_option('display.max_rows', 8)\n",
    "# df\n",
    "\n",
    "# Show all available options\n",
    "# pd.describe_option()\n",
    "\n",
    "df_46"
   ]
  },
  {
   "cell_type": "markdown",
   "metadata": {},
   "source": [
    "## Exercise 47\n",
    "\n",
    "How to format or suppress scientific notations in a pandas dataframe?\n",
    "suppress scientific notations like ‘e-03’ in df and print upto 4 numbers after decimal.\n",
    "\n",
    "df = pd.DataFrame(np.random.random(4)**10, columns=['random'])\n",
    "df\n",
    "#>          random\n",
    "#> 0  3.474280e-03\n",
    "#> 1  3.951517e-05\n",
    "#> 2  7.469702e-02\n",
    "#> 3  5.541282e-28\n",
    "\n",
    "Desired Output\n",
    "\n",
    "#>    random\n",
    "#> 0  0.0035\n",
    "#> 1  0.0000\n",
    "#> 2  0.0747\n",
    "#> 3  0.0000"
   ]
  },
  {
   "cell_type": "code",
   "execution_count": 52,
   "metadata": {},
   "outputs": [
    {
     "data": {
      "text/html": [
       "<div>\n",
       "<style scoped>\n",
       "    .dataframe tbody tr th:only-of-type {\n",
       "        vertical-align: middle;\n",
       "    }\n",
       "\n",
       "    .dataframe tbody tr th {\n",
       "        vertical-align: top;\n",
       "    }\n",
       "\n",
       "    .dataframe thead th {\n",
       "        text-align: right;\n",
       "    }\n",
       "</style>\n",
       "<table border=\"1\" class=\"dataframe\">\n",
       "  <thead>\n",
       "    <tr style=\"text-align: right;\">\n",
       "      <th></th>\n",
       "      <th>random</th>\n",
       "    </tr>\n",
       "  </thead>\n",
       "  <tbody>\n",
       "    <tr>\n",
       "      <th>0</th>\n",
       "      <td>3.716159e-02</td>\n",
       "    </tr>\n",
       "    <tr>\n",
       "      <th>1</th>\n",
       "      <td>2.093805e-21</td>\n",
       "    </tr>\n",
       "    <tr>\n",
       "      <th>2</th>\n",
       "      <td>1.106730e-01</td>\n",
       "    </tr>\n",
       "    <tr>\n",
       "      <th>3</th>\n",
       "      <td>4.607573e-01</td>\n",
       "    </tr>\n",
       "  </tbody>\n",
       "</table>\n",
       "</div>"
      ],
      "text/plain": [
       "         random\n",
       "0  3.716159e-02\n",
       "1  2.093805e-21\n",
       "2  1.106730e-01\n",
       "3  4.607573e-01"
      ]
     },
     "execution_count": 52,
     "metadata": {},
     "output_type": "execute_result"
    }
   ],
   "source": [
    "df_47 = pd.DataFrame(np.random.random(4)**10, columns=['random'])\n",
    "df_47"
   ]
  },
  {
   "cell_type": "code",
   "execution_count": 53,
   "metadata": {},
   "outputs": [
    {
     "data": {
      "text/html": [
       "<div>\n",
       "<style scoped>\n",
       "    .dataframe tbody tr th:only-of-type {\n",
       "        vertical-align: middle;\n",
       "    }\n",
       "\n",
       "    .dataframe tbody tr th {\n",
       "        vertical-align: top;\n",
       "    }\n",
       "\n",
       "    .dataframe thead th {\n",
       "        text-align: right;\n",
       "    }\n",
       "</style>\n",
       "<table border=\"1\" class=\"dataframe\">\n",
       "  <thead>\n",
       "    <tr style=\"text-align: right;\">\n",
       "      <th></th>\n",
       "      <th>random</th>\n",
       "    </tr>\n",
       "  </thead>\n",
       "  <tbody>\n",
       "    <tr>\n",
       "      <th>0</th>\n",
       "      <td>0.0372</td>\n",
       "    </tr>\n",
       "    <tr>\n",
       "      <th>1</th>\n",
       "      <td>0.0000</td>\n",
       "    </tr>\n",
       "    <tr>\n",
       "      <th>2</th>\n",
       "      <td>0.1107</td>\n",
       "    </tr>\n",
       "    <tr>\n",
       "      <th>3</th>\n",
       "      <td>0.4608</td>\n",
       "    </tr>\n",
       "  </tbody>\n",
       "</table>\n",
       "</div>"
      ],
      "text/plain": [
       "   random\n",
       "0  0.0372\n",
       "1  0.0000\n",
       "2  0.1107\n",
       "3  0.4608"
      ]
     },
     "execution_count": 53,
     "metadata": {},
     "output_type": "execute_result"
    }
   ],
   "source": [
    "# Solution 1: Rounding\n",
    "df_47.round(4)"
   ]
  },
  {
   "cell_type": "code",
   "execution_count": 56,
   "metadata": {},
   "outputs": [
    {
     "data": {
      "text/html": [
       "<div>\n",
       "<style scoped>\n",
       "    .dataframe tbody tr th:only-of-type {\n",
       "        vertical-align: middle;\n",
       "    }\n",
       "\n",
       "    .dataframe tbody tr th {\n",
       "        vertical-align: top;\n",
       "    }\n",
       "\n",
       "    .dataframe thead th {\n",
       "        text-align: right;\n",
       "    }\n",
       "</style>\n",
       "<table border=\"1\" class=\"dataframe\">\n",
       "  <thead>\n",
       "    <tr style=\"text-align: right;\">\n",
       "      <th></th>\n",
       "      <th>random</th>\n",
       "    </tr>\n",
       "  </thead>\n",
       "  <tbody>\n",
       "    <tr>\n",
       "      <th>0</th>\n",
       "      <td>0.0372</td>\n",
       "    </tr>\n",
       "    <tr>\n",
       "      <th>1</th>\n",
       "      <td>0.0000</td>\n",
       "    </tr>\n",
       "    <tr>\n",
       "      <th>2</th>\n",
       "      <td>0.1107</td>\n",
       "    </tr>\n",
       "    <tr>\n",
       "      <th>3</th>\n",
       "      <td>0.4608</td>\n",
       "    </tr>\n",
       "  </tbody>\n",
       "</table>\n",
       "</div>"
      ],
      "text/plain": [
       "   random\n",
       "0  0.0372\n",
       "1  0.0000\n",
       "2  0.1107\n",
       "3  0.4608"
      ]
     },
     "execution_count": 56,
     "metadata": {},
     "output_type": "execute_result"
    }
   ],
   "source": [
    "# Solution 2: Use apply to change format\n",
    "df_47.apply(lambda x: '%.4f' % x, axis=1)\n",
    "# or\n",
    "df_47.applymap(lambda x: '%.4f' % x)\n"
   ]
  },
  {
   "cell_type": "code",
   "execution_count": 57,
   "metadata": {},
   "outputs": [
    {
     "data": {
      "text/html": [
       "<div>\n",
       "<style scoped>\n",
       "    .dataframe tbody tr th:only-of-type {\n",
       "        vertical-align: middle;\n",
       "    }\n",
       "\n",
       "    .dataframe tbody tr th {\n",
       "        vertical-align: top;\n",
       "    }\n",
       "\n",
       "    .dataframe thead th {\n",
       "        text-align: right;\n",
       "    }\n",
       "</style>\n",
       "<table border=\"1\" class=\"dataframe\">\n",
       "  <thead>\n",
       "    <tr style=\"text-align: right;\">\n",
       "      <th></th>\n",
       "      <th>random</th>\n",
       "    </tr>\n",
       "  </thead>\n",
       "  <tbody>\n",
       "    <tr>\n",
       "      <th>0</th>\n",
       "      <td>0.0372</td>\n",
       "    </tr>\n",
       "    <tr>\n",
       "      <th>1</th>\n",
       "      <td>0.0000</td>\n",
       "    </tr>\n",
       "    <tr>\n",
       "      <th>2</th>\n",
       "      <td>0.1107</td>\n",
       "    </tr>\n",
       "    <tr>\n",
       "      <th>3</th>\n",
       "      <td>0.4608</td>\n",
       "    </tr>\n",
       "  </tbody>\n",
       "</table>\n",
       "</div>"
      ],
      "text/plain": [
       "   random\n",
       "0  0.0372\n",
       "1  0.0000\n",
       "2  0.1107\n",
       "3  0.4608"
      ]
     },
     "execution_count": 57,
     "metadata": {},
     "output_type": "execute_result"
    }
   ],
   "source": [
    "# Solution 3: Use set_option\n",
    "pd.set_option('display.float_format', lambda x: '%.4f' % x)\n",
    "df_47"
   ]
  },
  {
   "cell_type": "code",
   "execution_count": 59,
   "metadata": {},
   "outputs": [
    {
     "name": "stdout",
     "output_type": "stream",
     "text": [
      "   random\n",
      "0  0.0372\n",
      "1  0.0000\n",
      "2  0.1107\n",
      "3  0.4608\n"
     ]
    }
   ],
   "source": [
    "# Solution 4: Assign display.float_format\n",
    "pd.options.display.float_format = '{:.4f}'.format\n",
    "print(df_47)\n",
    "\n",
    "# Reset/undo float formatting\n",
    "pd.options.display.float_format = None"
   ]
  },
  {
   "cell_type": "markdown",
   "metadata": {},
   "source": [
    "## Exercise 48 \n",
    "\n",
    "How to format all the values in a dataframe as percentages?\n",
    "\n",
    "Difficulty Level: L2\n",
    "\n",
    "Format the values in column 'random' of df as percentages.\n",
    "\n",
    "Input\n",
    "\n",
    "df = pd.DataFrame(np.random.random(4), columns=['random'])"
   ]
  },
  {
   "cell_type": "code",
   "execution_count": 61,
   "metadata": {},
   "outputs": [
    {
     "data": {
      "text/html": [
       "<style  type=\"text/css\" >\n",
       "</style><table id=\"T_1c5d81b6_da65_11ea_9d3f_f83441409b14\" ><thead>    <tr>        <th class=\"blank level0\" ></th>        <th class=\"col_heading level0 col0\" >random</th>    </tr></thead><tbody>\n",
       "                <tr>\n",
       "                        <th id=\"T_1c5d81b6_da65_11ea_9d3f_f83441409b14level0_row0\" class=\"row_heading level0 row0\" >0</th>\n",
       "                        <td id=\"T_1c5d81b6_da65_11ea_9d3f_f83441409b14row0_col0\" class=\"data row0 col0\" >74.29%</td>\n",
       "            </tr>\n",
       "            <tr>\n",
       "                        <th id=\"T_1c5d81b6_da65_11ea_9d3f_f83441409b14level0_row1\" class=\"row_heading level0 row1\" >1</th>\n",
       "                        <td id=\"T_1c5d81b6_da65_11ea_9d3f_f83441409b14row1_col0\" class=\"data row1 col0\" >0.98%</td>\n",
       "            </tr>\n",
       "            <tr>\n",
       "                        <th id=\"T_1c5d81b6_da65_11ea_9d3f_f83441409b14level0_row2\" class=\"row_heading level0 row2\" >2</th>\n",
       "                        <td id=\"T_1c5d81b6_da65_11ea_9d3f_f83441409b14row2_col0\" class=\"data row2 col0\" >23.49%</td>\n",
       "            </tr>\n",
       "            <tr>\n",
       "                        <th id=\"T_1c5d81b6_da65_11ea_9d3f_f83441409b14level0_row3\" class=\"row_heading level0 row3\" >3</th>\n",
       "                        <td id=\"T_1c5d81b6_da65_11ea_9d3f_f83441409b14row3_col0\" class=\"data row3 col0\" >59.45%</td>\n",
       "            </tr>\n",
       "    </tbody></table>"
      ],
      "text/plain": [
       "<pandas.io.formats.style.Styler at 0x20e8c6b9198>"
      ]
     },
     "execution_count": 61,
     "metadata": {},
     "output_type": "execute_result"
    }
   ],
   "source": [
    "df_48 = pd.DataFrame(np.random.random(4), columns=['random'])\n",
    "\n",
    "# Solution\n",
    "out = df_48.style.format({\n",
    "    'random': '{0:.2%}'.format,\n",
    "})\n",
    "\n",
    "out"
   ]
  },
  {
   "cell_type": "markdown",
   "metadata": {},
   "source": [
    "## Exercise 49\n",
    "\n",
    "How to filter every nth row in a dataframe?\n",
    "\n",
    "Difficulty Level: L1\n",
    "\n",
    "From df, filter the 'Manufacturer', 'Model' and 'Type' for every 20th row starting from 1st (row 0).\n",
    "\n",
    "Input\n",
    "\n",
    "df = pd.read_csv('https://raw.githubusercontent.com/selva86/datasets/master/Cars93_miss.csv')"
   ]
  },
  {
   "cell_type": "code",
   "execution_count": 62,
   "metadata": {},
   "outputs": [
    {
     "name": "stdout",
     "output_type": "stream",
     "text": [
      "   Manufacturer     Model     Type\n",
      "2          Audi        90  Compact\n",
      "22        Dodge      Colt    Small\n",
      "42        Honda    Accord  Compact\n",
      "62   Mitsubishi  Diamante  Midsize\n",
      "82       Suzuki     Swift      NaN\n"
     ]
    }
   ],
   "source": [
    "df_49 = pd.read_csv('https://raw.githubusercontent.com/selva86/datasets/master/Cars93_miss.csv')\n",
    "\n",
    "# Solution\n",
    "print(df_49.iloc[2::20, :][['Manufacturer', 'Model', 'Type']])"
   ]
  },
  {
   "cell_type": "markdown",
   "metadata": {},
   "source": [
    "## Exercise 50\n",
    "\n",
    "How to create a primary key index by combining relevant columns?\n",
    "\n",
    "Difficulty Level: L2\n",
    "\n",
    "In df, Replace NaNs with ‘missing’ in columns 'Manufacturer', 'Model' and 'Type' and create a index as a combination of these three columns and check if the index is a primary key.\n",
    "\n",
    "Input\n",
    "\n",
    "df = pd.read_csv('https://raw.githubusercontent.com/selva86/datasets/master/Cars93_miss.csv', usecols=[0,1,2,3,5])"
   ]
  },
  {
   "cell_type": "code",
   "execution_count": 63,
   "metadata": {},
   "outputs": [
    {
     "name": "stdout",
     "output_type": "stream",
     "text": [
      "True\n",
      "                          Manufacturer    Model     Type  Min.Price  Max.Price\n",
      "Acura_Integra_Small              Acura  Integra    Small       12.9       18.8\n",
      "missing_Legend_Midsize         missing   Legend  Midsize       29.2       38.7\n",
      "Audi_90_Compact                   Audi       90  Compact       25.9       32.3\n",
      "Audi_100_Midsize                  Audi      100  Midsize        NaN       44.6\n",
      "...                                ...      ...      ...        ...        ...\n",
      "Volkswagen_Passat_Compact   Volkswagen   Passat  Compact       17.6       22.4\n",
      "Volkswagen_Corrado_Sporty   Volkswagen  Corrado   Sporty       22.9       23.7\n",
      "Volvo_240_Compact                Volvo      240  Compact       21.8       23.5\n",
      "missing_850_Midsize            missing      850  Midsize       24.8       28.5\n",
      "\n",
      "[93 rows x 5 columns]\n"
     ]
    }
   ],
   "source": [
    "df_50 = pd.read_csv('https://raw.githubusercontent.com/selva86/datasets/master/Cars93_miss.csv', usecols=[0,1,2,3,5])\n",
    "\n",
    "df_50[['Manufacturer', 'Model', 'Type']] = df_50[['Manufacturer', 'Model', 'Type']].fillna('missing')\n",
    "df_50.index = df_50.Manufacturer + '_' + df_50.Model + '_' + df_50.Type\n",
    "print(df_50.index.is_unique)\n",
    "print(df_50)"
   ]
  },
  {
   "cell_type": "code",
   "execution_count": null,
   "metadata": {},
   "outputs": [],
   "source": []
  }
 ],
 "metadata": {
  "kernelspec": {
   "display_name": "Python 3",
   "language": "python",
   "name": "python3"
  },
  "language_info": {
   "codemirror_mode": {
    "name": "ipython",
    "version": 3
   },
   "file_extension": ".py",
   "mimetype": "text/x-python",
   "name": "python",
   "nbconvert_exporter": "python",
   "pygments_lexer": "ipython3",
   "version": "3.7.3"
  }
 },
 "nbformat": 4,
 "nbformat_minor": 4
}
