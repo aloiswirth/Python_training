{
 "cells": [
  {
   "cell_type": "code",
   "execution_count": 1,
   "source": [
    "import pandas as pd\n",
    "import numpy as np"
   ],
   "outputs": [],
   "metadata": {
    "collapsed": true
   }
  },
  {
   "cell_type": "markdown",
   "source": [
    "### Resampling\n",
    "documentation: http://pandas.pydata.org/pandas-docs/stable/generated/pandas.DataFrame.resample.html\n",
    "\n",
    "For arguments to 'freq' parameter, please see [Offset Aliases](http://pandas.pydata.org/pandas-docs/stable/timeseries.html#offset-aliases)"
   ],
   "metadata": {}
  },
  {
   "cell_type": "markdown",
   "source": [
    "##### create a date range to use as an index"
   ],
   "metadata": {}
  },
  {
   "cell_type": "code",
   "execution_count": 2,
   "source": [
    "# min: minutes\n",
    "my_index = pd.date_range('9/1/2016', periods=9, freq='min')"
   ],
   "outputs": [],
   "metadata": {
    "collapsed": true
   }
  },
  {
   "cell_type": "code",
   "execution_count": 3,
   "source": [
    "my_index"
   ],
   "outputs": [
    {
     "output_type": "execute_result",
     "data": {
      "text/plain": [
       "DatetimeIndex(['2016-09-01 00:00:00', '2016-09-01 00:01:00',\n",
       "               '2016-09-01 00:02:00', '2016-09-01 00:03:00',\n",
       "               '2016-09-01 00:04:00', '2016-09-01 00:05:00',\n",
       "               '2016-09-01 00:06:00', '2016-09-01 00:07:00',\n",
       "               '2016-09-01 00:08:00'],\n",
       "              dtype='datetime64[ns]', freq='T')"
      ]
     },
     "metadata": {},
     "execution_count": 3
    }
   ],
   "metadata": {
    "collapsed": false
   }
  },
  {
   "cell_type": "markdown",
   "source": [
    "##### create a time series that includes a simple pattern"
   ],
   "metadata": {}
  },
  {
   "cell_type": "code",
   "execution_count": 4,
   "source": [
    "my_series = pd.Series(np.arange(9), index=my_index)"
   ],
   "outputs": [],
   "metadata": {
    "collapsed": true
   }
  },
  {
   "cell_type": "code",
   "execution_count": 5,
   "source": [
    "my_series"
   ],
   "outputs": [
    {
     "output_type": "execute_result",
     "data": {
      "text/plain": [
       "2016-09-01 00:00:00    0\n",
       "2016-09-01 00:01:00    1\n",
       "2016-09-01 00:02:00    2\n",
       "2016-09-01 00:03:00    3\n",
       "2016-09-01 00:04:00    4\n",
       "2016-09-01 00:05:00    5\n",
       "2016-09-01 00:06:00    6\n",
       "2016-09-01 00:07:00    7\n",
       "2016-09-01 00:08:00    8\n",
       "Freq: T, dtype: int64"
      ]
     },
     "metadata": {},
     "execution_count": 5
    }
   ],
   "metadata": {
    "collapsed": false
   }
  },
  {
   "cell_type": "markdown",
   "source": [
    "Downsample the series into 3 minute bins and sum the values of the timestamps falling into a bin"
   ],
   "metadata": {}
  },
  {
   "cell_type": "code",
   "execution_count": 7,
   "source": [
    "my_series.resample(\"3min\").sum()"
   ],
   "outputs": [
    {
     "output_type": "execute_result",
     "data": {
      "text/plain": [
       "2016-09-01 00:00:00     3\n",
       "2016-09-01 00:03:00    12\n",
       "2016-09-01 00:06:00    21\n",
       "Freq: 3T, dtype: int64"
      ]
     },
     "metadata": {},
     "execution_count": 7
    }
   ],
   "metadata": {
    "collapsed": false
   }
  },
  {
   "cell_type": "markdown",
   "source": [
    "Downsample the series into 3 minute bins as above, but label each bin using the right edge instead of the left\n",
    "\n",
    "Notice the difference in the time indices; the sum in each bin is the same"
   ],
   "metadata": {}
  },
  {
   "cell_type": "code",
   "execution_count": 9,
   "source": [
    "my_series.resample('3min', label='right', closed='left').sum()"
   ],
   "outputs": [
    {
     "output_type": "execute_result",
     "data": {
      "text/plain": [
       "2016-09-01 00:03:00     3\n",
       "2016-09-01 00:06:00    12\n",
       "2016-09-01 00:09:00    21\n",
       "Freq: 3T, dtype: int64"
      ]
     },
     "metadata": {},
     "execution_count": 9
    }
   ],
   "metadata": {
    "collapsed": false
   }
  },
  {
   "cell_type": "markdown",
   "source": [
    "Downsample the series into 3 minute bins as above, but close the right side of the bin interval\n",
    "\n",
    "\"count backwards\" from end of time series"
   ],
   "metadata": {}
  },
  {
   "cell_type": "code",
   "execution_count": 10,
   "source": [
    "my_series.resample('3min', label='right', closed='right').sum()"
   ],
   "outputs": [
    {
     "output_type": "execute_result",
     "data": {
      "text/plain": [
       "2016-09-01 00:00:00     0\n",
       "2016-09-01 00:03:00     6\n",
       "2016-09-01 00:06:00    15\n",
       "2016-09-01 00:09:00    15\n",
       "Freq: 3T, dtype: int64"
      ]
     },
     "metadata": {},
     "execution_count": 10
    }
   ],
   "metadata": {
    "collapsed": false
   }
  },
  {
   "cell_type": "markdown",
   "source": [
    "Upsample the series into 30 second bins\n",
    "\n",
    "[asfreq()](http://pandas.pydata.org/pandas-docs/stable/generated/pandas.DataFrame.asfreq.html)"
   ],
   "metadata": {}
  },
  {
   "cell_type": "code",
   "execution_count": 12,
   "source": [
    "#select first 5 rows \n",
    "my_series.resample('30S').asfreq()[0:9] \n"
   ],
   "outputs": [
    {
     "output_type": "execute_result",
     "data": {
      "text/plain": [
       "2016-09-01 00:00:00    0.0\n",
       "2016-09-01 00:00:30    NaN\n",
       "2016-09-01 00:01:00    1.0\n",
       "2016-09-01 00:01:30    NaN\n",
       "2016-09-01 00:02:00    2.0\n",
       "2016-09-01 00:02:30    NaN\n",
       "2016-09-01 00:03:00    3.0\n",
       "2016-09-01 00:03:30    NaN\n",
       "2016-09-01 00:04:00    4.0\n",
       "Freq: 30S, dtype: float64"
      ]
     },
     "metadata": {},
     "execution_count": 12
    }
   ],
   "metadata": {
    "collapsed": false
   }
  },
  {
   "cell_type": "markdown",
   "source": [
    "##### define a custom function to use with resampling"
   ],
   "metadata": {}
  },
  {
   "cell_type": "code",
   "execution_count": 14,
   "source": [
    "def custom_arithmetic(array_like):\n",
    "    temp = 3 * np.sum(array_like) + 5\n",
    "    return temp"
   ],
   "outputs": [],
   "metadata": {
    "collapsed": true
   }
  },
  {
   "cell_type": "markdown",
   "source": [
    "##### apply custom resampling function"
   ],
   "metadata": {}
  },
  {
   "cell_type": "code",
   "execution_count": 15,
   "source": [
    "my_series.resample('3min').apply(custom_arithmetic)"
   ],
   "outputs": [
    {
     "output_type": "execute_result",
     "data": {
      "text/plain": [
       "2016-09-01 00:00:00    14\n",
       "2016-09-01 00:03:00    41\n",
       "2016-09-01 00:06:00    68\n",
       "Freq: 3T, dtype: int64"
      ]
     },
     "metadata": {},
     "execution_count": 15
    }
   ],
   "metadata": {
    "collapsed": false
   }
  },
  {
   "cell_type": "code",
   "execution_count": null,
   "source": [],
   "outputs": [],
   "metadata": {
    "collapsed": true
   }
  }
 ],
 "metadata": {
  "kernelspec": {
   "name": "python3",
   "display_name": "Python 3.9.5 64-bit"
  },
  "language_info": {
   "name": "python",
   "version": "3.9.5",
   "mimetype": "text/x-python",
   "codemirror_mode": {
    "name": "ipython",
    "version": 3
   },
   "pygments_lexer": "ipython3",
   "nbconvert_exporter": "python",
   "file_extension": ".py"
  },
  "interpreter": {
   "hash": "f9f85f796d01129d0dd105a088854619f454435301f6ffec2fea96ecbd9be4ac"
  }
 },
 "nbformat": 4,
 "nbformat_minor": 2
}