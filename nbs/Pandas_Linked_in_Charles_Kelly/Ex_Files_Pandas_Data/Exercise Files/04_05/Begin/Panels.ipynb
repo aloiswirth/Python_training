{
 "cells": [
  {
   "cell_type": "markdown",
   "source": [
    "### Creating Panels\n",
    "A Panel is a three-dimensional analogue of DataFrame.  Each item (the analogue of columns in a DataFrame) in a Panel is a DataFrame.\n",
    "\n",
    "The term panel data is derived\n",
    "from econometrics and is partially responsible for the name pandas: pan(el)-da(ta)-s. The names for the 3 axes within a panel are intended to give some semantic meaning to describing operations involving panel data and, in particular, econometric\n",
    "analysis of panel data. However, for the strict purposes of slicing and dicing a collection of DataFrame objects, you\n",
    "may find the axis names slightly arbitrary:\n",
    "\n",
    "- items: axis 0, each item corresponds to a DataFrame contained inside\n",
    "- major_axis: axis 1, it is the index (rows) of each of the DataFrames\n",
    "- minor_axis: axis 2, it is the columns of each of the DataFrames\n",
    "\n",
    "source: http://pandas.pydata.org/pandas-docs/stable/dsintro.html#panel"
   ],
   "metadata": {}
  },
  {
   "cell_type": "code",
   "execution_count": 1,
   "source": [
    "import pandas as pd\n",
    "import numpy as np\n",
    "import datetime\n",
    "from pandas_datareader import data, wb\n",
    "\n",
    "pd.set_eng_float_format(accuracy=2, use_eng_prefix=True)"
   ],
   "outputs": [],
   "metadata": {
    "collapsed": true
   }
  },
  {
   "cell_type": "code",
   "execution_count": 4,
   "source": [
    "my_first_panel = pd.Panel(np.random.randn(2, 5, 4), \n",
    "                          items=['Item01', 'Item02'],\n",
    "                          major_axis=pd.date_range('9/6/2016', periods=5),\n",
    "                          minor_axis=['A', 'B', 'C', 'D'])\n",
    "my_first_panel"
   ],
   "outputs": [
    {
     "output_type": "error",
     "ename": "AttributeError",
     "evalue": "module 'pandas' has no attribute 'Panel'",
     "traceback": [
      "\u001b[0;31m---------------------------------------------------------------------------\u001b[0m",
      "\u001b[0;31mAttributeError\u001b[0m                            Traceback (most recent call last)",
      "\u001b[0;32m/tmp/ipykernel_33614/677391328.py\u001b[0m in \u001b[0;36m<module>\u001b[0;34m\u001b[0m\n\u001b[0;32m----> 1\u001b[0;31m my_first_panel = pd.Panel(np.random.randn(2, 5, 4), \n\u001b[0m\u001b[1;32m      2\u001b[0m                           \u001b[0mitems\u001b[0m\u001b[0;34m=\u001b[0m\u001b[0;34m[\u001b[0m\u001b[0;34m'Item01'\u001b[0m\u001b[0;34m,\u001b[0m \u001b[0;34m'Item02'\u001b[0m\u001b[0;34m]\u001b[0m\u001b[0;34m,\u001b[0m\u001b[0;34m\u001b[0m\u001b[0;34m\u001b[0m\u001b[0m\n\u001b[1;32m      3\u001b[0m                           \u001b[0mmajor_axis\u001b[0m\u001b[0;34m=\u001b[0m\u001b[0mpd\u001b[0m\u001b[0;34m.\u001b[0m\u001b[0mdate_range\u001b[0m\u001b[0;34m(\u001b[0m\u001b[0;34m'9/6/2016'\u001b[0m\u001b[0;34m,\u001b[0m \u001b[0mperiods\u001b[0m\u001b[0;34m=\u001b[0m\u001b[0;36m5\u001b[0m\u001b[0;34m)\u001b[0m\u001b[0;34m,\u001b[0m\u001b[0;34m\u001b[0m\u001b[0;34m\u001b[0m\u001b[0m\n\u001b[1;32m      4\u001b[0m                           minor_axis=['A', 'B', 'C', 'D'])\n\u001b[1;32m      5\u001b[0m \u001b[0mmy_first_panel\u001b[0m\u001b[0;34m\u001b[0m\u001b[0;34m\u001b[0m\u001b[0m\n",
      "\u001b[0;32m~/.local/lib/python3.9/site-packages/pandas/__init__.py\u001b[0m in \u001b[0;36m__getattr__\u001b[0;34m(name)\u001b[0m\n\u001b[1;32m    242\u001b[0m         \u001b[0;32mreturn\u001b[0m \u001b[0m_SparseArray\u001b[0m\u001b[0;34m\u001b[0m\u001b[0;34m\u001b[0m\u001b[0m\n\u001b[1;32m    243\u001b[0m \u001b[0;34m\u001b[0m\u001b[0m\n\u001b[0;32m--> 244\u001b[0;31m     \u001b[0;32mraise\u001b[0m \u001b[0mAttributeError\u001b[0m\u001b[0;34m(\u001b[0m\u001b[0;34mf\"module 'pandas' has no attribute '{name}'\"\u001b[0m\u001b[0;34m)\u001b[0m\u001b[0;34m\u001b[0m\u001b[0;34m\u001b[0m\u001b[0m\n\u001b[0m\u001b[1;32m    245\u001b[0m \u001b[0;34m\u001b[0m\u001b[0m\n\u001b[1;32m    246\u001b[0m \u001b[0;34m\u001b[0m\u001b[0m\n",
      "\u001b[0;31mAttributeError\u001b[0m: module 'pandas' has no attribute 'Panel'"
     ]
    }
   ],
   "metadata": {
    "collapsed": false
   }
  },
  {
   "cell_type": "markdown",
   "source": [
    "### From dict of DataFrame objects\n",
    "Note that the values in the dict need only be convertible to DataFrame."
   ],
   "metadata": {}
  },
  {
   "cell_type": "code",
   "execution_count": null,
   "source": [
    "dictionary_of_data_frames = {'Item1' : pd.DataFrame(np.random.randn(4, 3)),\n",
    "                             'Item2' : pd.DataFrame(np.random.randn(4, 2))}\n",
    "my_dictionary_panel = pd.Panel(dictionary_of_data_frames)\n",
    "my_dictionary_panel"
   ],
   "outputs": [],
   "metadata": {
    "collapsed": false
   }
  },
  {
   "cell_type": "markdown",
   "source": [
    "##### Panel.from_dict()\n",
    "One helpful factory method is Panel.from_dict, which takes a dictionary of DataFrames, and has the following named parameters:\n",
    "\n",
    "| Parameter | Default | Description                                         |\n",
    "|-----------|---------|-----------------------------------------------------|\n",
    "| intersect | False   | drops elements whose indices do not align           |\n",
    "| orient    | items   | use minor to use DataFrames’ columns as panel items |\n",
    "\n",
    "Orient is especially useful for mixed-type DataFrames. If you pass a dict of DataFrame objects with mixed-type columns, all of the data will get upcasted to dtype=object unless you pass orient='minor':"
   ],
   "metadata": {}
  },
  {
   "cell_type": "code",
   "execution_count": null,
   "source": [
    "oriented_panel = pd.Panel.from_dict(dictionary_of_data_frames, orient='minor')\n",
    "oriented_panel"
   ],
   "outputs": [],
   "metadata": {
    "collapsed": false
   }
  },
  {
   "cell_type": "markdown",
   "source": [
    "### Panels using remote stock data\n",
    "source: [Python for Data Analysis by Wes McKinney](http://shop.oreilly.com/product/0636920023784.do) page 152; modified by Charles Kelly to use DataReader"
   ],
   "metadata": {}
  },
  {
   "cell_type": "code",
   "execution_count": null,
   "source": [
    "start = datetime.datetime(2010, 1, 1)\n",
    "end = datetime.datetime(2016, 7, 15)\n",
    "pdata = pd.Panel(dict((stk, data.DataReader(\"F\", 'yahoo', start, end))\n",
    "for stk in ['AAPL', 'GOOG', 'MSFT', 'DELL']))\n",
    "\n",
    "pdata"
   ],
   "outputs": [],
   "metadata": {
    "collapsed": false
   }
  },
  {
   "cell_type": "markdown",
   "source": [
    "##### swap axes: make the stocks the columns\n",
    "documentation: http://pandas.pydata.org/pandas-docs/version/0.18.0/generated/pandas.Panel.swapaxes.html"
   ],
   "metadata": {}
  },
  {
   "cell_type": "code",
   "execution_count": null,
   "source": [
    "pdata = pdata.swapaxes('items', 'minor')"
   ],
   "outputs": [],
   "metadata": {
    "collapsed": true
   }
  },
  {
   "cell_type": "code",
   "execution_count": null,
   "source": [
    "pdata['Adj Close'].head()"
   ],
   "outputs": [],
   "metadata": {
    "collapsed": false
   }
  },
  {
   "cell_type": "markdown",
   "source": [
    "##### NumPy ix generalizes to three dimensions\n",
    "source: http://docs.scipy.org/doc/numpy/reference/generated/numpy.ix_.html"
   ],
   "metadata": {}
  },
  {
   "cell_type": "code",
   "execution_count": null,
   "source": [
    "pdata.ix[:, '7/12/2016', :]"
   ],
   "outputs": [],
   "metadata": {
    "collapsed": false
   }
  },
  {
   "cell_type": "markdown",
   "source": [
    "##### convert Panel to DataFrame with multi-index"
   ],
   "metadata": {}
  },
  {
   "cell_type": "code",
   "execution_count": null,
   "source": [
    "stacked = pdata.ix[:, '6/30/2016':, :].to_frame()\n",
    "print(type(stacked))\n",
    "stacked"
   ],
   "outputs": [],
   "metadata": {
    "collapsed": false
   }
  },
  {
   "cell_type": "markdown",
   "source": [
    "##### convert DataFrame with multi-index to a Panel"
   ],
   "metadata": {}
  },
  {
   "cell_type": "code",
   "execution_count": null,
   "source": [
    "stacked.to_panel()"
   ],
   "outputs": [],
   "metadata": {
    "collapsed": false
   }
  }
 ],
 "metadata": {
  "kernelspec": {
   "name": "python3",
   "display_name": "Python 3.9.5 64-bit"
  },
  "language_info": {
   "codemirror_mode": {
    "name": "ipython",
    "version": 3
   },
   "file_extension": ".py",
   "mimetype": "text/x-python",
   "name": "python",
   "nbconvert_exporter": "python",
   "pygments_lexer": "ipython3",
   "version": "3.9.5"
  },
  "interpreter": {
   "hash": "f9f85f796d01129d0dd105a088854619f454435301f6ffec2fea96ecbd9be4ac"
  }
 },
 "nbformat": 4,
 "nbformat_minor": 2
}