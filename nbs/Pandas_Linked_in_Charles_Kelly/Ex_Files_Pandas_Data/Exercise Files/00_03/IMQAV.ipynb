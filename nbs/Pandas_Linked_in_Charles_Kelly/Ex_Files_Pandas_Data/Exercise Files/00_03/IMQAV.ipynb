{
 "cells": [
  {
   "cell_type": "markdown",
   "metadata": {},
   "source": [
    "# Pandas, Data Science, and IMQAV\n",
    "- Ingest\n",
    "- Model\n",
    "- Query\n",
    "- Analyze\n",
    "- Visualize"
   ]
  },
  {
   "cell_type": "markdown",
   "metadata": {},
   "source": [
    "## Application of IMQAV\n",
    "- Organization\n",
    "- Architecture\n",
    "- Set of Tasks"
   ]
  },
  {
   "cell_type": "markdown",
   "metadata": {},
   "source": [
    "## Ingest\n",
    "Ingestion is a set of software engineering techniques to adapt high volumes of data that arrive rapidly (often via streaming).  \n",
    "- Kafka\n",
    "- RabbitMQ\n",
    "- Fluentd\n",
    "- Sqoop\n",
    "- Kinesis (AWS)"
   ]
  },
  {
   "cell_type": "markdown",
   "metadata": {},
   "source": [
    "## Model\n",
    "Modeling is a set of data architecture techniques to create data storage that is appropriate for a particular domain.\n",
    "- Relational\n",
    "    - MySQL\n",
    "    - Postgres\n",
    "    - RDS (AWS)\n",
    "- Key Value\n",
    "    - Redis\n",
    "    - Riak\n",
    "    - DynamoDB (AWS)\n",
    "- Columnar\n",
    "    - Casandra\n",
    "    - HBase\n",
    "    - RedShift (AWS)\n",
    "- Document\n",
    "    - MongoDB\n",
    "    - ElasticSearch\n",
    "    - CouchBase\n",
    "- Graph\n",
    "    - Neo4J\n",
    "    - OrientDB\n",
    "    - ArangoDB"
   ]
  },
  {
   "cell_type": "markdown",
   "metadata": {},
   "source": [
    "## Query\n",
    "Query refers to extracting data (from storage) and modifying that data to accommodate anomalies such as missing data.  \n",
    "- Batch\n",
    "    - MapReduce\n",
    "    - Spark\n",
    "    - Elastic MapReduce (AWS)\n",
    "- Batch SQL\n",
    "    - Hive\n",
    "    - Presto\n",
    "    - Drill\n",
    "- Streaming\n",
    "    - Storm\n",
    "    - Spark Streaming\n",
    "    - Samza"
   ]
  },
  {
   "cell_type": "markdown",
   "metadata": {},
   "source": [
    "## Analyze\n",
    "Analyze is a broad category that includes techniques from computer science, mathematical modeling, artificial intelligence, statistics, and other disciplines.\n",
    "\n",
    "- Statistics\n",
    "    - SPSS\n",
    "    - SAS\n",
    "    - R\n",
    "    - Statsmodels\n",
    "    - SciPy\n",
    "    - Pandas\n",
    "- Optimization and Mathematical Modeling (SciPy and other libraries)\n",
    "    - Linear, Integer, Dynamic, Programming\n",
    "    - Gradient and Lagrange methods\n",
    "- Machine Learning\n",
    "    - Batch\n",
    "       - H2O\n",
    "       - Mahout\n",
    "       - SparkML\n",
    "    - Interactive\n",
    "        - scikit-learn\n",
    "\n"
   ]
  },
  {
   "cell_type": "markdown",
   "metadata": {},
   "source": [
    "## Visualize\n",
    "Visualize refers to transforming data into visually attractive and informative formats.\n",
    "- matplotlib\n",
    "- seaborn\n",
    "- bokeh\n",
    "- pandas\n",
    "- D3\n",
    "- Tableau\n",
    "- Leaflet\n",
    "- Highcharts\n",
    "- Kibana"
   ]
  },
  {
   "cell_type": "code",
   "execution_count": null,
   "metadata": {
    "collapsed": true
   },
   "outputs": [],
   "source": []
  }
 ],
 "metadata": {
  "anaconda-cloud": {},
  "kernelspec": {
   "display_name": "Python [Root]",
   "language": "python",
   "name": "Python [Root]"
  },
  "language_info": {
   "codemirror_mode": {
    "name": "ipython",
    "version": 3
   },
   "file_extension": ".py",
   "mimetype": "text/x-python",
   "name": "python",
   "nbconvert_exporter": "python",
   "pygments_lexer": "ipython3",
   "version": "3.5.2"
  }
 },
 "nbformat": 4,
 "nbformat_minor": 0
}
