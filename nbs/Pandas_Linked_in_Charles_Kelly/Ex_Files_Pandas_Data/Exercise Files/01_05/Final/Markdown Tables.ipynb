{
 "cells": [
  {
   "cell_type": "markdown",
   "metadata": {},
   "source": [
    "### Markdown Tables\n",
    "[Markdown Tables Generator](http://www.tablesgenerator.com/markdown_tables#)"
   ]
  },
  {
   "cell_type": "markdown",
   "metadata": {},
   "source": [
    "| Type      |   | Description                                                         |\n",
    "|-----------|---|---------------------------------------------------------------------|\n",
    "|           |   |                                                                     |\n",
    "| date      |   | Store calendar date (year, month, day) using a Gregorian   Calendar |\n",
    "| time       |   | Store time of day as hours, minutes, seconds, microseconds          |\n",
    "| datetime  |   | Store both date and time                                            |\n",
    "| timedelta |   | Difference between two datetime values                              |"
   ]
  },
  {
   "cell_type": "code",
   "execution_count": null,
   "metadata": {
    "collapsed": true
   },
   "outputs": [],
   "source": []
  }
 ],
 "metadata": {
  "anaconda-cloud": {},
  "kernelspec": {
   "display_name": "Python 2",
   "language": "python",
   "name": "python2"
  },
  "language_info": {
   "codemirror_mode": {
    "name": "ipython",
    "version": 2
   },
   "file_extension": ".py",
   "mimetype": "text/x-python",
   "name": "python",
   "nbconvert_exporter": "python",
   "pygments_lexer": "ipython2",
   "version": "2.7.11"
  }
 },
 "nbformat": 4,
 "nbformat_minor": 0
}
