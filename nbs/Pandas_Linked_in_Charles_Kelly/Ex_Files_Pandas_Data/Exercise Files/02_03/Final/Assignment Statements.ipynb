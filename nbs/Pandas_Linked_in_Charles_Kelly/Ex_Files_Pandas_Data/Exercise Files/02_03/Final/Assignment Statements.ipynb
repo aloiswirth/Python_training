{
 "cells": [
  {
   "cell_type": "code",
   "execution_count": 1,
   "metadata": {
    "collapsed": true
   },
   "outputs": [],
   "source": [
    "import pandas as pd\n",
    "import numpy as np\n",
    "import matplotlib.pyplot as plt"
   ]
  },
  {
   "cell_type": "code",
   "execution_count": 2,
   "metadata": {
    "collapsed": false
   },
   "outputs": [
    {
     "output_type": "execute_result",
     "data": {
      "text/plain": [
       "             A   B   C   D\n",
       "2016-07-01   0   1   2   3\n",
       "2016-07-02   4   5   6   7\n",
       "2016-07-03   8   9  10  11\n",
       "2016-07-04  12  13  14  15\n",
       "2016-07-05  16  17  18  19\n",
       "2016-07-06  20  21  22  23"
      ],
      "text/html": "<div>\n<style scoped>\n    .dataframe tbody tr th:only-of-type {\n        vertical-align: middle;\n    }\n\n    .dataframe tbody tr th {\n        vertical-align: top;\n    }\n\n    .dataframe thead th {\n        text-align: right;\n    }\n</style>\n<table border=\"1\" class=\"dataframe\">\n  <thead>\n    <tr style=\"text-align: right;\">\n      <th></th>\n      <th>A</th>\n      <th>B</th>\n      <th>C</th>\n      <th>D</th>\n    </tr>\n  </thead>\n  <tbody>\n    <tr>\n      <th>2016-07-01</th>\n      <td>0</td>\n      <td>1</td>\n      <td>2</td>\n      <td>3</td>\n    </tr>\n    <tr>\n      <th>2016-07-02</th>\n      <td>4</td>\n      <td>5</td>\n      <td>6</td>\n      <td>7</td>\n    </tr>\n    <tr>\n      <th>2016-07-03</th>\n      <td>8</td>\n      <td>9</td>\n      <td>10</td>\n      <td>11</td>\n    </tr>\n    <tr>\n      <th>2016-07-04</th>\n      <td>12</td>\n      <td>13</td>\n      <td>14</td>\n      <td>15</td>\n    </tr>\n    <tr>\n      <th>2016-07-05</th>\n      <td>16</td>\n      <td>17</td>\n      <td>18</td>\n      <td>19</td>\n    </tr>\n    <tr>\n      <th>2016-07-06</th>\n      <td>20</td>\n      <td>21</td>\n      <td>22</td>\n      <td>23</td>\n    </tr>\n  </tbody>\n</table>\n</div>"
     },
     "metadata": {},
     "execution_count": 2
    }
   ],
   "source": [
    "starting_date = '20160701'\n",
    "sample_numpy_data = np.array(np.arange(24)).reshape((6,4))\n",
    "dates_index = pd.date_range(starting_date, periods=6)\n",
    "sample_df = pd.DataFrame(sample_numpy_data, index=dates_index, columns=list('ABCD'))\n",
    "sample_df"
   ]
  },
  {
   "cell_type": "code",
   "execution_count": 3,
   "metadata": {
    "collapsed": false
   },
   "outputs": [
    {
     "output_type": "execute_result",
     "data": {
      "text/plain": [
       "             A   B   C   D      Fruits\n",
       "2016-07-01   0   1   2   3       apple\n",
       "2016-07-02   4   5   6   7      orange\n",
       "2016-07-03   8   9  10  11      banana\n",
       "2016-07-04  12  13  14  15  strawberry\n",
       "2016-07-05  16  17  18  19   blueberry\n",
       "2016-07-06  20  21  22  23   pineapple"
      ],
      "text/html": "<div>\n<style scoped>\n    .dataframe tbody tr th:only-of-type {\n        vertical-align: middle;\n    }\n\n    .dataframe tbody tr th {\n        vertical-align: top;\n    }\n\n    .dataframe thead th {\n        text-align: right;\n    }\n</style>\n<table border=\"1\" class=\"dataframe\">\n  <thead>\n    <tr style=\"text-align: right;\">\n      <th></th>\n      <th>A</th>\n      <th>B</th>\n      <th>C</th>\n      <th>D</th>\n      <th>Fruits</th>\n    </tr>\n  </thead>\n  <tbody>\n    <tr>\n      <th>2016-07-01</th>\n      <td>0</td>\n      <td>1</td>\n      <td>2</td>\n      <td>3</td>\n      <td>apple</td>\n    </tr>\n    <tr>\n      <th>2016-07-02</th>\n      <td>4</td>\n      <td>5</td>\n      <td>6</td>\n      <td>7</td>\n      <td>orange</td>\n    </tr>\n    <tr>\n      <th>2016-07-03</th>\n      <td>8</td>\n      <td>9</td>\n      <td>10</td>\n      <td>11</td>\n      <td>banana</td>\n    </tr>\n    <tr>\n      <th>2016-07-04</th>\n      <td>12</td>\n      <td>13</td>\n      <td>14</td>\n      <td>15</td>\n      <td>strawberry</td>\n    </tr>\n    <tr>\n      <th>2016-07-05</th>\n      <td>16</td>\n      <td>17</td>\n      <td>18</td>\n      <td>19</td>\n      <td>blueberry</td>\n    </tr>\n    <tr>\n      <th>2016-07-06</th>\n      <td>20</td>\n      <td>21</td>\n      <td>22</td>\n      <td>23</td>\n      <td>pineapple</td>\n    </tr>\n  </tbody>\n</table>\n</div>"
     },
     "metadata": {},
     "execution_count": 3
    }
   ],
   "source": [
    "sample_df_2 = sample_df.copy()\n",
    "sample_df_2['Fruits'] = ['apple', 'orange','banana','strawberry','blueberry','pineapple']\n",
    "sample_df_2"
   ]
  },
  {
   "cell_type": "markdown",
   "metadata": {},
   "source": [
    "Setting a new column automatically aligns the data by the indexes"
   ]
  },
  {
   "cell_type": "code",
   "execution_count": 4,
   "metadata": {
    "collapsed": false
   },
   "outputs": [
    {
     "output_type": "execute_result",
     "data": {
      "text/plain": [
       "DatetimeIndex(['2016-07-01', '2016-07-02', '2016-07-03', '2016-07-04',\n",
       "               '2016-07-05', '2016-07-06'],\n",
       "              dtype='datetime64[ns]', freq='D')"
      ]
     },
     "metadata": {},
     "execution_count": 4
    }
   ],
   "source": [
    "pd.date_range(starting_date, periods=6)"
   ]
  },
  {
   "cell_type": "code",
   "execution_count": 5,
   "metadata": {
    "collapsed": false
   },
   "outputs": [
    {
     "output_type": "execute_result",
     "data": {
      "text/plain": [
       "2016-07-01    1\n",
       "2016-07-02    2\n",
       "2016-07-03    3\n",
       "2016-07-04    4\n",
       "2016-07-05    5\n",
       "2016-07-06    6\n",
       "Freq: D, dtype: int64"
      ]
     },
     "metadata": {},
     "execution_count": 5
    }
   ],
   "source": [
    "pd.Series([1,2,3,4,5,6], index=pd.date_range(starting_date, periods=6))"
   ]
  },
  {
   "cell_type": "code",
   "execution_count": 6,
   "metadata": {
    "collapsed": false
   },
   "outputs": [
    {
     "output_type": "execute_result",
     "data": {
      "text/plain": [
       "             A   B   C   D      Fruits  Extra Data\n",
       "2016-07-01   0   1   2   3       apple           4\n",
       "2016-07-02   4   5   6   7      orange           7\n",
       "2016-07-03   8   9  10  11      banana          10\n",
       "2016-07-04  12  13  14  15  strawberry          13\n",
       "2016-07-05  16  17  18  19   blueberry          16\n",
       "2016-07-06  20  21  22  23   pineapple          19"
      ],
      "text/html": "<div>\n<style scoped>\n    .dataframe tbody tr th:only-of-type {\n        vertical-align: middle;\n    }\n\n    .dataframe tbody tr th {\n        vertical-align: top;\n    }\n\n    .dataframe thead th {\n        text-align: right;\n    }\n</style>\n<table border=\"1\" class=\"dataframe\">\n  <thead>\n    <tr style=\"text-align: right;\">\n      <th></th>\n      <th>A</th>\n      <th>B</th>\n      <th>C</th>\n      <th>D</th>\n      <th>Fruits</th>\n      <th>Extra Data</th>\n    </tr>\n  </thead>\n  <tbody>\n    <tr>\n      <th>2016-07-01</th>\n      <td>0</td>\n      <td>1</td>\n      <td>2</td>\n      <td>3</td>\n      <td>apple</td>\n      <td>4</td>\n    </tr>\n    <tr>\n      <th>2016-07-02</th>\n      <td>4</td>\n      <td>5</td>\n      <td>6</td>\n      <td>7</td>\n      <td>orange</td>\n      <td>7</td>\n    </tr>\n    <tr>\n      <th>2016-07-03</th>\n      <td>8</td>\n      <td>9</td>\n      <td>10</td>\n      <td>11</td>\n      <td>banana</td>\n      <td>10</td>\n    </tr>\n    <tr>\n      <th>2016-07-04</th>\n      <td>12</td>\n      <td>13</td>\n      <td>14</td>\n      <td>15</td>\n      <td>strawberry</td>\n      <td>13</td>\n    </tr>\n    <tr>\n      <th>2016-07-05</th>\n      <td>16</td>\n      <td>17</td>\n      <td>18</td>\n      <td>19</td>\n      <td>blueberry</td>\n      <td>16</td>\n    </tr>\n    <tr>\n      <th>2016-07-06</th>\n      <td>20</td>\n      <td>21</td>\n      <td>22</td>\n      <td>23</td>\n      <td>pineapple</td>\n      <td>19</td>\n    </tr>\n  </tbody>\n</table>\n</div>"
     },
     "metadata": {},
     "execution_count": 6
    }
   ],
   "source": [
    "sample_series = pd.Series([1,2,3,4,5,6], index=pd.date_range(starting_date, periods=6))\n",
    "sample_df_2['Extra Data'] = sample_series *3 +1\n",
    "sample_df_2"
   ]
  },
  {
   "cell_type": "markdown",
   "metadata": {},
   "source": [
    "##### Setting values by label"
   ]
  },
  {
   "cell_type": "code",
   "execution_count": 7,
   "metadata": {
    "collapsed": false
   },
   "outputs": [
    {
     "output_type": "execute_result",
     "data": {
      "text/plain": [
       "             A   B   C   D     Fruits  Extra Data\n",
       "2016-07-01   0   1   2   3      apple           4\n",
       "2016-07-02   4   5   6   7     orange           7\n",
       "2016-07-03   8   9  10  11     banana          10\n",
       "2016-07-04  12  13  14  15       pear          13\n",
       "2016-07-05  16  17  18  19  blueberry          16\n",
       "2016-07-06  20  21  22  23  pineapple          19"
      ],
      "text/html": "<div>\n<style scoped>\n    .dataframe tbody tr th:only-of-type {\n        vertical-align: middle;\n    }\n\n    .dataframe tbody tr th {\n        vertical-align: top;\n    }\n\n    .dataframe thead th {\n        text-align: right;\n    }\n</style>\n<table border=\"1\" class=\"dataframe\">\n  <thead>\n    <tr style=\"text-align: right;\">\n      <th></th>\n      <th>A</th>\n      <th>B</th>\n      <th>C</th>\n      <th>D</th>\n      <th>Fruits</th>\n      <th>Extra Data</th>\n    </tr>\n  </thead>\n  <tbody>\n    <tr>\n      <th>2016-07-01</th>\n      <td>0</td>\n      <td>1</td>\n      <td>2</td>\n      <td>3</td>\n      <td>apple</td>\n      <td>4</td>\n    </tr>\n    <tr>\n      <th>2016-07-02</th>\n      <td>4</td>\n      <td>5</td>\n      <td>6</td>\n      <td>7</td>\n      <td>orange</td>\n      <td>7</td>\n    </tr>\n    <tr>\n      <th>2016-07-03</th>\n      <td>8</td>\n      <td>9</td>\n      <td>10</td>\n      <td>11</td>\n      <td>banana</td>\n      <td>10</td>\n    </tr>\n    <tr>\n      <th>2016-07-04</th>\n      <td>12</td>\n      <td>13</td>\n      <td>14</td>\n      <td>15</td>\n      <td>pear</td>\n      <td>13</td>\n    </tr>\n    <tr>\n      <th>2016-07-05</th>\n      <td>16</td>\n      <td>17</td>\n      <td>18</td>\n      <td>19</td>\n      <td>blueberry</td>\n      <td>16</td>\n    </tr>\n    <tr>\n      <th>2016-07-06</th>\n      <td>20</td>\n      <td>21</td>\n      <td>22</td>\n      <td>23</td>\n      <td>pineapple</td>\n      <td>19</td>\n    </tr>\n  </tbody>\n</table>\n</div>"
     },
     "metadata": {},
     "execution_count": 7
    }
   ],
   "source": [
    "sample_df_2.at[dates_index[3],'Fruits'] = 'pear'\n",
    "sample_df_2"
   ]
  },
  {
   "cell_type": "markdown",
   "metadata": {},
   "source": [
    "##### Setting values by position\n",
    "documentation: http://pandas.pydata.org/pandas-docs/stable/generated/pandas.DataFrame.iat.html\n",
    "\n",
    "iat provides integer based lookups"
   ]
  },
  {
   "cell_type": "code",
   "execution_count": 8,
   "metadata": {
    "collapsed": false
   },
   "outputs": [
    {
     "output_type": "execute_result",
     "data": {
      "text/plain": [
       "             A   B     C   D     Fruits  Extra Data\n",
       "2016-07-01   0   1     2   3      apple           4\n",
       "2016-07-02   4   5     6   7     orange           7\n",
       "2016-07-03   8   9    10  11     banana          10\n",
       "2016-07-04  12  13  4444  15       pear          13\n",
       "2016-07-05  16  17    18  19  blueberry          16\n",
       "2016-07-06  20  21    22  23  pineapple          19"
      ],
      "text/html": "<div>\n<style scoped>\n    .dataframe tbody tr th:only-of-type {\n        vertical-align: middle;\n    }\n\n    .dataframe tbody tr th {\n        vertical-align: top;\n    }\n\n    .dataframe thead th {\n        text-align: right;\n    }\n</style>\n<table border=\"1\" class=\"dataframe\">\n  <thead>\n    <tr style=\"text-align: right;\">\n      <th></th>\n      <th>A</th>\n      <th>B</th>\n      <th>C</th>\n      <th>D</th>\n      <th>Fruits</th>\n      <th>Extra Data</th>\n    </tr>\n  </thead>\n  <tbody>\n    <tr>\n      <th>2016-07-01</th>\n      <td>0</td>\n      <td>1</td>\n      <td>2</td>\n      <td>3</td>\n      <td>apple</td>\n      <td>4</td>\n    </tr>\n    <tr>\n      <th>2016-07-02</th>\n      <td>4</td>\n      <td>5</td>\n      <td>6</td>\n      <td>7</td>\n      <td>orange</td>\n      <td>7</td>\n    </tr>\n    <tr>\n      <th>2016-07-03</th>\n      <td>8</td>\n      <td>9</td>\n      <td>10</td>\n      <td>11</td>\n      <td>banana</td>\n      <td>10</td>\n    </tr>\n    <tr>\n      <th>2016-07-04</th>\n      <td>12</td>\n      <td>13</td>\n      <td>4444</td>\n      <td>15</td>\n      <td>pear</td>\n      <td>13</td>\n    </tr>\n    <tr>\n      <th>2016-07-05</th>\n      <td>16</td>\n      <td>17</td>\n      <td>18</td>\n      <td>19</td>\n      <td>blueberry</td>\n      <td>16</td>\n    </tr>\n    <tr>\n      <th>2016-07-06</th>\n      <td>20</td>\n      <td>21</td>\n      <td>22</td>\n      <td>23</td>\n      <td>pineapple</td>\n      <td>19</td>\n    </tr>\n  </tbody>\n</table>\n</div>"
     },
     "metadata": {},
     "execution_count": 8
    }
   ],
   "source": [
    "sample_df_2.iat[3,2] = 4444\n",
    "sample_df_2"
   ]
  },
  {
   "cell_type": "markdown",
   "metadata": {},
   "source": [
    "##### Setting by assigning with a numpy array"
   ]
  },
  {
   "cell_type": "code",
   "execution_count": 9,
   "metadata": {
    "collapsed": false
   },
   "outputs": [
    {
     "output_type": "execute_result",
     "data": {
      "text/plain": [
       "array([  7, 107, 207, 307, 407])"
      ]
     },
     "metadata": {},
     "execution_count": 9
    }
   ],
   "source": [
    "second_numpy_array = np.array(np.arange(len(sample_df_2)-1))  *100 + 7\n",
    "second_numpy_array"
   ]
  },
  {
   "cell_type": "code",
   "execution_count": 11,
   "metadata": {
    "collapsed": false
   },
   "outputs": [
    {
     "output_type": "stream",
     "name": "stdout",
     "text": [
      "adding a numpy array only works if it has the same length as the pandas dataframe\n"
     ]
    }
   ],
   "source": [
    "try:\n",
    "    sample_df_2['G'] = second_numpy_array\n",
    "    sample_df_2\n",
    "except:\n",
    "    print(\"adding a numpy array only works if it has the same length as the pandas dataframe\")"
   ]
  },
  {
   "cell_type": "code",
   "execution_count": null,
   "metadata": {
    "collapsed": true
   },
   "outputs": [],
   "source": []
  }
 ],
 "metadata": {
  "kernelspec": {
   "name": "python3",
   "display_name": "Python 3.9.5 64-bit"
  },
  "language_info": {
   "codemirror_mode": {
    "name": "ipython",
    "version": 3
   },
   "file_extension": ".py",
   "mimetype": "text/x-python",
   "name": "python",
   "nbconvert_exporter": "python",
   "pygments_lexer": "ipython3",
   "version": "3.9.5"
  },
  "interpreter": {
   "hash": "f9f85f796d01129d0dd105a088854619f454435301f6ffec2fea96ecbd9be4ac"
  }
 },
 "nbformat": 4,
 "nbformat_minor": 0
}