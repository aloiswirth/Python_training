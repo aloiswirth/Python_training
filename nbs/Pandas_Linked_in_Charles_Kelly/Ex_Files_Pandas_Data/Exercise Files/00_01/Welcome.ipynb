{
 "cells": [
  {
   "cell_type": "markdown",
   "metadata": {},
   "source": [
    "##### Pandas, an open source library\n",
    "- data structures\n",
    "- data analysis tools\n",
    "    \n",
    "##### Python, excellent capabilities\n",
    "- data manipulation\n",
    "- data preparation\n",
    "    \n",
    "##### Python + Pandas\n",
    "- data analysis + data modeling tools\n",
    "- entire workflow within Python"
   ]
  },
  {
   "cell_type": "markdown",
   "metadata": {},
   "source": [
    "### Pandas provides:\n",
    "- DataFrame object with integrated indexing\n",
    "- Tools for reading and writing data between in-memory data structures and different formats: CSV and text files, Microsoft Excel, SQL databases, and the fast HDF5 format\n",
    "- Intelligent data alignment and integrated handling of missing data\n",
    "- Intelligent label-based slicing of large data sets\n",
    "- SQL-like operations on data sets\n",
    "- Time series-functionality: \n",
    "    - date range generation and frequency conversion\n",
    "    - moving window statistics\n",
    "    - moving window linear regressions\n",
    "    - date shifting and lagging\n"
   ]
  },
  {
   "cell_type": "code",
   "execution_count": null,
   "metadata": {
    "collapsed": true
   },
   "outputs": [],
   "source": []
  }
 ],
 "metadata": {
  "anaconda-cloud": {},
  "kernelspec": {
   "display_name": "Python [Root]",
   "language": "python",
   "name": "Python [Root]"
  },
  "language_info": {
   "codemirror_mode": {
    "name": "ipython",
    "version": 3
   },
   "file_extension": ".py",
   "mimetype": "text/x-python",
   "name": "python",
   "nbconvert_exporter": "python",
   "pygments_lexer": "ipython3",
   "version": "3.5.2"
  }
 },
 "nbformat": 4,
 "nbformat_minor": 0
}
