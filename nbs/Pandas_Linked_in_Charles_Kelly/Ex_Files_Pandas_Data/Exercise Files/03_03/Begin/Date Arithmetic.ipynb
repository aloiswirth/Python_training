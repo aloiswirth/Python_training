{
 "cells": [
  {
   "cell_type": "markdown",
   "source": [
    "### Date Arithmetic\n",
    "documentation: http://pandas.pydata.org/pandas-docs/stable/timeseries.html#timeseries-offsets\n",
    "\n",
    "| Type      |   | Description                                                       |\n",
    "|-----------|---|-------------------------------------------------------------------|\n",
    "| date      |   | Store calendar date (year, month, day) using a Gregorian Calendar |\n",
    "| datetime  |   | Store both date and time                                          |\n",
    "| timedelta |   | Difference between two datetime values                            |\n",
    "\n",
    "##### common date arithmetic operations\n",
    "- calculate differences between date\n",
    "- generate sequences of dates and time spans\n",
    "- convert time series to a particular frequency"
   ],
   "metadata": {}
  },
  {
   "cell_type": "markdown",
   "source": [
    "### Date, time, functions\n",
    "documentation: http://pandas.pydata.org/pandas-docs/stable/api.html#top-level-dealing-with-datetimelike\n",
    "\n",
    "| to_datetime(*args, **kwargs)                      | Convert argument to datetime.                                               |   |\n",
    "|---------------------------------------------------|-----------------------------------------------------------------------------|---|\n",
    "| to_timedelta(*args, **kwargs)                     | Convert argument to timedelta                                               |   |\n",
    "| date_range([start, end, periods, freq, tz, ...])  | Return a fixed frequency datetime index, with day (calendar) as the default |   |\n",
    "| bdate_range([start, end, periods, freq, tz, ...]) | Return a fixed frequency datetime index, with business day as the default   |   |\n",
    "| period_range([start, end, periods, freq, name])   | Return a fixed frequency datetime index, with day (calendar) as the default |   |\n",
    "| timedelta_range([start, end, periods, freq, ...]) | Return a fixed frequency timedelta index, with day as the default           |   |\n",
    "| infer_freq(index[, warn])                         | Infer the most likely frequency given the input index.                      |   |"
   ],
   "metadata": {}
  },
  {
   "cell_type": "code",
   "execution_count": 1,
   "source": [
    "import pandas as pd\n",
    "import numpy as np\n",
    "from datetime import datetime"
   ],
   "outputs": [],
   "metadata": {
    "collapsed": true
   }
  },
  {
   "cell_type": "markdown",
   "source": [
    "##### now()"
   ],
   "metadata": {}
  },
  {
   "cell_type": "code",
   "execution_count": 2,
   "source": [
    "now = datetime.now()\n",
    "now"
   ],
   "outputs": [
    {
     "output_type": "execute_result",
     "data": {
      "text/plain": [
       "datetime.datetime(2021, 8, 26, 21, 58, 8, 694800)"
      ]
     },
     "metadata": {},
     "execution_count": 2
    }
   ],
   "metadata": {
    "collapsed": false
   }
  },
  {
   "cell_type": "code",
   "execution_count": 3,
   "source": [
    "now.year, now.month, now.day"
   ],
   "outputs": [
    {
     "output_type": "execute_result",
     "data": {
      "text/plain": [
       "(2021, 8, 26)"
      ]
     },
     "metadata": {},
     "execution_count": 3
    }
   ],
   "metadata": {
    "collapsed": false
   }
  },
  {
   "cell_type": "markdown",
   "source": [
    "##### delta\n",
    "source: http://pandas.pydata.org/pandas-docs/stable/timedeltas.html"
   ],
   "metadata": {}
  },
  {
   "cell_type": "code",
   "execution_count": 4,
   "source": [
    "delta = now - datetime(2001, 1, 1)\n",
    "delta"
   ],
   "outputs": [
    {
     "output_type": "execute_result",
     "data": {
      "text/plain": [
       "datetime.timedelta(days=7542, seconds=79088, microseconds=694800)"
      ]
     },
     "metadata": {},
     "execution_count": 4
    }
   ],
   "metadata": {
    "collapsed": false
   }
  },
  {
   "cell_type": "code",
   "execution_count": 7,
   "source": [
    "delta.days"
   ],
   "outputs": [
    {
     "output_type": "execute_result",
     "data": {
      "text/plain": [
       "7542"
      ]
     },
     "metadata": {},
     "execution_count": 7
    }
   ],
   "metadata": {
    "collapsed": false
   }
  },
  {
   "cell_type": "markdown",
   "source": [
    "### Parsing Timedelta\n",
    "##### from string"
   ],
   "metadata": {
    "collapsed": true
   }
  },
  {
   "cell_type": "code",
   "execution_count": 8,
   "source": [
    "pd.Timedelta(\"4 days 7 hours 6 minutes\")"
   ],
   "outputs": [
    {
     "output_type": "execute_result",
     "data": {
      "text/plain": [
       "Timedelta('4 days 07:06:00')"
      ]
     },
     "metadata": {},
     "execution_count": 8
    }
   ],
   "metadata": {
    "collapsed": false
   }
  },
  {
   "cell_type": "markdown",
   "source": [
    "##### named keyword arguments"
   ],
   "metadata": {}
  },
  {
   "cell_type": "code",
   "execution_count": 9,
   "source": [
    "# note: these MUST be specified as keyword arguments\n",
    "pd.Timedelta(days=1, seconds=1)"
   ],
   "outputs": [
    {
     "output_type": "execute_result",
     "data": {
      "text/plain": [
       "Timedelta('1 days 00:00:01')"
      ]
     },
     "metadata": {},
     "execution_count": 9
    }
   ],
   "metadata": {
    "collapsed": false
   }
  },
  {
   "cell_type": "markdown",
   "source": [
    "##### integers with a unit"
   ],
   "metadata": {}
  },
  {
   "cell_type": "code",
   "execution_count": null,
   "source": [],
   "outputs": [],
   "metadata": {
    "collapsed": false
   }
  },
  {
   "cell_type": "markdown",
   "source": [
    "##### create a range of dates from Timedelta"
   ],
   "metadata": {}
  },
  {
   "cell_type": "code",
   "execution_count": 10,
   "source": [
    "us_memorial_day = datetime(2021, 5, 30)\n",
    "print(us_memorial_day)\n",
    "us_labor_day = datetime(2021, 9, 5)\n",
    "print(us_labor_day)\n",
    "us_summer_time = us_labor_day - us_memorial_day\n",
    "print(us_summer_time)\n",
    "type(us_summer_time)"
   ],
   "outputs": [
    {
     "output_type": "stream",
     "name": "stdout",
     "text": [
      "2021-05-30 00:00:00\n",
      "2021-09-05 00:00:00\n",
      "98 days, 0:00:00\n"
     ]
    },
    {
     "output_type": "execute_result",
     "data": {
      "text/plain": [
       "datetime.timedelta"
      ]
     },
     "metadata": {},
     "execution_count": 10
    }
   ],
   "metadata": {
    "collapsed": false
   }
  },
  {
   "cell_type": "code",
   "execution_count": 12,
   "source": [
    "us_summer_time_range = pd.date_range(us_memorial_day, periods=us_summer_time.days, freq='D')\n",
    "us_summer_time_range"
   ],
   "outputs": [
    {
     "output_type": "execute_result",
     "data": {
      "text/plain": [
       "DatetimeIndex(['2021-05-30', '2021-05-31', '2021-06-01', '2021-06-02',\n",
       "               '2021-06-03', '2021-06-04', '2021-06-05', '2021-06-06',\n",
       "               '2021-06-07', '2021-06-08', '2021-06-09', '2021-06-10',\n",
       "               '2021-06-11', '2021-06-12', '2021-06-13', '2021-06-14',\n",
       "               '2021-06-15', '2021-06-16', '2021-06-17', '2021-06-18',\n",
       "               '2021-06-19', '2021-06-20', '2021-06-21', '2021-06-22',\n",
       "               '2021-06-23', '2021-06-24', '2021-06-25', '2021-06-26',\n",
       "               '2021-06-27', '2021-06-28', '2021-06-29', '2021-06-30',\n",
       "               '2021-07-01', '2021-07-02', '2021-07-03', '2021-07-04',\n",
       "               '2021-07-05', '2021-07-06', '2021-07-07', '2021-07-08',\n",
       "               '2021-07-09', '2021-07-10', '2021-07-11', '2021-07-12',\n",
       "               '2021-07-13', '2021-07-14', '2021-07-15', '2021-07-16',\n",
       "               '2021-07-17', '2021-07-18', '2021-07-19', '2021-07-20',\n",
       "               '2021-07-21', '2021-07-22', '2021-07-23', '2021-07-24',\n",
       "               '2021-07-25', '2021-07-26', '2021-07-27', '2021-07-28',\n",
       "               '2021-07-29', '2021-07-30', '2021-07-31', '2021-08-01',\n",
       "               '2021-08-02', '2021-08-03', '2021-08-04', '2021-08-05',\n",
       "               '2021-08-06', '2021-08-07', '2021-08-08', '2021-08-09',\n",
       "               '2021-08-10', '2021-08-11', '2021-08-12', '2021-08-13',\n",
       "               '2021-08-14', '2021-08-15', '2021-08-16', '2021-08-17',\n",
       "               '2021-08-18', '2021-08-19', '2021-08-20', '2021-08-21',\n",
       "               '2021-08-22', '2021-08-23', '2021-08-24', '2021-08-25',\n",
       "               '2021-08-26', '2021-08-27', '2021-08-28', '2021-08-29',\n",
       "               '2021-08-30', '2021-08-31', '2021-09-01', '2021-09-02',\n",
       "               '2021-09-03', '2021-09-04'],\n",
       "              dtype='datetime64[ns]', freq='D')"
      ]
     },
     "metadata": {},
     "execution_count": 12
    }
   ],
   "metadata": {
    "collapsed": false
   }
  },
  {
   "cell_type": "markdown",
   "source": [
    "##### summer_time time series with random data"
   ],
   "metadata": {}
  },
  {
   "cell_type": "code",
   "execution_count": 15,
   "source": [
    "us_summer_time_time_series = pd.Series(np.random.randn(us_summer_time.days), index=us_summer_time_range)\n",
    "us_summer_time_time_series.tail()"
   ],
   "outputs": [
    {
     "output_type": "execute_result",
     "data": {
      "text/plain": [
       "2021-08-31    1.464787\n",
       "2021-09-01    0.527732\n",
       "2021-09-02   -0.120680\n",
       "2021-09-03    0.681628\n",
       "2021-09-04   -0.894920\n",
       "Freq: D, dtype: float64"
      ]
     },
     "metadata": {},
     "execution_count": 15
    }
   ],
   "metadata": {
    "collapsed": false
   }
  },
  {
   "cell_type": "code",
   "execution_count": null,
   "source": [],
   "outputs": [],
   "metadata": {}
  }
 ],
 "metadata": {
  "kernelspec": {
   "name": "python3",
   "display_name": "Python 3.9.5 64-bit"
  },
  "language_info": {
   "codemirror_mode": {
    "name": "ipython",
    "version": 3
   },
   "file_extension": ".py",
   "mimetype": "text/x-python",
   "name": "python",
   "nbconvert_exporter": "python",
   "pygments_lexer": "ipython3",
   "version": "3.9.5"
  },
  "interpreter": {
   "hash": "f9f85f796d01129d0dd105a088854619f454435301f6ffec2fea96ecbd9be4ac"
  }
 },
 "nbformat": 4,
 "nbformat_minor": 2
}