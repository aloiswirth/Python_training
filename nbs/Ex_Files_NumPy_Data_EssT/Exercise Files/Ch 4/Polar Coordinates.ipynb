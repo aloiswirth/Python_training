{
 "cells": [
  {
   "cell_type": "code",
   "execution_count": 6,
   "metadata": {
    "collapsed": true
   },
   "outputs": [],
   "source": [
    "import numpy as np\n",
    "import matplotlib.pyplot as plt"
   ]
  },
  {
   "cell_type": "markdown",
   "metadata": {},
   "source": [
    "### Plot using Polar coordinates\n",
    "\n",
    "Next example from: https://www.getdatajoy.com/examples/python-plots/polar-coordinates-plot"
   ]
  },
  {
   "cell_type": "code",
   "execution_count": 7,
   "metadata": {
    "collapsed": false
   },
   "outputs": [],
   "source": [
    "theta = np.linspace(-np.pi, np.pi, 100)  \n",
    "r1 = 1 - np.sin(3*theta)\n",
    "r2 = 1 + np.cos(theta)"
   ]
  },
  {
   "cell_type": "code",
   "execution_count": 8,
   "metadata": {
    "collapsed": false
   },
   "outputs": [
    {
     "data": {
      "text/plain": [
       "[<matplotlib.lines.Line2D at 0xa70e337668>]"
      ]
     },
     "execution_count": 8,
     "metadata": {},
     "output_type": "execute_result"
    }
   ],
   "source": [
    "ax = plt.subplot(111, polar=True,      # add subplot in polar coordinates \n",
    "                 axisbg='Azure')       # background colour\n",
    "\n",
    "ax.set_rmax(2.2)                       # r maximum value\n",
    "ax.grid(True)                          # add the grid\n",
    "                 \n",
    "ax.plot(theta, r1,\n",
    "        color='Tomato',                # line colour\n",
    "        ls='--',                       # line style\n",
    "        lw=3,                          # line width\n",
    "        label='a 3-fold curve')        # label\n",
    "\n",
    "ax.plot(theta, r2, \n",
    "        color='purple',\n",
    "        linewidth=3,\n",
    "        ls = '-',\n",
    "        label = 'a cardioid')"
   ]
  },
  {
   "cell_type": "code",
   "execution_count": 9,
   "metadata": {
    "collapsed": true
   },
   "outputs": [],
   "source": [
    "ax.legend(loc=\"lower right\")           # legend location\n",
    "\n",
    "titlefont = {\n",
    "        'family' : 'serif',\n",
    "        'color'  : 'black',\n",
    "        'weight' : 'bold',\n",
    "        'size'   : 16,\n",
    "        }\n",
    "\n",
    "ax.set_title(\"A plot in polar coordinates\", # title\n",
    "             va='bottom',                   # some space below the title\n",
    "             fontdict = titlefont           # set the font properties\n",
    "             )\n",
    "\n",
    "plt.show()"
   ]
  },
  {
   "cell_type": "code",
   "execution_count": null,
   "metadata": {
    "collapsed": true
   },
   "outputs": [],
   "source": []
  }
 ],
 "metadata": {
  "kernelspec": {
   "display_name": "Python 3",
   "language": "python",
   "name": "python3"
  },
  "language_info": {
   "codemirror_mode": {
    "name": "ipython",
    "version": 3
   },
   "file_extension": ".py",
   "mimetype": "text/x-python",
   "name": "python",
   "nbconvert_exporter": "python",
   "pygments_lexer": "ipython3",
   "version": "3.5.1"
  }
 },
 "nbformat": 4,
 "nbformat_minor": 0
}
