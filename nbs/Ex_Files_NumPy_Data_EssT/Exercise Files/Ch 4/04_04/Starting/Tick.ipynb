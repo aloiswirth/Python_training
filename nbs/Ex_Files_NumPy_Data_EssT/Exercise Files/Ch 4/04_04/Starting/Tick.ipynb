{
 "cells": [
  {
   "cell_type": "markdown",
   "metadata": {},
   "source": [
    "<h1>Tick Marks, Labels, and Grids</h1>"
   ]
  },
  {
   "cell_type": "code",
   "execution_count": 1,
   "metadata": {
    "collapsed": true
   },
   "outputs": [],
   "source": [
    "import numpy as np\n",
    "import matplotlib.pyplot as plt"
   ]
  },
  {
   "cell_type": "code",
   "execution_count": 15,
   "metadata": {
    "collapsed": false
   },
   "outputs": [],
   "source": [
    "number_of_data_points = 1000\n",
    "\n",
    "my_figure = plt.figure()\n",
    "subplot_1 = my_figure.add_subplot(1, 1, 1)\n",
    "subplot_1.plot(np.random.rand(number_of_data_points).cumsum())\n",
    "\n",
    "number_of_ticks = 5\n",
    "ticks = np.arange(0, number_of_data_points, number_of_data_points//number_of_ticks)\n",
    "subplot_1.set_xticks(ticks)\n",
    "\n",
    "labels = subplot_1.set_xticklabels(['one', 'two', 'three', 'four', 'five'], rotation=45, fontsize='small')\n",
    "\n",
    "subplot_1.set_title (\"My First Ticked Plot\")\n",
    "subplot_1.set_xlabel (\"Groups\")\n",
    "\n",
    "subplot_1.grid(True)\n",
    "gridlines = subplot_1.get_xgridlines() + subplot_1.get_ygridlines()\n",
    "for line in gridlines:\n",
    "    line.set_linestyle(':')\n",
    "plt.show()"
   ]
  },
  {
   "cell_type": "markdown",
   "metadata": {},
   "source": [
    "Line styles for grid lines\n",
    "<list>\n",
    "    <li>-    solid line</li>\n",
    "    <li>--   dashed line</li>\n",
    "    <li>-.   dash dot line</li>\n",
    "    <li>:    dotted</li>\n",
    "</list>\n",
    "\n",
    "More information about lines available at: http://matplotlib.org/api/lines_api.html"
   ]
  },
  {
   "cell_type": "code",
   "execution_count": null,
   "metadata": {
    "collapsed": true
   },
   "outputs": [],
   "source": []
  }
 ],
 "metadata": {
  "kernelspec": {
   "display_name": "Python 3",
   "language": "python",
   "name": "python3"
  },
  "language_info": {
   "codemirror_mode": {
    "name": "ipython",
    "version": 3
   },
   "file_extension": ".py",
   "mimetype": "text/x-python",
   "name": "python",
   "nbconvert_exporter": "python",
   "pygments_lexer": "ipython3",
   "version": "3.5.1"
  }
 },
 "nbformat": 4,
 "nbformat_minor": 0
}
