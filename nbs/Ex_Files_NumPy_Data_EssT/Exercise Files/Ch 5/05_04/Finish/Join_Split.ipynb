{
 "cells": [
  {
   "cell_type": "markdown",
   "metadata": {},
   "source": [
    "# Joining and Splitting arrays\n",
    "- concatenate\n",
    "- stack\n",
    "- split"
   ]
  },
  {
   "cell_type": "code",
   "execution_count": 2,
   "metadata": {
    "collapsed": true
   },
   "outputs": [],
   "source": [
    "import numpy as np"
   ]
  },
  {
   "cell_type": "markdown",
   "metadata": {},
   "source": [
    "### concatenate\n",
    "documentation: http://docs.scipy.org/doc/numpy/reference/generated/numpy.concatenate.html"
   ]
  },
  {
   "cell_type": "code",
   "execution_count": 24,
   "metadata": {
    "collapsed": false
   },
   "outputs": [
    {
     "data": {
      "text/plain": [
       "array([[1, 2],\n",
       "       [3, 4]])"
      ]
     },
     "execution_count": 24,
     "metadata": {},
     "output_type": "execute_result"
    }
   ],
   "source": [
    "a = np.array([[1, 2], [3, 4]])\n",
    "b = np.array([[5, 6]])\n",
    "a"
   ]
  },
  {
   "cell_type": "code",
   "execution_count": 25,
   "metadata": {
    "collapsed": false
   },
   "outputs": [
    {
     "data": {
      "text/plain": [
       "array([[1, 2],\n",
       "       [3, 4],\n",
       "       [5, 6]])"
      ]
     },
     "execution_count": 25,
     "metadata": {},
     "output_type": "execute_result"
    }
   ],
   "source": [
    "together = np.concatenate((a, b), axis=0)\n",
    "together"
   ]
  },
  {
   "cell_type": "code",
   "execution_count": 26,
   "metadata": {
    "collapsed": false
   },
   "outputs": [
    {
     "data": {
      "text/plain": [
       "(3, 2)"
      ]
     },
     "execution_count": 26,
     "metadata": {},
     "output_type": "execute_result"
    }
   ],
   "source": [
    "together.shape"
   ]
  },
  {
   "cell_type": "code",
   "execution_count": 27,
   "metadata": {
    "collapsed": false
   },
   "outputs": [
    {
     "data": {
      "text/plain": [
       "array([[  1,   2],\n",
       "       [  3, 555],\n",
       "       [  5,   6]])"
      ]
     },
     "execution_count": 27,
     "metadata": {},
     "output_type": "execute_result"
    }
   ],
   "source": [
    "together[1,1] = 555\n",
    "together"
   ]
  },
  {
   "cell_type": "code",
   "execution_count": 28,
   "metadata": {
    "collapsed": false
   },
   "outputs": [
    {
     "data": {
      "text/plain": [
       "array([[1, 2],\n",
       "       [3, 4]])"
      ]
     },
     "execution_count": 28,
     "metadata": {},
     "output_type": "execute_result"
    }
   ],
   "source": [
    "a"
   ]
  },
  {
   "cell_type": "code",
   "execution_count": 29,
   "metadata": {
    "collapsed": false
   },
   "outputs": [
    {
     "data": {
      "text/plain": [
       "array([[ 8, 11],\n",
       "       [14, 17]])"
      ]
     },
     "execution_count": 29,
     "metadata": {},
     "output_type": "execute_result"
    }
   ],
   "source": [
    "c = np.array([[1, 2], [3, 4]]) *3 + 5\n",
    "c"
   ]
  },
  {
   "cell_type": "code",
   "execution_count": 30,
   "metadata": {
    "collapsed": false
   },
   "outputs": [
    {
     "data": {
      "text/plain": [
       "array([[ 1,  2,  8, 11],\n",
       "       [ 3,  4, 14, 17]])"
      ]
     },
     "execution_count": 30,
     "metadata": {},
     "output_type": "execute_result"
    }
   ],
   "source": [
    "np.concatenate((a, c), axis=1)"
   ]
  },
  {
   "cell_type": "markdown",
   "metadata": {},
   "source": [
    "### stack"
   ]
  },
  {
   "cell_type": "code",
   "execution_count": 8,
   "metadata": {
    "collapsed": false
   },
   "outputs": [
    {
     "data": {
      "text/plain": [
       "array([[[-1.18221033,  0.8794368 ,  1.04397402,  1.54248418],\n",
       "        [ 2.15517292, -0.41590548, -0.47411981, -0.85446468],\n",
       "        [-0.5467576 , -0.17805295,  0.74718373, -0.85918489]],\n",
       "\n",
       "       [[ 0.99922629,  2.2266379 , -1.03527259,  1.31458375],\n",
       "        [-2.13968804, -0.39433587,  1.71506755, -0.54819918],\n",
       "        [-0.56628347, -0.14802366,  0.97525552, -0.631596  ]],\n",
       "\n",
       "       [[ 0.78194832, -2.27149732, -1.02808947, -0.84738016],\n",
       "        [-0.94530794, -0.77319444,  0.01623713,  0.01696452],\n",
       "        [-1.19166104, -0.13689586, -0.62050553,  0.31720613]],\n",
       "\n",
       "       [[ 0.42296136,  0.25482976, -1.29466026, -0.57394076],\n",
       "        [ 0.18391996, -0.86602827,  2.73949112,  1.38112453],\n",
       "        [-0.42725916, -1.35284525, -0.04967307, -0.67863503]],\n",
       "\n",
       "       [[-0.49544948, -0.14912159, -0.57017557, -0.1209654 ],\n",
       "        [ 0.77243958, -0.50037615, -0.51223141, -0.1295934 ],\n",
       "        [ 1.34420523,  0.91983239, -0.76750917,  0.40602833]]])"
      ]
     },
     "execution_count": 8,
     "metadata": {},
     "output_type": "execute_result"
    }
   ],
   "source": [
    "arrays = np.zeros((5,3,4))\n",
    "for n in range(5):\n",
    "    arrays[n] = np.random.randn(3, 4)\n",
    "    \n",
    "arrays"
   ]
  },
  {
   "cell_type": "code",
   "execution_count": 32,
   "metadata": {
    "collapsed": false
   },
   "outputs": [],
   "source": [
    "stack0 = np.stack(arrays, axis=0)\n",
    "stack1 = np.stack(arrays, axis=1)\n",
    "stack2 = np.stack(arrays, axis=2)"
   ]
  },
  {
   "cell_type": "code",
   "execution_count": 33,
   "metadata": {
    "collapsed": false
   },
   "outputs": [
    {
     "data": {
      "text/plain": [
       "array([[5, 3, 4],\n",
       "       [3, 5, 4],\n",
       "       [3, 4, 5]])"
      ]
     },
     "execution_count": 33,
     "metadata": {},
     "output_type": "execute_result"
    }
   ],
   "source": [
    "my_stacks = np.array([stack0.shape, stack1.shape, stack2.shape])\n",
    "my_stacks"
   ]
  },
  {
   "cell_type": "code",
   "execution_count": 34,
   "metadata": {
    "collapsed": false
   },
   "outputs": [
    {
     "data": {
      "text/plain": [
       "array([[[-1.67111666, -1.77312429, -0.11157658,  0.57131703],\n",
       "        [ 1.08374805,  0.34744236,  0.10991829,  1.30350911],\n",
       "        [-0.52289443, -1.21957339, -0.2035887 ,  0.31155047]],\n",
       "\n",
       "       [[-0.99252035,  0.62318867,  0.63820547,  0.07638464],\n",
       "        [-0.44640297, -1.90686092,  0.44524353,  2.07716712],\n",
       "        [-0.86492952, -0.91818943, -0.03095393, -0.58845213]],\n",
       "\n",
       "       [[-1.23813727,  0.47647202,  2.16335874, -2.67905092],\n",
       "        [ 0.86685027,  1.00761015, -0.75155321, -0.75433504],\n",
       "        [-0.90589979, -0.8594017 , -1.75478817, -0.89139958]],\n",
       "\n",
       "       [[ 0.74364534,  0.21782878,  0.08451976, -1.18676986],\n",
       "        [ 0.54047173,  1.06346904,  0.91173701, -0.69110582],\n",
       "        [ 0.77735808, -1.51785954,  0.2303225 ,  0.67743367]],\n",
       "\n",
       "       [[ 1.25709492,  0.66662648,  0.62396185,  0.18064289],\n",
       "        [ 0.0439015 ,  1.48259207, -0.65545813,  1.97419587],\n",
       "        [ 0.12000067, -1.29599458, -1.25730427,  0.15815604]]])"
      ]
     },
     "execution_count": 34,
     "metadata": {},
     "output_type": "execute_result"
    }
   ],
   "source": [
    "stack0"
   ]
  },
  {
   "cell_type": "code",
   "execution_count": 35,
   "metadata": {
    "collapsed": false
   },
   "outputs": [
    {
     "data": {
      "text/plain": [
       "array([[[-1.67111666, -1.77312429, -0.11157658,  0.57131703],\n",
       "        [-0.99252035,  0.62318867,  0.63820547,  0.07638464],\n",
       "        [-1.23813727,  0.47647202,  2.16335874, -2.67905092],\n",
       "        [ 0.74364534,  0.21782878,  0.08451976, -1.18676986],\n",
       "        [ 1.25709492,  0.66662648,  0.62396185,  0.18064289]],\n",
       "\n",
       "       [[ 1.08374805,  0.34744236,  0.10991829,  1.30350911],\n",
       "        [-0.44640297, -1.90686092,  0.44524353,  2.07716712],\n",
       "        [ 0.86685027,  1.00761015, -0.75155321, -0.75433504],\n",
       "        [ 0.54047173,  1.06346904,  0.91173701, -0.69110582],\n",
       "        [ 0.0439015 ,  1.48259207, -0.65545813,  1.97419587]],\n",
       "\n",
       "       [[-0.52289443, -1.21957339, -0.2035887 ,  0.31155047],\n",
       "        [-0.86492952, -0.91818943, -0.03095393, -0.58845213],\n",
       "        [-0.90589979, -0.8594017 , -1.75478817, -0.89139958],\n",
       "        [ 0.77735808, -1.51785954,  0.2303225 ,  0.67743367],\n",
       "        [ 0.12000067, -1.29599458, -1.25730427,  0.15815604]]])"
      ]
     },
     "execution_count": 35,
     "metadata": {},
     "output_type": "execute_result"
    }
   ],
   "source": [
    "stack1"
   ]
  },
  {
   "cell_type": "code",
   "execution_count": 36,
   "metadata": {
    "collapsed": false
   },
   "outputs": [
    {
     "data": {
      "text/plain": [
       "array([[[-1.67111666, -0.99252035, -1.23813727,  0.74364534,  1.25709492],\n",
       "        [-1.77312429,  0.62318867,  0.47647202,  0.21782878,  0.66662648],\n",
       "        [-0.11157658,  0.63820547,  2.16335874,  0.08451976,  0.62396185],\n",
       "        [ 0.57131703,  0.07638464, -2.67905092, -1.18676986,  0.18064289]],\n",
       "\n",
       "       [[ 1.08374805, -0.44640297,  0.86685027,  0.54047173,  0.0439015 ],\n",
       "        [ 0.34744236, -1.90686092,  1.00761015,  1.06346904,  1.48259207],\n",
       "        [ 0.10991829,  0.44524353, -0.75155321,  0.91173701, -0.65545813],\n",
       "        [ 1.30350911,  2.07716712, -0.75433504, -0.69110582,  1.97419587]],\n",
       "\n",
       "       [[-0.52289443, -0.86492952, -0.90589979,  0.77735808,  0.12000067],\n",
       "        [-1.21957339, -0.91818943, -0.8594017 , -1.51785954, -1.29599458],\n",
       "        [-0.2035887 , -0.03095393, -1.75478817,  0.2303225 , -1.25730427],\n",
       "        [ 0.31155047, -0.58845213, -0.89139958,  0.67743367,  0.15815604]]])"
      ]
     },
     "execution_count": 36,
     "metadata": {},
     "output_type": "execute_result"
    }
   ],
   "source": [
    "stack2"
   ]
  },
  {
   "cell_type": "markdown",
   "metadata": {},
   "source": [
    "### split\n",
    "for information, please see: http://docs.scipy.org/doc/numpy/reference/generated/numpy.split.html"
   ]
  },
  {
   "cell_type": "code",
   "execution_count": 50,
   "metadata": {
    "collapsed": false
   },
   "outputs": [
    {
     "data": {
      "text/plain": [
       "[array([0, 1, 2, 3, 4])]"
      ]
     },
     "execution_count": 50,
     "metadata": {},
     "output_type": "execute_result"
    }
   ],
   "source": [
    "temp = np.arange(5)\n",
    "np.split(temp,1)"
   ]
  },
  {
   "cell_type": "code",
   "execution_count": 37,
   "metadata": {
    "collapsed": false
   },
   "outputs": [
    {
     "data": {
      "text/plain": [
       "(5, 3, 4)"
      ]
     },
     "execution_count": 37,
     "metadata": {},
     "output_type": "execute_result"
    }
   ],
   "source": [
    "before_split = stack0\n",
    "before_split.shape"
   ]
  },
  {
   "cell_type": "code",
   "execution_count": 38,
   "metadata": {
    "collapsed": false
   },
   "outputs": [
    {
     "data": {
      "text/plain": [
       "[array([[[-1.67111666, -1.77312429, -0.11157658,  0.57131703],\n",
       "         [ 1.08374805,  0.34744236,  0.10991829,  1.30350911],\n",
       "         [-0.52289443, -1.21957339, -0.2035887 ,  0.31155047]]]),\n",
       " array([[[-0.99252035,  0.62318867,  0.63820547,  0.07638464],\n",
       "         [-0.44640297, -1.90686092,  0.44524353,  2.07716712],\n",
       "         [-0.86492952, -0.91818943, -0.03095393, -0.58845213]]]),\n",
       " array([[[-1.23813727,  0.47647202,  2.16335874, -2.67905092],\n",
       "         [ 0.86685027,  1.00761015, -0.75155321, -0.75433504],\n",
       "         [-0.90589979, -0.8594017 , -1.75478817, -0.89139958]]]),\n",
       " array([[[ 0.74364534,  0.21782878,  0.08451976, -1.18676986],\n",
       "         [ 0.54047173,  1.06346904,  0.91173701, -0.69110582],\n",
       "         [ 0.77735808, -1.51785954,  0.2303225 ,  0.67743367]]]),\n",
       " array([[[ 1.25709492,  0.66662648,  0.62396185,  0.18064289],\n",
       "         [ 0.0439015 ,  1.48259207, -0.65545813,  1.97419587],\n",
       "         [ 0.12000067, -1.29599458, -1.25730427,  0.15815604]]])]"
      ]
     },
     "execution_count": 38,
     "metadata": {},
     "output_type": "execute_result"
    }
   ],
   "source": [
    "s0=np.split (before_split, 5, axis=0)\n",
    "s0"
   ]
  },
  {
   "cell_type": "code",
   "execution_count": 39,
   "metadata": {
    "collapsed": false
   },
   "outputs": [
    {
     "data": {
      "text/plain": [
       "list"
      ]
     },
     "execution_count": 39,
     "metadata": {},
     "output_type": "execute_result"
    }
   ],
   "source": [
    "type(s0)"
   ]
  },
  {
   "cell_type": "code",
   "execution_count": 54,
   "metadata": {
    "collapsed": false
   },
   "outputs": [
    {
     "data": {
      "text/plain": [
       "array([[[-0.99252035,  0.62318867,  0.63820547,  0.07638464],\n",
       "        [-0.44640297, -1.90686092,  0.44524353,  2.07716712],\n",
       "        [-0.86492952, -0.91818943, -0.03095393, -0.58845213]]])"
      ]
     },
     "execution_count": 54,
     "metadata": {},
     "output_type": "execute_result"
    }
   ],
   "source": [
    "s0[1]"
   ]
  },
  {
   "cell_type": "code",
   "execution_count": 55,
   "metadata": {
    "collapsed": false
   },
   "outputs": [
    {
     "data": {
      "text/plain": [
       "(1, 3, 4)"
      ]
     },
     "execution_count": 55,
     "metadata": {},
     "output_type": "execute_result"
    }
   ],
   "source": [
    "s0[1].shape"
   ]
  },
  {
   "cell_type": "code",
   "execution_count": 41,
   "metadata": {
    "collapsed": false
   },
   "outputs": [
    {
     "data": {
      "text/plain": [
       "[array([[[-1.67111666, -1.77312429, -0.11157658,  0.57131703]],\n",
       " \n",
       "        [[-0.99252035,  0.62318867,  0.63820547,  0.07638464]],\n",
       " \n",
       "        [[-1.23813727,  0.47647202,  2.16335874, -2.67905092]],\n",
       " \n",
       "        [[ 0.74364534,  0.21782878,  0.08451976, -1.18676986]],\n",
       " \n",
       "        [[ 1.25709492,  0.66662648,  0.62396185,  0.18064289]]]),\n",
       " array([[[ 1.08374805,  0.34744236,  0.10991829,  1.30350911]],\n",
       " \n",
       "        [[-0.44640297, -1.90686092,  0.44524353,  2.07716712]],\n",
       " \n",
       "        [[ 0.86685027,  1.00761015, -0.75155321, -0.75433504]],\n",
       " \n",
       "        [[ 0.54047173,  1.06346904,  0.91173701, -0.69110582]],\n",
       " \n",
       "        [[ 0.0439015 ,  1.48259207, -0.65545813,  1.97419587]]]),\n",
       " array([[[-0.52289443, -1.21957339, -0.2035887 ,  0.31155047]],\n",
       " \n",
       "        [[-0.86492952, -0.91818943, -0.03095393, -0.58845213]],\n",
       " \n",
       "        [[-0.90589979, -0.8594017 , -1.75478817, -0.89139958]],\n",
       " \n",
       "        [[ 0.77735808, -1.51785954,  0.2303225 ,  0.67743367]],\n",
       " \n",
       "        [[ 0.12000067, -1.29599458, -1.25730427,  0.15815604]]])]"
      ]
     },
     "execution_count": 41,
     "metadata": {},
     "output_type": "execute_result"
    }
   ],
   "source": [
    "s1=np.split (before_split, 3, axis=1)\n",
    "s1"
   ]
  },
  {
   "cell_type": "code",
   "execution_count": 43,
   "metadata": {
    "collapsed": false
   },
   "outputs": [
    {
     "data": {
      "text/plain": [
       "[array([[[-1.67111666],\n",
       "         [ 1.08374805],\n",
       "         [-0.52289443]],\n",
       " \n",
       "        [[-0.99252035],\n",
       "         [-0.44640297],\n",
       "         [-0.86492952]],\n",
       " \n",
       "        [[-1.23813727],\n",
       "         [ 0.86685027],\n",
       "         [-0.90589979]],\n",
       " \n",
       "        [[ 0.74364534],\n",
       "         [ 0.54047173],\n",
       "         [ 0.77735808]],\n",
       " \n",
       "        [[ 1.25709492],\n",
       "         [ 0.0439015 ],\n",
       "         [ 0.12000067]]]), array([[[-1.77312429],\n",
       "         [ 0.34744236],\n",
       "         [-1.21957339]],\n",
       " \n",
       "        [[ 0.62318867],\n",
       "         [-1.90686092],\n",
       "         [-0.91818943]],\n",
       " \n",
       "        [[ 0.47647202],\n",
       "         [ 1.00761015],\n",
       "         [-0.8594017 ]],\n",
       " \n",
       "        [[ 0.21782878],\n",
       "         [ 1.06346904],\n",
       "         [-1.51785954]],\n",
       " \n",
       "        [[ 0.66662648],\n",
       "         [ 1.48259207],\n",
       "         [-1.29599458]]]), array([[[-0.11157658],\n",
       "         [ 0.10991829],\n",
       "         [-0.2035887 ]],\n",
       " \n",
       "        [[ 0.63820547],\n",
       "         [ 0.44524353],\n",
       "         [-0.03095393]],\n",
       " \n",
       "        [[ 2.16335874],\n",
       "         [-0.75155321],\n",
       "         [-1.75478817]],\n",
       " \n",
       "        [[ 0.08451976],\n",
       "         [ 0.91173701],\n",
       "         [ 0.2303225 ]],\n",
       " \n",
       "        [[ 0.62396185],\n",
       "         [-0.65545813],\n",
       "         [-1.25730427]]]), array([[[ 0.57131703],\n",
       "         [ 1.30350911],\n",
       "         [ 0.31155047]],\n",
       " \n",
       "        [[ 0.07638464],\n",
       "         [ 2.07716712],\n",
       "         [-0.58845213]],\n",
       " \n",
       "        [[-2.67905092],\n",
       "         [-0.75433504],\n",
       "         [-0.89139958]],\n",
       " \n",
       "        [[-1.18676986],\n",
       "         [-0.69110582],\n",
       "         [ 0.67743367]],\n",
       " \n",
       "        [[ 0.18064289],\n",
       "         [ 1.97419587],\n",
       "         [ 0.15815604]]])]"
      ]
     },
     "execution_count": 43,
     "metadata": {},
     "output_type": "execute_result"
    }
   ],
   "source": [
    "s2=np.split (before_split, 4, axis=2)\n",
    "s2"
   ]
  }
 ],
 "metadata": {
  "anaconda-cloud": {},
  "kernelspec": {
   "display_name": "Python 3",
   "language": "python",
   "name": "python3"
  },
  "language_info": {
   "codemirror_mode": {
    "name": "ipython",
    "version": 3
   },
   "file_extension": ".py",
   "mimetype": "text/x-python",
   "name": "python",
   "nbconvert_exporter": "python",
   "pygments_lexer": "ipython3",
   "version": "3.5.1"
  }
 },
 "nbformat": 4,
 "nbformat_minor": 0
}
