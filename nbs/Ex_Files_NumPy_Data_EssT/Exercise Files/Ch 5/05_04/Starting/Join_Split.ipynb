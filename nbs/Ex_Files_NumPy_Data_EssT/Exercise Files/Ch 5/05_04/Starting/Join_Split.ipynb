{
 "cells": [
  {
   "cell_type": "markdown",
   "metadata": {},
   "source": [
    "# Joining and Splitting Arrays\n",
    "- concatenate\n",
    "- stack\n",
    "- split\n"
   ]
  },
  {
   "cell_type": "code",
   "execution_count": null,
   "metadata": {},
   "outputs": [],
   "source": [
    "import numpy as np"
   ]
  },
  {
   "cell_type": "code",
   "execution_count": null,
   "metadata": {},
   "outputs": [
    {
     "data": {
      "text/plain": [
       "array([[1, 2],\n",
       "       [3, 4]])"
      ]
     },
     "execution_count": null,
     "metadata": {},
     "output_type": "execute_result"
    }
   ],
   "source": [
    "a = np.array([[1, 2], [3, 4]])\n",
    "b = np.array([[5, 6]])\n",
    "a"
   ]
  },
  {
   "cell_type": "code",
   "execution_count": null,
   "metadata": {},
   "outputs": [
    {
     "data": {
      "text/plain": [
       "array([[1, 2],\n",
       "       [3, 4],\n",
       "       [5, 6]])"
      ]
     },
     "execution_count": null,
     "metadata": {},
     "output_type": "execute_result"
    }
   ],
   "source": [
    "together = np.concatenate((a, b), axis=0)\n",
    "together"
   ]
  },
  {
   "cell_type": "code",
   "execution_count": null,
   "metadata": {},
   "outputs": [
    {
     "data": {
      "text/plain": [
       "(3, 2)"
      ]
     },
     "execution_count": null,
     "metadata": {},
     "output_type": "execute_result"
    }
   ],
   "source": [
    "together.shape"
   ]
  },
  {
   "cell_type": "code",
   "execution_count": null,
   "metadata": {},
   "outputs": [
    {
     "data": {
      "text/plain": [
       "array([[  1,   2],\n",
       "       [  3, 555],\n",
       "       [  5,   6]])"
      ]
     },
     "execution_count": null,
     "metadata": {},
     "output_type": "execute_result"
    }
   ],
   "source": [
    "together[1,1] = 555\n",
    "together"
   ]
  },
  {
   "cell_type": "code",
   "execution_count": null,
   "metadata": {},
   "outputs": [
    {
     "data": {
      "text/plain": [
       "array([[1, 2],\n",
       "       [3, 4]])"
      ]
     },
     "execution_count": null,
     "metadata": {},
     "output_type": "execute_result"
    }
   ],
   "source": [
    "a"
   ]
  },
  {
   "cell_type": "code",
   "execution_count": null,
   "metadata": {},
   "outputs": [
    {
     "data": {
      "text/plain": [
       "array([[ 8, 11],\n",
       "       [14, 17]])"
      ]
     },
     "execution_count": null,
     "metadata": {},
     "output_type": "execute_result"
    }
   ],
   "source": [
    "c = np.array([[1,2], [3,4]]) * 3 + 5\n",
    "c"
   ]
  },
  {
   "cell_type": "code",
   "execution_count": null,
   "metadata": {},
   "outputs": [
    {
     "data": {
      "text/plain": [
       "array([[ 1,  2,  8, 11],\n",
       "       [ 3,  4, 14, 17]])"
      ]
     },
     "execution_count": null,
     "metadata": {},
     "output_type": "execute_result"
    }
   ],
   "source": [
    "np.concatenate((a, c), axis=1)"
   ]
  },
  {
   "cell_type": "code",
   "execution_count": null,
   "metadata": {},
   "outputs": [
    {
     "data": {
      "text/plain": [
       "array([[[ 0.30119103,  1.22931113, -0.17288605, -0.06422834],\n",
       "        [-2.31920985, -2.35565622,  0.0859242 ,  1.34985822],\n",
       "        [-1.17363221,  0.66044807,  1.89487144, -0.42507474]],\n",
       "\n",
       "       [[ 2.09283171, -1.94114031, -0.56822199, -0.7210692 ],\n",
       "        [ 0.46454003,  0.01049078,  1.40002393, -0.34290941],\n",
       "        [-1.24420455, -0.71873411, -0.53645181, -1.5408989 ]],\n",
       "\n",
       "       [[-0.29328528, -0.02340597, -2.12245824, -0.94179448],\n",
       "        [ 0.1118837 , -1.00340538, -0.74336474, -0.11073095],\n",
       "        [ 1.07640013,  1.87046363,  0.41130522,  0.15583431]],\n",
       "\n",
       "       [[-0.56068966,  0.56679859, -0.66409626,  1.3017907 ],\n",
       "        [-0.0366662 , -0.21871972,  0.12513691, -0.33849406],\n",
       "        [ 0.74020192,  1.34712291, -0.20706244,  0.44768236]],\n",
       "\n",
       "       [[-1.69570815,  3.07665554,  1.3432015 ,  0.87696027],\n",
       "        [-0.30756467,  0.09262526, -1.4435126 , -0.32671563],\n",
       "        [-0.28071831,  0.1387293 , -0.47945095, -0.3361199 ]]])"
      ]
     },
     "execution_count": null,
     "metadata": {},
     "output_type": "execute_result"
    }
   ],
   "source": [
    "arrays = np.zeros((5,3,4))\n",
    "for n in range(5):\n",
    "    arrays[n] = np.random.randn(3, 4)\n",
    "    \n",
    "arrays"
   ]
  },
  {
   "cell_type": "code",
   "execution_count": null,
   "metadata": {},
   "outputs": [],
   "source": [
    "stack0 = np.stack(arrays, axis=0)\n",
    "stack1 = np.stack(arrays, axis=1)\n",
    "stack2 = np.stack(arrays, axis=2)"
   ]
  },
  {
   "cell_type": "code",
   "execution_count": null,
   "metadata": {},
   "outputs": [
    {
     "data": {
      "text/plain": [
       "array([[[ 0.30119103,  2.09283171, -0.29328528, -0.56068966,\n",
       "         -1.69570815],\n",
       "        [ 1.22931113, -1.94114031, -0.02340597,  0.56679859,\n",
       "          3.07665554],\n",
       "        [-0.17288605, -0.56822199, -2.12245824, -0.66409626,\n",
       "          1.3432015 ],\n",
       "        [-0.06422834, -0.7210692 , -0.94179448,  1.3017907 ,\n",
       "          0.87696027]],\n",
       "\n",
       "       [[-2.31920985,  0.46454003,  0.1118837 , -0.0366662 ,\n",
       "         -0.30756467],\n",
       "        [-2.35565622,  0.01049078, -1.00340538, -0.21871972,\n",
       "          0.09262526],\n",
       "        [ 0.0859242 ,  1.40002393, -0.74336474,  0.12513691,\n",
       "         -1.4435126 ],\n",
       "        [ 1.34985822, -0.34290941, -0.11073095, -0.33849406,\n",
       "         -0.32671563]],\n",
       "\n",
       "       [[-1.17363221, -1.24420455,  1.07640013,  0.74020192,\n",
       "         -0.28071831],\n",
       "        [ 0.66044807, -0.71873411,  1.87046363,  1.34712291,\n",
       "          0.1387293 ],\n",
       "        [ 1.89487144, -0.53645181,  0.41130522, -0.20706244,\n",
       "         -0.47945095],\n",
       "        [-0.42507474, -1.5408989 ,  0.15583431,  0.44768236,\n",
       "         -0.3361199 ]]])"
      ]
     },
     "execution_count": null,
     "metadata": {},
     "output_type": "execute_result"
    }
   ],
   "source": [
    "stack2"
   ]
  },
  {
   "cell_type": "code",
   "execution_count": null,
   "metadata": {},
   "outputs": [
    {
     "data": {
      "text/plain": [
       "array([[5, 3, 4],\n",
       "       [3, 5, 4],\n",
       "       [3, 4, 5]])"
      ]
     },
     "execution_count": null,
     "metadata": {},
     "output_type": "execute_result"
    }
   ],
   "source": [
    "my_stacks = np.array([stack0.shape, stack1.shape, stack2.shape])\n",
    "my_stacks"
   ]
  },
  {
   "cell_type": "code",
   "execution_count": null,
   "metadata": {},
   "outputs": [
    {
     "data": {
      "text/plain": [
       "array([0, 1, 2, 3, 4])"
      ]
     },
     "execution_count": null,
     "metadata": {},
     "output_type": "execute_result"
    }
   ],
   "source": [
    "temp = np.arange(5)\n",
    "temp\n"
   ]
  },
  {
   "cell_type": "code",
   "execution_count": null,
   "metadata": {},
   "outputs": [
    {
     "data": {
      "text/plain": [
       "[array([0, 1, 2, 3, 4])]"
      ]
     },
     "execution_count": null,
     "metadata": {},
     "output_type": "execute_result"
    }
   ],
   "source": [
    "np.split(temp,1)"
   ]
  },
  {
   "cell_type": "code",
   "execution_count": null,
   "metadata": {},
   "outputs": [
    {
     "data": {
      "text/plain": [
       "(5, 3, 4)"
      ]
     },
     "execution_count": null,
     "metadata": {},
     "output_type": "execute_result"
    }
   ],
   "source": [
    "before_split = stack0\n",
    "before_split.shape"
   ]
  },
  {
   "cell_type": "code",
   "execution_count": null,
   "metadata": {},
   "outputs": [
    {
     "data": {
      "text/plain": [
       "[array([[[ 0.30119103,  1.22931113, -0.17288605, -0.06422834],\n",
       "         [-2.31920985, -2.35565622,  0.0859242 ,  1.34985822],\n",
       "         [-1.17363221,  0.66044807,  1.89487144, -0.42507474]]]),\n",
       " array([[[ 2.09283171, -1.94114031, -0.56822199, -0.7210692 ],\n",
       "         [ 0.46454003,  0.01049078,  1.40002393, -0.34290941],\n",
       "         [-1.24420455, -0.71873411, -0.53645181, -1.5408989 ]]]),\n",
       " array([[[-0.29328528, -0.02340597, -2.12245824, -0.94179448],\n",
       "         [ 0.1118837 , -1.00340538, -0.74336474, -0.11073095],\n",
       "         [ 1.07640013,  1.87046363,  0.41130522,  0.15583431]]]),\n",
       " array([[[-0.56068966,  0.56679859, -0.66409626,  1.3017907 ],\n",
       "         [-0.0366662 , -0.21871972,  0.12513691, -0.33849406],\n",
       "         [ 0.74020192,  1.34712291, -0.20706244,  0.44768236]]]),\n",
       " array([[[-1.69570815,  3.07665554,  1.3432015 ,  0.87696027],\n",
       "         [-0.30756467,  0.09262526, -1.4435126 , -0.32671563],\n",
       "         [-0.28071831,  0.1387293 , -0.47945095, -0.3361199 ]]])]"
      ]
     },
     "execution_count": null,
     "metadata": {},
     "output_type": "execute_result"
    }
   ],
   "source": [
    "s0=np.split (before_split, 5, axis=0)\n",
    "s0"
   ]
  },
  {
   "cell_type": "code",
   "execution_count": null,
   "metadata": {},
   "outputs": [
    {
     "data": {
      "text/plain": [
       "list"
      ]
     },
     "execution_count": null,
     "metadata": {},
     "output_type": "execute_result"
    }
   ],
   "source": [
    "type(s0)"
   ]
  },
  {
   "cell_type": "code",
   "execution_count": null,
   "metadata": {},
   "outputs": [
    {
     "data": {
      "text/plain": [
       "array([[[-0.29328528, -0.02340597, -2.12245824, -0.94179448],\n",
       "        [ 0.1118837 , -1.00340538, -0.74336474, -0.11073095],\n",
       "        [ 1.07640013,  1.87046363,  0.41130522,  0.15583431]]])"
      ]
     },
     "execution_count": null,
     "metadata": {},
     "output_type": "execute_result"
    }
   ],
   "source": [
    "s0[2]"
   ]
  },
  {
   "cell_type": "code",
   "execution_count": null,
   "metadata": {},
   "outputs": [
    {
     "data": {
      "text/plain": [
       "array([[[-0.29328528, -0.02340597, -2.12245824, -0.94179448],\n",
       "        [ 0.1118837 , -1.00340538, -0.74336474, -0.11073095],\n",
       "        [ 1.07640013,  1.87046363,  0.41130522,  0.15583431]]])"
      ]
     },
     "execution_count": null,
     "metadata": {},
     "output_type": "execute_result"
    }
   ],
   "source": [
    "s0[2]"
   ]
  },
  {
   "cell_type": "code",
   "execution_count": null,
   "metadata": {},
   "outputs": [
    {
     "data": {
      "text/plain": [
       "(1, 3, 4)"
      ]
     },
     "execution_count": null,
     "metadata": {},
     "output_type": "execute_result"
    }
   ],
   "source": [
    "s0[2].shape"
   ]
  },
  {
   "cell_type": "code",
   "execution_count": null,
   "metadata": {},
   "outputs": [
    {
     "data": {
      "text/plain": [
       "[array([[[ 0.30119103,  1.22931113, -0.17288605, -0.06422834]],\n",
       " \n",
       "        [[ 2.09283171, -1.94114031, -0.56822199, -0.7210692 ]],\n",
       " \n",
       "        [[-0.29328528, -0.02340597, -2.12245824, -0.94179448]],\n",
       " \n",
       "        [[-0.56068966,  0.56679859, -0.66409626,  1.3017907 ]],\n",
       " \n",
       "        [[-1.69570815,  3.07665554,  1.3432015 ,  0.87696027]]]),\n",
       " array([[[-2.31920985, -2.35565622,  0.0859242 ,  1.34985822]],\n",
       " \n",
       "        [[ 0.46454003,  0.01049078,  1.40002393, -0.34290941]],\n",
       " \n",
       "        [[ 0.1118837 , -1.00340538, -0.74336474, -0.11073095]],\n",
       " \n",
       "        [[-0.0366662 , -0.21871972,  0.12513691, -0.33849406]],\n",
       " \n",
       "        [[-0.30756467,  0.09262526, -1.4435126 , -0.32671563]]]),\n",
       " array([[[-1.17363221,  0.66044807,  1.89487144, -0.42507474]],\n",
       " \n",
       "        [[-1.24420455, -0.71873411, -0.53645181, -1.5408989 ]],\n",
       " \n",
       "        [[ 1.07640013,  1.87046363,  0.41130522,  0.15583431]],\n",
       " \n",
       "        [[ 0.74020192,  1.34712291, -0.20706244,  0.44768236]],\n",
       " \n",
       "        [[-0.28071831,  0.1387293 , -0.47945095, -0.3361199 ]]])]"
      ]
     },
     "execution_count": null,
     "metadata": {},
     "output_type": "execute_result"
    }
   ],
   "source": [
    "s1=np.split (before_split, 3, axis=1)\n",
    "s1"
   ]
  },
  {
   "cell_type": "code",
   "execution_count": null,
   "metadata": {},
   "outputs": [
    {
     "data": {
      "text/plain": [
       "[array([[[ 0.30119103],\n",
       "         [-2.31920985],\n",
       "         [-1.17363221]],\n",
       " \n",
       "        [[ 2.09283171],\n",
       "         [ 0.46454003],\n",
       "         [-1.24420455]],\n",
       " \n",
       "        [[-0.29328528],\n",
       "         [ 0.1118837 ],\n",
       "         [ 1.07640013]],\n",
       " \n",
       "        [[-0.56068966],\n",
       "         [-0.0366662 ],\n",
       "         [ 0.74020192]],\n",
       " \n",
       "        [[-1.69570815],\n",
       "         [-0.30756467],\n",
       "         [-0.28071831]]]),\n",
       " array([[[ 1.22931113],\n",
       "         [-2.35565622],\n",
       "         [ 0.66044807]],\n",
       " \n",
       "        [[-1.94114031],\n",
       "         [ 0.01049078],\n",
       "         [-0.71873411]],\n",
       " \n",
       "        [[-0.02340597],\n",
       "         [-1.00340538],\n",
       "         [ 1.87046363]],\n",
       " \n",
       "        [[ 0.56679859],\n",
       "         [-0.21871972],\n",
       "         [ 1.34712291]],\n",
       " \n",
       "        [[ 3.07665554],\n",
       "         [ 0.09262526],\n",
       "         [ 0.1387293 ]]]),\n",
       " array([[[-0.17288605],\n",
       "         [ 0.0859242 ],\n",
       "         [ 1.89487144]],\n",
       " \n",
       "        [[-0.56822199],\n",
       "         [ 1.40002393],\n",
       "         [-0.53645181]],\n",
       " \n",
       "        [[-2.12245824],\n",
       "         [-0.74336474],\n",
       "         [ 0.41130522]],\n",
       " \n",
       "        [[-0.66409626],\n",
       "         [ 0.12513691],\n",
       "         [-0.20706244]],\n",
       " \n",
       "        [[ 1.3432015 ],\n",
       "         [-1.4435126 ],\n",
       "         [-0.47945095]]]),\n",
       " array([[[-0.06422834],\n",
       "         [ 1.34985822],\n",
       "         [-0.42507474]],\n",
       " \n",
       "        [[-0.7210692 ],\n",
       "         [-0.34290941],\n",
       "         [-1.5408989 ]],\n",
       " \n",
       "        [[-0.94179448],\n",
       "         [-0.11073095],\n",
       "         [ 0.15583431]],\n",
       " \n",
       "        [[ 1.3017907 ],\n",
       "         [-0.33849406],\n",
       "         [ 0.44768236]],\n",
       " \n",
       "        [[ 0.87696027],\n",
       "         [-0.32671563],\n",
       "         [-0.3361199 ]]])]"
      ]
     },
     "execution_count": null,
     "metadata": {},
     "output_type": "execute_result"
    }
   ],
   "source": [
    "s2=np.split (before_split, 4, axis=2)\n",
    "s2"
   ]
  },
  {
   "cell_type": "code",
   "execution_count": null,
   "metadata": {},
   "outputs": [],
   "source": []
  }
 ],
 "metadata": {
  "kernelspec": {
   "display_name": "Python 3.9.5 64-bit",
   "name": "python3"
  }
 },
 "nbformat": 4,
 "nbformat_minor": 2
}
