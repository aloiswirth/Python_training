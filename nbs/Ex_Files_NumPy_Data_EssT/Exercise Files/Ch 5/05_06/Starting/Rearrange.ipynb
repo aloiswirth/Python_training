{
 "cells": [
  {
   "cell_type": "markdown",
   "metadata": {},
   "source": [
    "# Rearranging Array Elements"
   ]
  },
  {
   "cell_type": "code",
   "execution_count": 1,
   "metadata": {
    "collapsed": true
   },
   "outputs": [],
   "source": [
    "import numpy as np\n",
    "my_start_array = np.array(np.arange(24))\n",
    "my_3_8_array = my_start_array.reshape((3,8))\n",
    "my_2_3_4_array = my_3_8_array.reshape((2,3,4))"
   ]
  },
  {
   "cell_type": "markdown",
   "metadata": {},
   "source": [
    "### fliplr \"flip left right\"\n",
    "from: http://docs.scipy.org/doc/numpy/reference/generated/numpy.fliplr.html#numpy.fliplr\n",
    "\n",
    "Flip array in the left/right direction."
   ]
  },
  {
   "cell_type": "code",
   "execution_count": null,
   "metadata": {
    "collapsed": true
   },
   "outputs": [],
   "source": []
  }
 ],
 "metadata": {
  "kernelspec": {
   "display_name": "Python [Root]",
   "language": "python",
   "name": "Python [Root]"
  },
  "language_info": {
   "codemirror_mode": {
    "name": "ipython",
    "version": 3
   },
   "file_extension": ".py",
   "mimetype": "text/x-python",
   "name": "python",
   "nbconvert_exporter": "python",
   "pygments_lexer": "ipython3",
   "version": "3.5.2"
  }
 },
 "nbformat": 4,
 "nbformat_minor": 0
}
