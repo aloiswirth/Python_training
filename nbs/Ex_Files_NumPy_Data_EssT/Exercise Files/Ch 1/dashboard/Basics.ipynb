{
 "cells": [
  {
   "cell_type": "markdown",
   "metadata": {},
   "source": [
    "# Notebook Basics\n",
    "More basic information available at:  [Basics](http://jupyter-notebook.readthedocs.io/en/latest/examples/Notebook/Notebook%20Basics.html)"
   ]
  },
  {
   "cell_type": "markdown",
   "metadata": {},
   "source": [
    "# Dashboard\n",
    "- \"Home Page\" for notebook\n",
    "    - listing of available notebook\n",
    "    - starting point to create new notebooks\n",
    "- Location for controlling notebooks\n",
    "    - check box selection\n",
    "        - stop running notebooks\n",
    "            - see \"Running\" tab\n",
    "        - delete notebooks\n",
    "- Refresh\n",
    "    - if notebooks are added \"externally\""
   ]
  },
  {
   "cell_type": "markdown",
   "metadata": {},
   "source": [
    "# Notebook User Interface\n",
    "- Menu Bar\n",
    "- Tool Bar\n",
    "- Notebook area that contains cells"
   ]
  },
  {
   "cell_type": "markdown",
   "metadata": {},
   "source": [
    "# Modal Editor\n",
    "- Command Mode\n",
    "    - Blue cell border\n",
    "    - Enter command mode via 'ESC' key\n",
    "- Edit Mode\n",
    "    - Green cell border\n",
    "    - cell acts like a text editor\n",
    "    - Enter edit mode via 'ENTER' key\n",
    "- Execute a cell\n",
    "    - 'SHIFT ENTER' key combination"
   ]
  },
  {
   "cell_type": "markdown",
   "metadata": {},
   "source": [
    "# Keyboard Navigation\n",
    "- command palette tool icon\n",
    "    - has search capability\n",
    "### Common Navigation \n",
    "- Save notebook: 'CTRL' + s\n",
    "- Create cell above current cell: 'ESC' + a\n",
    "- Create cell below current cell: 'ESC' + b\n",
    "- Delete current cell: 'ESC' + d + d\n",
    "- Cell editing\n",
    "    - copy: 'CTRL' + c\n",
    "    - cut: 'CTRL' + x\n",
    "    - paste: 'CTRL' + v\n",
    "    - undo: 'CTRL' + z"
   ]
  },
  {
   "cell_type": "markdown",
   "metadata": {},
   "source": [
    "# Menu Bar\n",
    "- File\n",
    "    - Rename\n",
    "    - Save and checkpoint; 'CTRL' + s\n",
    "    - Print Preview\n",
    "    - New Notebook\n",
    "- Cell\n",
    "    - Run All\n",
    "- Help\n",
    "    - Python\n",
    "    - NumPy\n",
    "    - SciPy\n",
    "    \n",
    "    "
   ]
  },
  {
   "cell_type": "code",
   "execution_count": null,
   "metadata": {
    "collapsed": true
   },
   "outputs": [],
   "source": []
  }
 ],
 "metadata": {
  "kernelspec": {
   "display_name": "Python [Root]",
   "language": "python",
   "name": "Python [Root]"
  },
  "language_info": {
   "codemirror_mode": {
    "name": "ipython",
    "version": 3
   },
   "file_extension": ".py",
   "mimetype": "text/x-python",
   "name": "python",
   "nbconvert_exporter": "python",
   "pygments_lexer": "ipython3",
   "version": "3.5.2"
  }
 },
 "nbformat": 4,
 "nbformat_minor": 0
}
