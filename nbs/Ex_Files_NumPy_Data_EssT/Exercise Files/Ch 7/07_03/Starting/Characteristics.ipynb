{
 "cells": [
  {
   "cell_type": "markdown",
   "metadata": {},
   "source": [
    "<h1>Magic Characteristics</h1>"
   ]
  },
  {
   "cell_type": "markdown",
   "metadata": {},
   "source": [
    "<h2>Properties of a Magic Square</h2>\n",
    "<list>\n",
    "<li>cell coordinate - \"address\" of a cell; similar to coordinate geometry</li>\n",
    "<li>cell value - integer value located at a particular cell coordinate</li>\n",
    "</list>"
   ]
  },
  {
   "cell_type": "markdown",
   "metadata": {},
   "source": [
    "<h2>Components of an Integer</h2>"
   ]
  },
  {
   "cell_type": "markdown",
   "metadata": {},
   "source": [
    "\\begin{equation*}\n",
    "341 = 3 x 10^2 + 4 x 10^1 + 1 x 10^0\n",
    "\\end{equation*}"
   ]
  },
  {
   "cell_type": "code",
   "execution_count": 2,
   "metadata": {
    "collapsed": false
   },
   "outputs": [],
   "source": [
    "import numpy as np\n",
    "\n",
    "# from com.charleskelly.magic.adjacency.adjacency_matrix import AdjacencyMatrix\n",
    "\n",
    "class MagicCharacteristics:\n",
    "    \"\"\"Characterisitics of a magic hyper square.\n",
    "\n",
    "        order must be an odd number.\n",
    "    \"\"\"\n",
    "\n",
    "    def __init__(self, dimensions: int, order: int):\n",
    "        self.dimensions = dimensions\n",
    "        self.order = order\n",
    "        self.adjacencyMatrix = AdjacencyMatrix(dimensions)\n",
    "\n",
    "        modulus = order % 2\n",
    "        if not 1 == modulus:\n",
    "            raise Exception(\"order must be an odd integer\")\n",
    "\n",
    "        self.totalCells = order ** dimensions\n",
    "        self.maximumValue = self.totalCells - 1\n",
    "\n",
    "        \"\"\" order exponentiated to each integer in rang(dimensions)\n",
    "            for example [1, 5, 25, 125] for order:5 and dimensions:4\n",
    "        \"\"\"\n",
    "        self.polynomialBase = np.array(order ** np.arange(dimensions), dtype=np.int64)\n",
    "\n",
    "        __centerCellCoordinate = (order - 1) // 2\n",
    "        self.centerCellCoordinates = np.ones((dimensions), dtype=np.int64) * __centerCellCoordinate\n",
    "\n",
    "        # center cell coordinates and values are the same, this is a special case\n",
    "        self.centerCellValue = np.ones((dimensions), dtype=np.int64) * __centerCellCoordinate\n",
    "\n",
    "        self.originValue = np.array(self.__prepareOrigin())\n",
    "\n",
    "    def __prepareOrigin(self) -> list:\n",
    "        \"\"\" The origin is the cell whose coordinates are all equal to zero.\n",
    "            Every cell has 1 coordinate for each dimension\n",
    "        \"\"\"\n",
    "        offset = ((self.order - 1) // 2) * -1\n",
    "\n",
    "        tempOriginValue = np.copy(self.centerCellValue)\n",
    "\n",
    "        for i in range(self.dimensions):\n",
    "            tempOriginValue += self.adjacencyMatrix.matrix[i] * offset\n",
    "\n",
    "        tempOriginValue %= self.order\n",
    "\n",
    "        return tempOriginValue\n",
    "\n",
    "    def calculate_cell_value(self, cellCoordinates: np.array) -> np.ndarray:\n",
    "        increment_to_origin = np.sum(self.adjacencyMatrix.matrix * cellCoordinates, axis=1)\n",
    "        temp = (self.originValue + increment_to_origin) % self.order\n",
    "        return np.array(temp)\n",
    "\n",
    "    def calculate_cell_int(self, cellComponents: np.array) -> int:\n",
    "        tempInt = np.sum(cellComponents * self.polynomialBase)\n",
    "\n",
    "        return tempInt"
   ]
  },
  {
   "cell_type": "code",
   "execution_count": 6,
   "metadata": {
    "collapsed": false
   },
   "outputs": [
    {
     "data": {
      "text/plain": [
       "<__main__.MagicCharacteristics at 0xc1a89b66d8>"
      ]
     },
     "execution_count": 6,
     "metadata": {},
     "output_type": "execute_result"
    }
   ],
   "source": [
    "MagicCharacteristics(3,5)"
   ]
  },
  {
   "cell_type": "code",
   "execution_count": 5,
   "metadata": {
    "collapsed": true
   },
   "outputs": [],
   "source": [
    "import numpy as np\n",
    "\n",
    "class AdjacencyMatrix:\n",
    "    \"\"\"Given a cell within a magic square, an adjacency matrix calculates the value of an adjacent cell\n",
    "\n",
    "    an adjacency matrix can also be used to calculate the value of a non-adjacent cell via 'multiplication'\n",
    "    \"\"\"\n",
    "\n",
    "    def __init__(self, dimensions):\n",
    "        self.dimensions = dimensions\n",
    "        self.matrix = np.ones((dimensions, dimensions), dtype=np.int64)\n",
    "        self.__prepare_matrix()\n",
    "\n",
    "    def __prepare_matrix(self):\n",
    "        for i in range(self.dimensions):\n",
    "            for j in range(self.dimensions):\n",
    "                if ((i + j) > (self.dimensions - 2)):\n",
    "                    self.matrix[i,j] = 1\n",
    "                else:\n",
    "                    self.matrix[i,j] = -1"
   ]
  },
  {
   "cell_type": "code",
   "execution_count": null,
   "metadata": {
    "collapsed": true
   },
   "outputs": [],
   "source": []
  }
 ],
 "metadata": {
  "kernelspec": {
   "display_name": "Python 3",
   "language": "python",
   "name": "python3"
  },
  "language_info": {
   "codemirror_mode": {
    "name": "ipython",
    "version": 3
   },
   "file_extension": ".py",
   "mimetype": "text/x-python",
   "name": "python",
   "nbconvert_exporter": "python",
   "pygments_lexer": "ipython3",
   "version": "3.5.1"
  }
 },
 "nbformat": 4,
 "nbformat_minor": 0
}
