{
 "cells": [
  {
   "cell_type": "markdown",
   "metadata": {},
   "source": [
    "# Adjacency Matrix"
   ]
  },
  {
   "cell_type": "code",
   "execution_count": 9,
   "metadata": {
    "collapsed": true
   },
   "outputs": [],
   "source": [
    "import numpy as np"
   ]
  },
  {
   "cell_type": "markdown",
   "metadata": {},
   "source": [
    "<list>\n",
    "<li>Adjacency Matrix - determine value in cell, from an adjacent cell</li>\n",
    "<li>Magic Characteristics - center cell value, center cell coordinates, origin coordinates, polynomial base, </li>\n",
    "<li>Magic Cube - construction and \"dictionary\"</li>\n",
    "</list>"
   ]
  },
  {
   "cell_type": "markdown",
   "metadata": {},
   "source": [
    "<h2>Structure of Adjacency Matrix</h2>"
   ]
  },
  {
   "cell_type": "markdown",
   "metadata": {
    "collapsed": true
   },
   "source": [
    "<img src=\"../AdjacencyMatrixGrid.png\">"
   ]
  },
  {
   "cell_type": "code",
   "execution_count": 10,
   "metadata": {
    "collapsed": true
   },
   "outputs": [],
   "source": [
    "import numpy as np\n",
    "\n",
    "class AdjacencyMatrix:\n",
    "    \"\"\"Given a cell within a magic square, an adjacency matrix calculates the value of an adjacent cell\n",
    "\n",
    "    an adjacency matrix can also be used to calculate the value of a non-adjacent cell via 'multiplication'\n",
    "    \"\"\"\n",
    "\n",
    "    def __init__(self, dimensions):\n",
    "        self.dimensions = dimensions\n",
    "        self.matrix = np.ones((dimensions, dimensions), dtype=np.int64)\n",
    "        self.__prepare_matrix()\n",
    "\n",
    "    def __prepare_matrix(self):\n",
    "        for i in range(self.dimensions):\n",
    "            for j in range(self.dimensions):\n",
    "                if ((i + j) > (self.dimensions - 2)):\n",
    "                    self.matrix[i,j] = 1\n",
    "                else:\n",
    "                    self.matrix[i,j] = -1"
   ]
  },
  {
   "cell_type": "code",
   "execution_count": 11,
   "metadata": {
    "collapsed": false
   },
   "outputs": [],
   "source": [
    "am = AdjacencyMatrix(7).matrix"
   ]
  },
  {
   "cell_type": "code",
   "execution_count": 12,
   "metadata": {
    "collapsed": false
   },
   "outputs": [
    {
     "data": {
      "text/plain": [
       "matrix([[-1, -1, -1, -1, -1, -1,  1],\n",
       "        [-1, -1, -1, -1, -1,  1,  1],\n",
       "        [-1, -1, -1, -1,  1,  1,  1],\n",
       "        [-1, -1, -1,  1,  1,  1,  1],\n",
       "        [-1, -1,  1,  1,  1,  1,  1],\n",
       "        [-1,  1,  1,  1,  1,  1,  1],\n",
       "        [ 1,  1,  1,  1,  1,  1,  1]], dtype=int64)"
      ]
     },
     "execution_count": 12,
     "metadata": {},
     "output_type": "execute_result"
    }
   ],
   "source": [
    "amm = np.asmatrix(am)\n",
    "amm"
   ]
  },
  {
   "cell_type": "code",
   "execution_count": 13,
   "metadata": {
    "collapsed": false
   },
   "outputs": [
    {
     "data": {
      "text/plain": [
       "matrix([[-1, -1, -1, -1, -1, -1,  1],\n",
       "        [-1, -1, -1, -1, -1,  1,  1],\n",
       "        [-1, -1, -1, -1,  1,  1,  1],\n",
       "        [-1, -1, -1,  1,  1,  1,  1],\n",
       "        [-1, -1,  1,  1,  1,  1,  1],\n",
       "        [-1,  1,  1,  1,  1,  1,  1],\n",
       "        [ 1,  1,  1,  1,  1,  1,  1]], dtype=int64)"
      ]
     },
     "execution_count": 13,
     "metadata": {},
     "output_type": "execute_result"
    }
   ],
   "source": [
    "ammt = amm.T\n",
    "ammt"
   ]
  },
  {
   "cell_type": "code",
   "execution_count": 14,
   "metadata": {
    "collapsed": false
   },
   "outputs": [
    {
     "data": {
      "text/plain": [
       "matrix([[-0. , -0. , -0. , -0. , -0. , -0.5,  0.5],\n",
       "        [ 0. ,  0. ,  0. ,  0. , -0.5,  0.5,  0. ],\n",
       "        [ 0. ,  0. ,  0. , -0.5,  0.5,  0. ,  0. ],\n",
       "        [ 0. ,  0. , -0.5,  0.5,  0. ,  0. ,  0. ],\n",
       "        [ 0. , -0.5,  0.5,  0. ,  0. ,  0. ,  0. ],\n",
       "        [-0.5,  0.5,  0. ,  0. ,  0. ,  0. ,  0. ],\n",
       "        [ 0.5,  0. ,  0. ,  0. ,  0. ,  0. ,  0.5]])"
      ]
     },
     "execution_count": 14,
     "metadata": {},
     "output_type": "execute_result"
    }
   ],
   "source": [
    "ammt.I"
   ]
  },
  {
   "cell_type": "code",
   "execution_count": null,
   "metadata": {
    "collapsed": true
   },
   "outputs": [],
   "source": []
  }
 ],
 "metadata": {
  "kernelspec": {
   "display_name": "Python 3",
   "language": "python",
   "name": "python3"
  },
  "language_info": {
   "codemirror_mode": {
    "name": "ipython",
    "version": 3
   },
   "file_extension": ".py",
   "mimetype": "text/x-python",
   "name": "python",
   "nbconvert_exporter": "python",
   "pygments_lexer": "ipython3",
   "version": "3.5.1"
  }
 },
 "nbformat": 4,
 "nbformat_minor": 0
}
