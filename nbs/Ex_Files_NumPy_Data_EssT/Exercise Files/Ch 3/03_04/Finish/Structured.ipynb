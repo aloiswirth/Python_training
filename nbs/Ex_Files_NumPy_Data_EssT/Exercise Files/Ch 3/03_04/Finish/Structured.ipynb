{
 "cells": [
  {
   "cell_type": "markdown",
   "metadata": {},
   "source": [
    "<h1>Creating Structured Arrays</h1>"
   ]
  },
  {
   "cell_type": "code",
   "execution_count": 2,
   "metadata": {
    "collapsed": true
   },
   "outputs": [],
   "source": [
    "import numpy as np"
   ]
  },
  {
   "cell_type": "code",
   "execution_count": 3,
   "metadata": {
    "collapsed": false
   },
   "outputs": [
    {
     "data": {
      "text/plain": [
       "[('name', 'S6'), ('height', 'f8'), ('weight', 'f8'), ('age', 'i8')]"
      ]
     },
     "execution_count": 3,
     "metadata": {},
     "output_type": "execute_result"
    }
   ],
   "source": [
    "person_data_def = [('name','S6'),('height','f8'),('weight','f8'), ('age', 'i8')]\n",
    "person_data_def"
   ]
  },
  {
   "cell_type": "code",
   "execution_count": 4,
   "metadata": {
    "collapsed": false
   },
   "outputs": [
    {
     "data": {
      "text/plain": [
       "array([('', 0.0, 0.0, 0), ('', 0.0, 0.0, 0), ('', 0.0, 0.0, 0),\n",
       "       ('', 0.0, 0.0, 0)], \n",
       "      dtype=[('name', 'S6'), ('height', '<f8'), ('weight', '<f8'), ('age', '<i8')])"
      ]
     },
     "execution_count": 4,
     "metadata": {},
     "output_type": "execute_result"
    }
   ],
   "source": [
    "people_array = np.zeros((4,), dtype=person_data_def)\n",
    "people_array"
   ]
  },
  {
   "cell_type": "code",
   "execution_count": 5,
   "metadata": {
    "collapsed": false
   },
   "outputs": [
    {
     "data": {
      "text/plain": [
       "array([('Alpha', 65.0, 112.0, 23), ('', 0.0, 0.0, 0), ('', 0.0, 0.0, 0),\n",
       "       ('Delta', 73.0, 205.0, 34)], \n",
       "      dtype=[('name', 'S6'), ('height', '<f8'), ('weight', '<f8'), ('age', '<i8')])"
      ]
     },
     "execution_count": 5,
     "metadata": {},
     "output_type": "execute_result"
    }
   ],
   "source": [
    "people_array[3] = ('Delta', 73, 205, 34)\n",
    "people_array[0] = ('Alpha', 65, 112, 23)\n",
    "people_array"
   ]
  },
  {
   "cell_type": "code",
   "execution_count": 6,
   "metadata": {
    "collapsed": false
   },
   "outputs": [
    {
     "data": {
      "text/plain": [
       "array([('Alpha', 65.0, 112.0, 23), ('', 0.0, 0.0, 0), ('', 0.0, 0.0, 0),\n",
       "       ('Delta', 73.0, 205.0, 34)], \n",
       "      dtype=[('name', 'S6'), ('height', '<f8'), ('weight', '<f8'), ('age', '<i8')])"
      ]
     },
     "execution_count": 6,
     "metadata": {},
     "output_type": "execute_result"
    }
   ],
   "source": [
    "people_array[0:]"
   ]
  },
  {
   "cell_type": "code",
   "execution_count": 7,
   "metadata": {
    "collapsed": false
   },
   "outputs": [
    {
     "data": {
      "text/plain": [
       "array([23,  0,  0, 34])"
      ]
     },
     "execution_count": 7,
     "metadata": {},
     "output_type": "execute_result"
    }
   ],
   "source": [
    "ages = people_array['age']\n",
    "ages"
   ]
  },
  {
   "cell_type": "code",
   "execution_count": 8,
   "metadata": {
    "collapsed": false
   },
   "outputs": [
    {
     "data": {
      "text/plain": [
       "array([11,  0,  0, 17])"
      ]
     },
     "execution_count": 8,
     "metadata": {},
     "output_type": "execute_result"
    }
   ],
   "source": [
    "make_youthful = ages / 2\n",
    "make_youthful"
   ]
  },
  {
   "cell_type": "code",
   "execution_count": 9,
   "metadata": {
    "collapsed": false
   },
   "outputs": [
    {
     "data": {
      "text/plain": [
       "array([('Alpha', 65.0, 112.0, 23), ('', 0.0, 0.0, 0), ('', 0.0, 0.0, 0),\n",
       "       ('Delta', 73.0, 205.0, 34)], \n",
       "      dtype=[('name', 'S6'), ('height', '<f8'), ('weight', '<f8'), ('age', '<i8')])"
      ]
     },
     "execution_count": 9,
     "metadata": {},
     "output_type": "execute_result"
    }
   ],
   "source": [
    "people_array"
   ]
  },
  {
   "cell_type": "code",
   "execution_count": 10,
   "metadata": {
    "collapsed": false
   },
   "outputs": [
    {
     "data": {
      "text/plain": [
       "array([23,  0,  0, 34])"
      ]
     },
     "execution_count": 10,
     "metadata": {},
     "output_type": "execute_result"
    }
   ],
   "source": [
    "ages"
   ]
  },
  {
   "cell_type": "markdown",
   "metadata": {},
   "source": [
    "<h2>Multi-dimensional Structured Arrays</h2>"
   ]
  },
  {
   "cell_type": "code",
   "execution_count": 11,
   "metadata": {
    "collapsed": false
   },
   "outputs": [
    {
     "data": {
      "text/plain": [
       "array([[[('', 0.0, 0.0, 0), ('', 0.0, 0.0, 0)],\n",
       "        [('', 0.0, 0.0, 0), ('', 0.0, 0.0, 0)],\n",
       "        [('', 0.0, 0.0, 0), ('', 0.0, 0.0, 0)]],\n",
       "\n",
       "       [[('', 0.0, 0.0, 0), ('', 0.0, 0.0, 0)],\n",
       "        [('', 0.0, 0.0, 0), ('', 0.0, 0.0, 0)],\n",
       "        [('', 0.0, 0.0, 0), ('', 0.0, 0.0, 0)]],\n",
       "\n",
       "       [[('', 0.0, 0.0, 0), ('', 0.0, 0.0, 0)],\n",
       "        [('', 0.0, 0.0, 0), ('', 0.0, 0.0, 0)],\n",
       "        [('', 0.0, 0.0, 0), ('', 0.0, 0.0, 0)]],\n",
       "\n",
       "       [[('', 0.0, 0.0, 0), ('', 0.0, 0.0, 0)],\n",
       "        [('', 0.0, 0.0, 0), ('', 0.0, 0.0, 0)],\n",
       "        [('', 0.0, 0.0, 0), ('', 0.0, 0.0, 0)]]], \n",
       "      dtype=[('name', 'S6'), ('height', '<f8'), ('weight', '<f8'), ('age', '<i8')])"
      ]
     },
     "execution_count": 11,
     "metadata": {},
     "output_type": "execute_result"
    }
   ],
   "source": [
    "people_big_array = np.zeros((4,3,2), dtype=person_data_def)\n",
    "people_big_array"
   ]
  },
  {
   "cell_type": "code",
   "execution_count": 12,
   "metadata": {
    "collapsed": false
   },
   "outputs": [
    {
     "data": {
      "text/plain": [
       "array([[[('', 0.0, 0.0, 0), ('', 0.0, 0.0, 0)],\n",
       "        [('', 0.0, 0.0, 0), ('', 0.0, 0.0, 0)],\n",
       "        [('', 0.0, 0.0, 0), ('', 0.0, 0.0, 0)]],\n",
       "\n",
       "       [[('', 0.0, 0.0, 0), ('', 0.0, 0.0, 0)],\n",
       "        [('', 0.0, 0.0, 0), ('', 0.0, 0.0, 0)],\n",
       "        [('', 0.0, 0.0, 0), ('', 0.0, 0.0, 0)]],\n",
       "\n",
       "       [[('', 0.0, 0.0, 0), ('', 0.0, 0.0, 0)],\n",
       "        [('', 0.0, 0.0, 0), ('', 0.0, 0.0, 0)],\n",
       "        [('', 0.0, 0.0, 0), ('', 0.0, 0.0, 0)]],\n",
       "\n",
       "       [[('', 0.0, 0.0, 0), ('', 0.0, 0.0, 0)],\n",
       "        [('', 0.0, 0.0, 0), ('', 0.0, 0.0, 0)],\n",
       "        [('', 0.0, 0.0, 0), ('Echo', 68.0, 155.0, 46)]]], \n",
       "      dtype=[('name', 'S6'), ('height', '<f8'), ('weight', '<f8'), ('age', '<i8')])"
      ]
     },
     "execution_count": 12,
     "metadata": {},
     "output_type": "execute_result"
    }
   ],
   "source": [
    "people_big_array[3,2,1] = ('Echo', 68, 155, 46)\n",
    "people_big_array"
   ]
  },
  {
   "cell_type": "code",
   "execution_count": 13,
   "metadata": {
    "collapsed": false
   },
   "outputs": [
    {
     "data": {
      "text/plain": [
       "array([[[  0.,   0.],\n",
       "        [  0.,   0.],\n",
       "        [  0.,   0.]],\n",
       "\n",
       "       [[  0.,   0.],\n",
       "        [  0.,   0.],\n",
       "        [  0.,   0.]],\n",
       "\n",
       "       [[  0.,   0.],\n",
       "        [  0.,   0.],\n",
       "        [  0.,   0.]],\n",
       "\n",
       "       [[  0.,   0.],\n",
       "        [  0.,   0.],\n",
       "        [  0.,  68.]]])"
      ]
     },
     "execution_count": 13,
     "metadata": {},
     "output_type": "execute_result"
    }
   ],
   "source": [
    "people_big_array['height']"
   ]
  },
  {
   "cell_type": "code",
   "execution_count": 14,
   "metadata": {
    "collapsed": false
   },
   "outputs": [
    {
     "data": {
      "text/plain": [
       "array([[[(0.0, 0.0), (0.0, 0.0)],\n",
       "        [(0.0, 0.0), (0.0, 0.0)],\n",
       "        [(0.0, 0.0), (0.0, 0.0)]],\n",
       "\n",
       "       [[(0.0, 0.0), (0.0, 0.0)],\n",
       "        [(0.0, 0.0), (0.0, 0.0)],\n",
       "        [(0.0, 0.0), (0.0, 0.0)]],\n",
       "\n",
       "       [[(0.0, 0.0), (0.0, 0.0)],\n",
       "        [(0.0, 0.0), (0.0, 0.0)],\n",
       "        [(0.0, 0.0), (0.0, 0.0)]],\n",
       "\n",
       "       [[(0.0, 0.0), (0.0, 0.0)],\n",
       "        [(0.0, 0.0), (0.0, 0.0)],\n",
       "        [(0.0, 0.0), (68.0, 155.0)]]], \n",
       "      dtype=[('height', '<f8'), ('weight', '<f8')])"
      ]
     },
     "execution_count": 14,
     "metadata": {},
     "output_type": "execute_result"
    }
   ],
   "source": [
    "people_big_array[['height', 'weight']]"
   ]
  },
  {
   "cell_type": "markdown",
   "metadata": {},
   "source": [
    "<h1>Creating Record Arrays</h1>"
   ]
  },
  {
   "cell_type": "code",
   "execution_count": 15,
   "metadata": {
    "collapsed": false
   },
   "outputs": [
    {
     "data": {
      "text/plain": [
       "rec.array([('Delta', 73.0, 205.0, 34), ('Alpha', 65.0, 112.0, 23)], \n",
       "          dtype=[('name', 'S6'), ('height', '<f8'), ('weight', '<f8'), ('age', '<i8')])"
      ]
     },
     "execution_count": 15,
     "metadata": {},
     "output_type": "execute_result"
    }
   ],
   "source": [
    "person_record_array = np.rec.array([('Delta', 73, 205, 34),('Alpha', 65, 112, 23)],dtype=person_data_def)\n",
    "person_record_array"
   ]
  },
  {
   "cell_type": "code",
   "execution_count": 16,
   "metadata": {
    "collapsed": false
   },
   "outputs": [
    {
     "data": {
      "text/plain": [
       "34"
      ]
     },
     "execution_count": 16,
     "metadata": {},
     "output_type": "execute_result"
    }
   ],
   "source": [
    "person_record_array[0].age"
   ]
  },
  {
   "cell_type": "code",
   "execution_count": null,
   "metadata": {
    "collapsed": true
   },
   "outputs": [],
   "source": []
  }
 ],
 "metadata": {
  "kernelspec": {
   "display_name": "Python 2",
   "language": "python",
   "name": "python2"
  },
  "language_info": {
   "codemirror_mode": {
    "name": "ipython",
    "version": 2
   },
   "file_extension": ".py",
   "mimetype": "text/x-python",
   "name": "python",
   "nbconvert_exporter": "python",
   "pygments_lexer": "ipython2",
   "version": "2.7.11"
  }
 },
 "nbformat": 4,
 "nbformat_minor": 0
}
