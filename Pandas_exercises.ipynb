{
 "cells": [
  {
   "cell_type": "markdown",
   "metadata": {},
   "source": [
    "Pandas exercises from https://www.machinelearningplus.com/python/101-pandas-exercises-python/.\n",
    "\n",
    "exercise 1"
   ]
  },
  {
   "cell_type": "code",
   "execution_count": 1,
   "metadata": {},
   "outputs": [
    {
     "name": "stdout",
     "output_type": "stream",
     "text": [
      "0.24.2\n",
      "{'system': {'commit': None}, 'dependencies': {'pandas': '0.24.2', 'pytest': '4.0.2', 'pip': '19.1.1', 'setuptools': '39.0.1', 'Cython': None, 'numpy': '1.16.0', 'scipy': None, 'pyarrow': None, 'xarray': None, 'IPython': '7.3.0', 'sphinx': None, 'patsy': None, 'dateutil': '2.7.5', 'pytz': '2018.9', 'blosc': None, 'bottleneck': None, 'tables': None, 'numexpr': None, 'feather': None, 'matplotlib': '3.0.3', 'openpyxl': None, 'xlrd': None, 'xlwt': None, 'xlsxwriter': None, 'lxml.etree': '4.4.2', 'bs4': None, 'html5lib': '1.0.1', 'sqlalchemy': None, 'pymysql': None, 'psycopg2': None, 'jinja2': '2.10', 's3fs': None, 'fastparquet': None, 'pandas_gbq': None, 'pandas_datareader': None, 'gcsfs': None}}\n",
      "None\n"
     ]
    }
   ],
   "source": [
    "import numpy as np\n",
    "import pandas as pd\n",
    "print(pd.__version__)\n",
    "print(pd.show_versions(as_json=True))"
   ]
  },
  {
   "cell_type": "markdown",
   "metadata": {},
   "source": [
    "additional information about pandas"
   ]
  },
  {
   "cell_type": "code",
   "execution_count": 2,
   "metadata": {},
   "outputs": [
    {
     "name": "stdout",
     "output_type": "stream",
     "text": [
      "<built-in function __dir__>\n"
     ]
    },
    {
     "data": {
      "text/plain": [
       "{'__name__': 'builtins',\n",
       " '__doc__': \"Built-in functions, exceptions, and other objects.\\n\\nNoteworthy: None is the `nil' object; Ellipsis represents `...' in slices.\",\n",
       " '__package__': '',\n",
       " '__loader__': _frozen_importlib.BuiltinImporter,\n",
       " '__spec__': ModuleSpec(name='builtins', loader=<class '_frozen_importlib.BuiltinImporter'>),\n",
       " '__build_class__': <function __build_class__>,\n",
       " '__import__': <function __import__>,\n",
       " 'abs': <function abs(x, /)>,\n",
       " 'all': <function all(iterable, /)>,\n",
       " 'any': <function any(iterable, /)>,\n",
       " 'ascii': <function ascii(obj, /)>,\n",
       " 'bin': <function bin(number, /)>,\n",
       " 'breakpoint': <function breakpoint>,\n",
       " 'callable': <function callable(obj, /)>,\n",
       " 'chr': <function chr(i, /)>,\n",
       " 'compile': <function compile(source, filename, mode, flags=0, dont_inherit=False, optimize=-1)>,\n",
       " 'delattr': <function delattr(obj, name, /)>,\n",
       " 'dir': <function dir>,\n",
       " 'divmod': <function divmod(x, y, /)>,\n",
       " 'eval': <function eval(source, globals=None, locals=None, /)>,\n",
       " 'exec': <function exec(source, globals=None, locals=None, /)>,\n",
       " 'format': <function format(value, format_spec='', /)>,\n",
       " 'getattr': <function getattr>,\n",
       " 'globals': <function globals()>,\n",
       " 'hasattr': <function hasattr(obj, name, /)>,\n",
       " 'hash': <function hash(obj, /)>,\n",
       " 'hex': <function hex(number, /)>,\n",
       " 'id': <function id(obj, /)>,\n",
       " 'input': <bound method Kernel.raw_input of <ipykernel.ipkernel.IPythonKernel object at 0x13d4642b0>>,\n",
       " 'isinstance': <function isinstance(obj, class_or_tuple, /)>,\n",
       " 'issubclass': <function issubclass(cls, class_or_tuple, /)>,\n",
       " 'iter': <function iter>,\n",
       " 'len': <function len(obj, /)>,\n",
       " 'locals': <function locals()>,\n",
       " 'max': <function max>,\n",
       " 'min': <function min>,\n",
       " 'next': <function next>,\n",
       " 'oct': <function oct(number, /)>,\n",
       " 'ord': <function ord(c, /)>,\n",
       " 'pow': <function pow(x, y, z=None, /)>,\n",
       " 'print': <function print>,\n",
       " 'repr': <function repr(obj, /)>,\n",
       " 'round': <function round(number, ndigits=None)>,\n",
       " 'setattr': <function setattr(obj, name, value, /)>,\n",
       " 'sorted': <function sorted(iterable, /, *, key=None, reverse=False)>,\n",
       " 'sum': <function sum(iterable, start=0, /)>,\n",
       " 'vars': <function vars>,\n",
       " 'None': None,\n",
       " 'Ellipsis': Ellipsis,\n",
       " 'NotImplemented': NotImplemented,\n",
       " 'False': False,\n",
       " 'True': True,\n",
       " 'bool': bool,\n",
       " 'memoryview': memoryview,\n",
       " 'bytearray': bytearray,\n",
       " 'bytes': bytes,\n",
       " 'classmethod': classmethod,\n",
       " 'complex': complex,\n",
       " 'dict': dict,\n",
       " 'enumerate': enumerate,\n",
       " 'filter': filter,\n",
       " 'float': float,\n",
       " 'frozenset': frozenset,\n",
       " 'property': property,\n",
       " 'int': int,\n",
       " 'list': list,\n",
       " 'map': map,\n",
       " 'object': object,\n",
       " 'range': range,\n",
       " 'reversed': reversed,\n",
       " 'set': set,\n",
       " 'slice': slice,\n",
       " 'staticmethod': staticmethod,\n",
       " 'str': str,\n",
       " 'super': super,\n",
       " 'tuple': tuple,\n",
       " 'type': type,\n",
       " 'zip': zip,\n",
       " '__debug__': True,\n",
       " 'BaseException': BaseException,\n",
       " 'Exception': Exception,\n",
       " 'TypeError': TypeError,\n",
       " 'StopAsyncIteration': StopAsyncIteration,\n",
       " 'StopIteration': StopIteration,\n",
       " 'GeneratorExit': GeneratorExit,\n",
       " 'SystemExit': SystemExit,\n",
       " 'KeyboardInterrupt': KeyboardInterrupt,\n",
       " 'ImportError': ImportError,\n",
       " 'ModuleNotFoundError': ModuleNotFoundError,\n",
       " 'OSError': OSError,\n",
       " 'EnvironmentError': OSError,\n",
       " 'IOError': OSError,\n",
       " 'EOFError': EOFError,\n",
       " 'RuntimeError': RuntimeError,\n",
       " 'RecursionError': RecursionError,\n",
       " 'NotImplementedError': NotImplementedError,\n",
       " 'NameError': NameError,\n",
       " 'UnboundLocalError': UnboundLocalError,\n",
       " 'AttributeError': AttributeError,\n",
       " 'SyntaxError': SyntaxError,\n",
       " 'IndentationError': IndentationError,\n",
       " 'TabError': TabError,\n",
       " 'LookupError': LookupError,\n",
       " 'IndexError': IndexError,\n",
       " 'KeyError': KeyError,\n",
       " 'ValueError': ValueError,\n",
       " 'UnicodeError': UnicodeError,\n",
       " 'UnicodeEncodeError': UnicodeEncodeError,\n",
       " 'UnicodeDecodeError': UnicodeDecodeError,\n",
       " 'UnicodeTranslateError': UnicodeTranslateError,\n",
       " 'AssertionError': AssertionError,\n",
       " 'ArithmeticError': ArithmeticError,\n",
       " 'FloatingPointError': FloatingPointError,\n",
       " 'OverflowError': OverflowError,\n",
       " 'ZeroDivisionError': ZeroDivisionError,\n",
       " 'SystemError': SystemError,\n",
       " 'ReferenceError': ReferenceError,\n",
       " 'MemoryError': MemoryError,\n",
       " 'BufferError': BufferError,\n",
       " 'Warning': Warning,\n",
       " 'UserWarning': UserWarning,\n",
       " 'DeprecationWarning': DeprecationWarning,\n",
       " 'PendingDeprecationWarning': PendingDeprecationWarning,\n",
       " 'SyntaxWarning': SyntaxWarning,\n",
       " 'RuntimeWarning': RuntimeWarning,\n",
       " 'FutureWarning': FutureWarning,\n",
       " 'ImportWarning': ImportWarning,\n",
       " 'UnicodeWarning': UnicodeWarning,\n",
       " 'BytesWarning': BytesWarning,\n",
       " 'ResourceWarning': ResourceWarning,\n",
       " 'ConnectionError': ConnectionError,\n",
       " 'BlockingIOError': BlockingIOError,\n",
       " 'BrokenPipeError': BrokenPipeError,\n",
       " 'ChildProcessError': ChildProcessError,\n",
       " 'ConnectionAbortedError': ConnectionAbortedError,\n",
       " 'ConnectionRefusedError': ConnectionRefusedError,\n",
       " 'ConnectionResetError': ConnectionResetError,\n",
       " 'FileExistsError': FileExistsError,\n",
       " 'FileNotFoundError': FileNotFoundError,\n",
       " 'IsADirectoryError': IsADirectoryError,\n",
       " 'NotADirectoryError': NotADirectoryError,\n",
       " 'InterruptedError': InterruptedError,\n",
       " 'PermissionError': PermissionError,\n",
       " 'ProcessLookupError': ProcessLookupError,\n",
       " 'TimeoutError': TimeoutError,\n",
       " 'open': <function io.open(file, mode='r', buffering=-1, encoding=None, errors=None, newline=None, closefd=True, opener=None)>,\n",
       " 'copyright': Copyright (c) 2001-2018 Python Software Foundation.\n",
       " All Rights Reserved.\n",
       " \n",
       " Copyright (c) 2000 BeOpen.com.\n",
       " All Rights Reserved.\n",
       " \n",
       " Copyright (c) 1995-2001 Corporation for National Research Initiatives.\n",
       " All Rights Reserved.\n",
       " \n",
       " Copyright (c) 1991-1995 Stichting Mathematisch Centrum, Amsterdam.\n",
       " All Rights Reserved.,\n",
       " 'credits':     Thanks to CWI, CNRI, BeOpen.com, Zope Corporation and a cast of thousands\n",
       "     for supporting Python development.  See www.python.org for more information.,\n",
       " 'license': See https://www.python.org/psf/license/,\n",
       " 'help': Type help() for interactive help, or help(object) for help about object.,\n",
       " '__IPYTHON__': True,\n",
       " 'display': <function IPython.core.display.display(*objs, include=None, exclude=None, metadata=None, transient=None, display_id=None, **kwargs)>,\n",
       " 'get_ipython': <bound method InteractiveShell.get_ipython of <ipykernel.zmqshell.ZMQInteractiveShell object at 0x139efeeb8>>}"
      ]
     },
     "execution_count": 2,
     "metadata": {},
     "output_type": "execute_result"
    }
   ],
   "source": [
    "print(pd.__dir__)\n",
    "pd.__builtins__"
   ]
  },
  {
   "cell_type": "markdown",
   "metadata": {},
   "source": [
    "## Exercise 2"
   ]
  },
  {
   "cell_type": "code",
   "execution_count": 3,
   "metadata": {},
   "outputs": [
    {
     "name": "stdout",
     "output_type": "stream",
     "text": [
      "['a', 'b', 'c', 'e', 'd', 'f', 'g', 'h', 'i', 'j', 'k', 'l', 'm', 'n', 'o', 'p', 'q', 'r', 's', 't', 'u', 'v', 'w', 'x', 'y', 'z']\n",
      "[ 0  1  2  3  4  5  6  7  8  9 10 11 12 13 14 15 16 17 18 19 20 21 22 23\n",
      " 24 25]\n",
      "{'a': 0, 'b': 1, 'c': 2, 'e': 3, 'd': 4, 'f': 5, 'g': 6, 'h': 7, 'i': 8, 'j': 9, 'k': 10, 'l': 11, 'm': 12, 'n': 13, 'o': 14, 'p': 15, 'q': 16, 'r': 17, 's': 18, 't': 19, 'u': 20, 'v': 21, 'w': 22, 'x': 23, 'y': 24, 'z': 25}\n"
     ]
    }
   ],
   "source": [
    "mylist = list('abcedfghijklmnopqrstuvwxyz')\n",
    "myarr = np.arange(26)\n",
    "mydict = dict(zip(mylist, myarr))\n",
    "print(mylist)\n",
    "print(myarr)\n",
    "print(mydict)"
   ]
  },
  {
   "cell_type": "code",
   "execution_count": 4,
   "metadata": {},
   "outputs": [
    {
     "name": "stdout",
     "output_type": "stream",
     "text": [
      "24    y\n",
      "25    z\n",
      "dtype: object\n",
      "0    0\n",
      "1    1\n",
      "dtype: int64\n",
      "y    24\n",
      "z    25\n",
      "dtype: int64\n"
     ]
    }
   ],
   "source": [
    "# Solution\n",
    "\n",
    "ser_mylist=pd.Series(mylist)\n",
    "print(ser_mylist.tail(2))\n",
    "ser_myarr=pd.Series(myarr)\n",
    "print(ser_myarr.head(2))\n",
    "ser_mydict=pd.Series(mydict)\n",
    "print(ser_mydict.tail(2))"
   ]
  },
  {
   "cell_type": "markdown",
   "metadata": {},
   "source": [
    "## Exercise 3\n",
    "Create a dataframe and convert the index of the series into a column of the dataframe"
   ]
  },
  {
   "cell_type": "code",
   "execution_count": 5,
   "metadata": {},
   "outputs": [
    {
     "name": "stdout",
     "output_type": "stream",
     "text": [
      "  index  0\n",
      "0     a  0\n",
      "1     b  1\n",
      "2     c  2\n",
      "3     e  3\n",
      "4     d  4\n"
     ]
    }
   ],
   "source": [
    "df_mydict = ser_mydict.to_frame().reset_index()\n",
    "print(df_mydict.head())"
   ]
  },
  {
   "cell_type": "markdown",
   "metadata": {},
   "source": [
    "## Exercise 4\n",
    "How to combine many series into a dataframe\n",
    "We use ser_mylist and ser_myarr"
   ]
  },
  {
   "cell_type": "code",
   "execution_count": 6,
   "metadata": {},
   "outputs": [
    {
     "name": "stdout",
     "output_type": "stream",
     "text": [
      "   0  1\n",
      "0  a  0\n",
      "1  b  1\n",
      "2  c  2\n",
      "3  e  3\n",
      "4  d  4\n",
      "  col1  col2\n",
      "0    a     0\n",
      "1    b     1\n",
      "2    c     2\n",
      "3    e     3\n",
      "4    d     4\n"
     ]
    }
   ],
   "source": [
    "df_solution1 = pd.concat([ser_mylist, ser_myarr], axis = 1)\n",
    "print(df_solution1.head())\n",
    "df_solution2 = pd.DataFrame({'col1': ser_mylist, 'col2': ser_myarr})\n",
    "print(df_solution2.head())"
   ]
  },
  {
   "cell_type": "markdown",
   "metadata": {},
   "source": [
    "## Exercise 5\n",
    "how to give the series a name"
   ]
  },
  {
   "cell_type": "code",
   "execution_count": 7,
   "metadata": {},
   "outputs": [
    {
     "name": "stdout",
     "output_type": "stream",
     "text": [
      "0    a\n",
      "1    b\n",
      "2    c\n",
      "3    e\n",
      "4    d\n",
      "Name: alphabets, dtype: object\n",
      "0    a\n",
      "1    b\n",
      "2    c\n",
      "3    d\n",
      "4    e\n",
      "Name: alphabets2, dtype: object\n"
     ]
    }
   ],
   "source": [
    "ser_mylist.name = 'alphabets'\n",
    "print(ser_mylist.head())\n",
    "\n",
    "ser = pd.Series(list('abcdefghijklmnopqrstuvwxyz'))\n",
    "ser.name = 'alphabets2'\n",
    "print(ser.head())"
   ]
  },
  {
   "cell_type": "markdown",
   "metadata": {},
   "source": [
    "## Exercise 6\n",
    "How to remove items in series A which are present in series B"
   ]
  },
  {
   "cell_type": "code",
   "execution_count": 8,
   "metadata": {},
   "outputs": [
    {
     "name": "stdout",
     "output_type": "stream",
     "text": [
      "0    1\n",
      "1    2\n",
      "2    3\n",
      "3    4\n",
      "4    5\n",
      "dtype: int64\n",
      "0    1\n",
      "1    2\n",
      "2    3\n",
      "dtype: int64\n"
     ]
    }
   ],
   "source": [
    "serA = pd.Series([1, 2, 3, 4, 5])\n",
    "serB = pd.Series([4, 5, 6, 7, 8])\n",
    "x= serA[-serA.isin(serB)]\n",
    "print(serA)\n",
    "print(x)"
   ]
  },
  {
   "cell_type": "markdown",
   "metadata": {},
   "source": [
    "## Exercise 7\n",
    "How to get items not common in both sets"
   ]
  },
  {
   "cell_type": "code",
   "execution_count": 9,
   "metadata": {},
   "outputs": [
    {
     "data": {
      "text/plain": [
       "0    1\n",
       "1    2\n",
       "2    3\n",
       "5    6\n",
       "6    7\n",
       "7    8\n",
       "dtype: int64"
      ]
     },
     "execution_count": 9,
     "metadata": {},
     "output_type": "execute_result"
    }
   ],
   "source": [
    "ser_union = pd.Series(np.union1d(serA, serB))\n",
    "ser_intersect = pd.Series(np.intersect1d(serA, serB))\n",
    "\n",
    "result = ser_union[-ser_union.isin(ser_intersect)]\n",
    "result"
   ]
  },
  {
   "cell_type": "markdown",
   "metadata": {},
   "source": [
    "## Exercise 8\n",
    "Get the 25th, median, 75th percentile, as well as minimum and maximum of ser"
   ]
  },
  {
   "cell_type": "code",
   "execution_count": 10,
   "metadata": {},
   "outputs": [
    {
     "name": "stdout",
     "output_type": "stream",
     "text": [
      "0      5.322816\n",
      "1     11.565561\n",
      "2     11.898203\n",
      "3     11.708545\n",
      "4     10.190359\n",
      "5     13.160689\n",
      "6     19.376664\n",
      "7      9.535298\n",
      "8     12.166235\n",
      "9     10.595695\n",
      "10     7.466854\n",
      "11     9.861527\n",
      "12     8.375166\n",
      "13     6.228347\n",
      "14     6.516103\n",
      "15    21.800395\n",
      "16    14.481154\n",
      "17    10.754724\n",
      "18     1.394127\n",
      "19     6.538306\n",
      "20    10.894629\n",
      "21     6.684050\n",
      "22    11.521724\n",
      "23     1.835857\n",
      "24    10.199012\n",
      "dtype: float64\n"
     ]
    }
   ],
   "source": [
    "ser = pd.Series(np.random.normal(10, 5, 25))\n",
    "print(ser)"
   ]
  },
  {
   "cell_type": "code",
   "execution_count": 11,
   "metadata": {},
   "outputs": [
    {
     "name": "stdout",
     "output_type": "stream",
     "text": [
      "[ 1.3941274   6.68405039 10.19901213 11.70854499 21.80039506]\n"
     ]
    }
   ],
   "source": [
    "print(np.percentile(ser, q=[0, 25, 50, 75 ,100]))"
   ]
  },
  {
   "cell_type": "markdown",
   "metadata": {},
   "source": [
    "## Exercise 9\n",
    "How to get the frequency count for umique items in a series"
   ]
  },
  {
   "cell_type": "code",
   "execution_count": 12,
   "metadata": {},
   "outputs": [
    {
     "data": {
      "text/plain": [
       "0     g\n",
       "1     b\n",
       "2     g\n",
       "3     a\n",
       "4     h\n",
       "5     a\n",
       "6     f\n",
       "7     e\n",
       "8     c\n",
       "9     e\n",
       "10    g\n",
       "11    f\n",
       "12    a\n",
       "13    h\n",
       "14    h\n",
       "15    a\n",
       "16    c\n",
       "17    c\n",
       "18    e\n",
       "19    d\n",
       "20    h\n",
       "21    d\n",
       "22    c\n",
       "23    e\n",
       "24    e\n",
       "25    a\n",
       "26    a\n",
       "27    d\n",
       "28    g\n",
       "29    e\n",
       "dtype: object"
      ]
     },
     "execution_count": 12,
     "metadata": {},
     "output_type": "execute_result"
    }
   ],
   "source": [
    "ser = pd.Series(np.take(list('abcdefgh'), np.random.randint(8, size = 30)))\n",
    "ser"
   ]
  },
  {
   "cell_type": "markdown",
   "metadata": {},
   "source": [
    "## exercise 10\n",
    "exercise 10 + make the value count a dataframe"
   ]
  },
  {
   "cell_type": "code",
   "execution_count": 13,
   "metadata": {},
   "outputs": [
    {
     "name": "stdout",
     "output_type": "stream",
     "text": [
      "e    6\n",
      "a    6\n",
      "h    4\n",
      "g    4\n",
      "c    4\n",
      "d    3\n",
      "f    2\n",
      "b    1\n",
      "dtype: int64\n"
     ]
    }
   ],
   "source": [
    "frequency = ser.value_counts()\n",
    "print(frequency)"
   ]
  },
  {
   "cell_type": "code",
   "execution_count": 14,
   "metadata": {},
   "outputs": [
    {
     "data": {
      "text/html": [
       "<div>\n",
       "<style scoped>\n",
       "    .dataframe tbody tr th:only-of-type {\n",
       "        vertical-align: middle;\n",
       "    }\n",
       "\n",
       "    .dataframe tbody tr th {\n",
       "        vertical-align: top;\n",
       "    }\n",
       "\n",
       "    .dataframe thead th {\n",
       "        text-align: right;\n",
       "    }\n",
       "</style>\n",
       "<table border=\"1\" class=\"dataframe\">\n",
       "  <thead>\n",
       "    <tr style=\"text-align: right;\">\n",
       "      <th></th>\n",
       "      <th>index</th>\n",
       "      <th>0</th>\n",
       "    </tr>\n",
       "  </thead>\n",
       "  <tbody>\n",
       "    <tr>\n",
       "      <th>0</th>\n",
       "      <td>e</td>\n",
       "      <td>6</td>\n",
       "    </tr>\n",
       "    <tr>\n",
       "      <th>1</th>\n",
       "      <td>a</td>\n",
       "      <td>6</td>\n",
       "    </tr>\n",
       "    <tr>\n",
       "      <th>2</th>\n",
       "      <td>h</td>\n",
       "      <td>4</td>\n",
       "    </tr>\n",
       "    <tr>\n",
       "      <th>3</th>\n",
       "      <td>g</td>\n",
       "      <td>4</td>\n",
       "    </tr>\n",
       "    <tr>\n",
       "      <th>4</th>\n",
       "      <td>c</td>\n",
       "      <td>4</td>\n",
       "    </tr>\n",
       "    <tr>\n",
       "      <th>5</th>\n",
       "      <td>d</td>\n",
       "      <td>3</td>\n",
       "    </tr>\n",
       "    <tr>\n",
       "      <th>6</th>\n",
       "      <td>f</td>\n",
       "      <td>2</td>\n",
       "    </tr>\n",
       "    <tr>\n",
       "      <th>7</th>\n",
       "      <td>b</td>\n",
       "      <td>1</td>\n",
       "    </tr>\n",
       "  </tbody>\n",
       "</table>\n",
       "</div>"
      ],
      "text/plain": [
       "  index  0\n",
       "0     e  6\n",
       "1     a  6\n",
       "2     h  4\n",
       "3     g  4\n",
       "4     c  4\n",
       "5     d  3\n",
       "6     f  2\n",
       "7     b  1"
      ]
     },
     "execution_count": 14,
     "metadata": {},
     "output_type": "execute_result"
    }
   ],
   "source": [
    "pd.Series(frequency).to_frame().reset_index()"
   ]
  },
  {
   "cell_type": "code",
   "execution_count": 15,
   "metadata": {},
   "outputs": [
    {
     "data": {
      "text/html": [
       "<div>\n",
       "<style scoped>\n",
       "    .dataframe tbody tr th:only-of-type {\n",
       "        vertical-align: middle;\n",
       "    }\n",
       "\n",
       "    .dataframe tbody tr th {\n",
       "        vertical-align: top;\n",
       "    }\n",
       "\n",
       "    .dataframe thead th {\n",
       "        text-align: right;\n",
       "    }\n",
       "</style>\n",
       "<table border=\"1\" class=\"dataframe\">\n",
       "  <thead>\n",
       "    <tr style=\"text-align: right;\">\n",
       "      <th></th>\n",
       "      <th>index</th>\n",
       "      <th>0</th>\n",
       "    </tr>\n",
       "  </thead>\n",
       "  <tbody>\n",
       "    <tr>\n",
       "      <th>0</th>\n",
       "      <td>e</td>\n",
       "      <td>6</td>\n",
       "    </tr>\n",
       "    <tr>\n",
       "      <th>1</th>\n",
       "      <td>a</td>\n",
       "      <td>6</td>\n",
       "    </tr>\n",
       "    <tr>\n",
       "      <th>2</th>\n",
       "      <td>h</td>\n",
       "      <td>4</td>\n",
       "    </tr>\n",
       "    <tr>\n",
       "      <th>3</th>\n",
       "      <td>g</td>\n",
       "      <td>4</td>\n",
       "    </tr>\n",
       "    <tr>\n",
       "      <th>4</th>\n",
       "      <td>c</td>\n",
       "      <td>4</td>\n",
       "    </tr>\n",
       "    <tr>\n",
       "      <th>5</th>\n",
       "      <td>d</td>\n",
       "      <td>3</td>\n",
       "    </tr>\n",
       "    <tr>\n",
       "      <th>6</th>\n",
       "      <td>f</td>\n",
       "      <td>2</td>\n",
       "    </tr>\n",
       "    <tr>\n",
       "      <th>7</th>\n",
       "      <td>b</td>\n",
       "      <td>1</td>\n",
       "    </tr>\n",
       "  </tbody>\n",
       "</table>\n",
       "</div>"
      ],
      "text/plain": [
       "  index  0\n",
       "0     e  6\n",
       "1     a  6\n",
       "2     h  4\n",
       "3     g  4\n",
       "4     c  4\n",
       "5     d  3\n",
       "6     f  2\n",
       "7     b  1"
      ]
     },
     "execution_count": 15,
     "metadata": {},
     "output_type": "execute_result"
    }
   ],
   "source": [
    "pd.Series(ser.value_counts()).to_frame().reset_index()"
   ]
  },
  {
   "cell_type": "markdown",
   "metadata": {},
   "source": [
    "## Exercise 11\n",
    "How to create 10 equally sized groups "
   ]
  },
  {
   "cell_type": "code",
   "execution_count": 16,
   "metadata": {},
   "outputs": [
    {
     "name": "stdout",
     "output_type": "stream",
     "text": [
      "0     0.998586\n",
      "1     0.601933\n",
      "2     0.852573\n",
      "3     0.651427\n",
      "4     0.598275\n",
      "5     0.502352\n",
      "6     0.419051\n",
      "7     0.254688\n",
      "8     0.788486\n",
      "9     0.002250\n",
      "10    0.501569\n",
      "11    0.610106\n",
      "12    0.514840\n",
      "13    0.625080\n",
      "14    0.042094\n",
      "15    0.632990\n",
      "16    0.457220\n",
      "17    0.619874\n",
      "18    0.939583\n",
      "19    0.926229\n",
      "dtype: float64\n"
     ]
    }
   ],
   "source": [
    "ser_10 = pd.Series(np.random.random(20))\n",
    "print(ser_10)"
   ]
  },
  {
   "cell_type": "code",
   "execution_count": 17,
   "metadata": {},
   "outputs": [
    {
     "data": {
      "text/plain": [
       "0    10th\n",
       "1     5th\n",
       "2     9th\n",
       "3     8th\n",
       "4     5th\n",
       "5     4th\n",
       "6     2nd\n",
       "dtype: category\n",
       "Categories (10, object): [1st < 2nd < 3rd < 4th ... 7th < 8th < 9th < 10th]"
      ]
     },
     "execution_count": 17,
     "metadata": {},
     "output_type": "execute_result"
    }
   ],
   "source": [
    "group_of_ten = pd.qcut(ser_10, q = [0, 0.1, 0.2, 0.3, 0.4, 0.5, 0.6, 0.7, 0.8, 0.9, 1],\n",
    "        labels = ['1st', '2nd', '3rd', '4th', '5th', '6th', '7th', '8th', '9th','10th'])\n",
    "group_of_ten.head(7)"
   ]
  },
  {
   "cell_type": "code",
   "execution_count": 18,
   "metadata": {},
   "outputs": [
    {
     "data": {
      "text/plain": [
       "10th    2\n",
       "9th     2\n",
       "8th     2\n",
       "7th     2\n",
       "6th     2\n",
       "5th     2\n",
       "4th     2\n",
       "3rd     2\n",
       "2nd     2\n",
       "1st     2\n",
       "dtype: int64"
      ]
     },
     "execution_count": 18,
     "metadata": {},
     "output_type": "execute_result"
    }
   ],
   "source": [
    "group_of_ten.value_counts()"
   ]
  },
  {
   "cell_type": "markdown",
   "metadata": {},
   "source": [
    "## Exercise 12\n",
    "how to convert a np array to a dataframe of angiven shape"
   ]
  },
  {
   "cell_type": "code",
   "execution_count": 19,
   "metadata": {},
   "outputs": [
    {
     "name": "stdout",
     "output_type": "stream",
     "text": [
      "0     8\n",
      "1     5\n",
      "2     2\n",
      "3     2\n",
      "4     2\n",
      "5     5\n",
      "6     6\n",
      "7     8\n",
      "8     5\n",
      "9     8\n",
      "10    8\n",
      "11    2\n",
      "12    6\n",
      "13    4\n",
      "14    6\n",
      "15    9\n",
      "16    4\n",
      "17    4\n",
      "18    8\n",
      "19    6\n",
      "20    9\n",
      "21    7\n",
      "22    9\n",
      "23    8\n",
      "24    2\n",
      "25    4\n",
      "26    6\n",
      "27    1\n",
      "28    1\n",
      "29    8\n",
      "30    7\n",
      "31    2\n",
      "32    6\n",
      "33    8\n",
      "34    3\n",
      "dtype: int64\n"
     ]
    }
   ],
   "source": [
    "ser_35 = pd.Series(np.random.randint(1, 10, 35))\n",
    "print(ser_35)"
   ]
  },
  {
   "cell_type": "code",
   "execution_count": 20,
   "metadata": {},
   "outputs": [],
   "source": [
    "df_ser7x5 = pd.DataFrame(ser_35.values.reshape(7, 5))"
   ]
  },
  {
   "cell_type": "code",
   "execution_count": 21,
   "metadata": {},
   "outputs": [
    {
     "name": "stdout",
     "output_type": "stream",
     "text": [
      "   0  1  2  3  4\n",
      "0  8  5  2  2  2\n",
      "1  5  6  8  5  8\n",
      "2  8  2  6  4  6\n",
      "3  9  4  4  8  6\n",
      "4  9  7  9  8  2\n",
      "5  4  6  1  1  8\n",
      "6  7  2  6  8  3\n"
     ]
    }
   ],
   "source": [
    "print(df_ser7x5)"
   ]
  },
  {
   "cell_type": "markdown",
   "metadata": {},
   "source": [
    "## Exercise 13\n",
    "find positions in series. in this case find the positions of numbers which are multiples of 3."
   ]
  },
  {
   "cell_type": "code",
   "execution_count": 22,
   "metadata": {},
   "outputs": [
    {
     "name": "stdout",
     "output_type": "stream",
     "text": [
      "0    1\n",
      "1    8\n",
      "2    4\n",
      "3    4\n",
      "4    4\n",
      "5    7\n",
      "6    3\n",
      "dtype: int64\n"
     ]
    }
   ],
   "source": [
    "ser_m3 = pd.Series(np.random.randint(1,10,7))\n",
    "print(ser_m3)"
   ]
  },
  {
   "cell_type": "code",
   "execution_count": 23,
   "metadata": {},
   "outputs": [
    {
     "name": "stdout",
     "output_type": "stream",
     "text": [
      "[[6]]\n"
     ]
    },
    {
     "name": "stderr",
     "output_type": "stream",
     "text": [
      "/var/mobile/Containers/Data/Application/289044AF-433E-48DD-BE47-157D15007116/Library/lib/python3.7/site-packages/numpy-1.16.0-py3.7-macosx-10.9-x86_64.egg/numpy/core/fromnumeric.py:56: FutureWarning: Series.nonzero() is deprecated and will be removed in a future version.Use Series.to_numpy().nonzero() instead\n",
      "  return getattr(obj, method)(*args, **kwds)\n"
     ]
    }
   ],
   "source": [
    "positions = np.argwhere(ser_m3 % 3==0)\n",
    "print(positions)"
   ]
  },
  {
   "cell_type": "markdown",
   "metadata": {},
   "source": [
    "## Exercise 14\n",
    "how to extract values at a certain position from a series"
   ]
  },
  {
   "cell_type": "code",
   "execution_count": 24,
   "metadata": {},
   "outputs": [
    {
     "data": {
      "text/plain": [
       "0     a\n",
       "1     b\n",
       "2     c\n",
       "3     e\n",
       "4     d\n",
       "5     f\n",
       "6     g\n",
       "7     h\n",
       "8     i\n",
       "9     j\n",
       "10    k\n",
       "11    l\n",
       "12    m\n",
       "13    n\n",
       "14    o\n",
       "15    p\n",
       "16    q\n",
       "17    r\n",
       "18    s\n",
       "19    t\n",
       "20    u\n",
       "21    v\n",
       "22    w\n",
       "23    x\n",
       "24    y\n",
       "25    z\n",
       "Name: alphabets, dtype: object"
      ]
     },
     "execution_count": 24,
     "metadata": {},
     "output_type": "execute_result"
    }
   ],
   "source": [
    "ser_mylist"
   ]
  },
  {
   "cell_type": "code",
   "execution_count": 25,
   "metadata": {},
   "outputs": [
    {
     "data": {
      "text/plain": [
       "0     a\n",
       "4     d\n",
       "8     i\n",
       "14    o\n",
       "20    u\n",
       "Name: alphabets, dtype: object"
      ]
     },
     "execution_count": 25,
     "metadata": {},
     "output_type": "execute_result"
    }
   ],
   "source": [
    "pos = [0, 4, 8, 14, 20]\n",
    "ser_mylist.take(pos)"
   ]
  },
  {
   "cell_type": "markdown",
   "metadata": {},
   "source": [
    "## Exercise 15\n",
    "How to stack two series vertically and horizontally"
   ]
  },
  {
   "cell_type": "code",
   "execution_count": 26,
   "metadata": {},
   "outputs": [
    {
     "name": "stdout",
     "output_type": "stream",
     "text": [
      "   0  1\n",
      "0  0  a\n",
      "1  1  b\n",
      "2  2  c\n",
      "3  3  d\n",
      "4  4  e\n",
      "   index  0\n",
      "0      0  0\n",
      "1      1  1\n",
      "2      2  2\n",
      "3      3  3\n",
      "4      4  4\n",
      "5      0  a\n",
      "6      1  b\n",
      "7      2  c\n",
      "8      3  d\n",
      "9      4  e\n"
     ]
    }
   ],
   "source": [
    "ser_1to5 = pd.Series(range(5))\n",
    "ser_atoe = pd.Series(list(\"abcde\"))\n",
    "\n",
    "df_ser_horizontal = pd.concat([ser_1to5, ser_atoe], axis =1)\n",
    "print(df_ser_horizontal)\n",
    "\n",
    "ser_vertical = ser_1to5.append(ser_atoe).reset_index()\n",
    "print(ser_vertical)\n",
    "\n"
   ]
  },
  {
   "cell_type": "markdown",
   "metadata": {},
   "source": [
    "## Exercise 16\n",
    "How to get the positions of items of series A in series B"
   ]
  },
  {
   "cell_type": "code",
   "execution_count": 27,
   "metadata": {},
   "outputs": [
    {
     "name": "stdout",
     "output_type": "stream",
     "text": [
      "10\n",
      "13\n",
      "13\n"
     ]
    }
   ],
   "source": [
    "ser1 = pd.Series([10, 9, 6, 5, 3, 11, 12, 8, 13])\n",
    "ser2 = pd.Series([1, 3, 10, 13])\n",
    "\n",
    "print(ser1[0])\n",
    "print(ser1[8])\n",
    "print(ser2[3])"
   ]
  },
  {
   "cell_type": "code",
   "execution_count": 28,
   "metadata": {},
   "outputs": [
    {
     "name": "stdout",
     "output_type": "stream",
     "text": [
      "<class 'int'>\n",
      "8\n"
     ]
    }
   ],
   "source": [
    "# i = ser2[3]\n",
    "i = 13\n",
    "print(type(i))\n",
    "print(pd.Index(ser1).get_loc(13))\n",
    "\n",
    "# for i in range(len(ser2)):\n",
    "#     print(type(ser[i]))\n",
    "#     print(pd.Index(ser1).get_loc(ser[i]))\n",
    "#     # with this code python interpretes ser[i] as a string so it does not work\n",
    "\n",
    "# for i in ser2:\n",
    "#     print(type(i))\n",
    "#     print(pd.Index(ser1).get_loc(i))\n",
    "#     # does interprete i as integer, but still does not work!!!"
   ]
  },
  {
   "cell_type": "code",
   "execution_count": 29,
   "metadata": {},
   "outputs": [],
   "source": [
    "# [pd.Index(ser1).get_loc(i) for i in ser2]\n",
    "\n",
    "# positions1 = [pd.Index(ser1).get_loc(i) for i in ser2]\n",
    "# print(positions1)\n",
    "\n",
    "# positions2 = [np.where(i == ser1)[0].tolist()[0] for i in ser2]\n",
    "# print(positions2)\n",
    "\n",
    "# does not work at all"
   ]
  },
  {
   "cell_type": "markdown",
   "metadata": {},
   "source": [
    "## Exercise 17\n",
    "how to compute mean squared error\n",
    "compute mean squared error of truth and pred series"
   ]
  },
  {
   "cell_type": "code",
   "execution_count": 30,
   "metadata": {},
   "outputs": [
    {
     "name": "stdout",
     "output_type": "stream",
     "text": [
      "0.3175211962743464\n"
     ]
    }
   ],
   "source": [
    "truth = pd.Series(range(10))\n",
    "pred = pd.Series(range(10)) + np.random.random(10)\n",
    "\n",
    "mse = 0\n",
    "\n",
    "for i in range(10):\n",
    "    mse += (truth[i] - pred[i]) ** 2\n",
    "    \n",
    "mse = mse / 10\n",
    "print(mse)"
   ]
  },
  {
   "cell_type": "code",
   "execution_count": 31,
   "metadata": {},
   "outputs": [
    {
     "name": "stdout",
     "output_type": "stream",
     "text": [
      "0.31752119627434633\n"
     ]
    }
   ],
   "source": [
    "print(np.mean((truth - pred) ** 2))"
   ]
  },
  {
   "cell_type": "markdown",
   "metadata": {},
   "source": [
    "## Exercise 18\n",
    "convert first character to upprtcase\n",
    "3 different solutions"
   ]
  },
  {
   "cell_type": "code",
   "execution_count": 32,
   "metadata": {},
   "outputs": [
    {
     "name": "stdout",
     "output_type": "stream",
     "text": [
      "0     how\n",
      "1      to\n",
      "2    kick\n",
      "3    ass?\n",
      "dtype: object\n"
     ]
    }
   ],
   "source": [
    "ser_char = pd.Series([\"how\", \"to\", \"kick\" , \"ass?\" ])\n",
    "\n",
    "print(ser_char)"
   ]
  },
  {
   "cell_type": "code",
   "execution_count": 33,
   "metadata": {},
   "outputs": [],
   "source": [
    "ser_upper = pd.Series([i.title() for i in ser_char])"
   ]
  },
  {
   "cell_type": "code",
   "execution_count": 34,
   "metadata": {},
   "outputs": [
    {
     "name": "stdout",
     "output_type": "stream",
     "text": [
      "0     How\n",
      "1      To\n",
      "2    Kick\n",
      "3    Ass?\n",
      "dtype: object\n"
     ]
    }
   ],
   "source": [
    "print(ser_upper)"
   ]
  },
  {
   "cell_type": "code",
   "execution_count": 35,
   "metadata": {},
   "outputs": [
    {
     "name": "stdout",
     "output_type": "stream",
     "text": [
      "0     how\n",
      "1      to\n",
      "2    kick\n",
      "3    ass?\n",
      "dtype: object\n"
     ]
    }
   ],
   "source": [
    "ser_lower = ser_upper.map(lambda x: x.lower())\n",
    "print(ser_lower)"
   ]
  },
  {
   "cell_type": "code",
   "execution_count": 36,
   "metadata": {},
   "outputs": [
    {
     "name": "stdout",
     "output_type": "stream",
     "text": [
      "0     How\n",
      "1      To\n",
      "2    Kick\n",
      "3    Ass?\n",
      "dtype: object\n"
     ]
    }
   ],
   "source": [
    "ser_up_again = ser_lower.map(lambda x: x[0].upper() + x[1:])\n",
    "print(ser_up_again)"
   ]
  },
  {
   "cell_type": "markdown",
   "metadata": {},
   "source": [
    "## Exercise 19\n",
    "calculate the length of each word"
   ]
  },
  {
   "cell_type": "code",
   "execution_count": 37,
   "metadata": {},
   "outputs": [
    {
     "name": "stdout",
     "output_type": "stream",
     "text": [
      "0    3\n",
      "1    2\n",
      "2    4\n",
      "3    4\n",
      "dtype: int64\n"
     ]
    }
   ],
   "source": [
    "ser_length = pd.Series([\"how\", \"to\", \"kick\" , \"ass?\" ])\n",
    "\n",
    "ser_len = ser_length.map(lambda x: len(x))\n",
    "print(ser_len)"
   ]
  },
  {
   "cell_type": "markdown",
   "metadata": {},
   "source": [
    "## Exercise 20\n",
    "compute difference of differences of a the numbers of a series "
   ]
  },
  {
   "cell_type": "code",
   "execution_count": 38,
   "metadata": {},
   "outputs": [
    {
     "name": "stdout",
     "output_type": "stream",
     "text": [
      "[nan, 2.0, 3.0, 4.0, 5.0, 6.0, 6.0, 8.0]\n",
      "[nan, nan, 1.0, 1.0, 1.0, 1.0, 0.0, 2.0]\n"
     ]
    }
   ],
   "source": [
    "ser_orig = pd.Series([ 1, 3, 6, 10, 15, 21, 27, 35])\n",
    "\n",
    "# ser_diff = pd.Series([ser_orig[i] - ser_orig[i-1] for i in len(ser_orig)])\n",
    "# # does not work\n",
    "\n",
    "# easier is\n",
    "ser_diff = ser_orig.diff().tolist()\n",
    "print(ser_diff)\n",
    "ser_diff_diff = ser_orig.diff().diff().tolist()\n",
    "print(ser_diff_diff)"
   ]
  },
  {
   "cell_type": "markdown",
   "metadata": {},
   "source": [
    "## Exercise 21\n",
    "make a time series out of a list if dates"
   ]
  },
  {
   "cell_type": "code",
   "execution_count": 39,
   "metadata": {},
   "outputs": [
    {
     "name": "stdout",
     "output_type": "stream",
     "text": [
      "0         01 Jan 2010\n",
      "1          02-02-2011\n",
      "2            20120303\n",
      "3          2013/04/04\n",
      "4          2014-05-05\n",
      "5    2015-06-06T12:20\n",
      "dtype: object\n"
     ]
    }
   ],
   "source": [
    "ser_date = pd.Series(['01 Jan 2010', '02-02-2011', '20120303', '2013/04/04', '2014-05-05', '2015-06-06T12:20'])\n",
    "print(ser_date)"
   ]
  },
  {
   "cell_type": "code",
   "execution_count": 40,
   "metadata": {},
   "outputs": [
    {
     "name": "stdout",
     "output_type": "stream",
     "text": [
      "0   2010-01-01 00:00:00\n",
      "1   2011-02-02 00:00:00\n",
      "2   2012-03-03 00:00:00\n",
      "3   2013-04-04 00:00:00\n",
      "4   2014-05-05 00:00:00\n",
      "5   2015-06-06 12:20:00\n",
      "dtype: datetime64[ns]\n"
     ]
    }
   ],
   "source": [
    "ser_date64 = pd.to_datetime(ser_date)\n",
    "print(ser_date64)"
   ]
  },
  {
   "cell_type": "markdown",
   "metadata": {},
   "source": [
    "## Exercise 22\n",
    "\n",
    "get the day of month, week of year, day of week"
   ]
  },
  {
   "cell_type": "code",
   "execution_count": 41,
   "metadata": {},
   "outputs": [
    {
     "name": "stdout",
     "output_type": "stream",
     "text": [
      "Date [1, 2, 3, 4, 5, 6]\n",
      "Week number [53, 5, 9, 14, 19, 23]\n",
      "Day of year [1, 33, 63, 94, 125, 157]\n",
      "Day of week ['Friday', 'Wednesday', 'Saturday', 'Thursday', 'Monday', 'Saturday']\n"
     ]
    }
   ],
   "source": [
    "ser_dat2 = pd.Series(['01 Jan 2010', '02-02-2011', '20120303', '2013/04/04', '2014-05-05', '2015-06-06T12:20'])\n",
    "\n",
    "from dateutil.parser import parse\n",
    "ser_ts = ser_dat2.map(lambda x:parse(x))\n",
    "\n",
    "print(\"Date\", ser_ts.dt.day.tolist())\n",
    "\n",
    "print(\"Week number\", ser_ts.dt.weekofyear.tolist())\n",
    "\n",
    "print(\"Day of year\", ser_ts.dt.dayofyear.tolist())\n",
    "\n",
    "print(\"Day of week\", ser_ts.dt.weekday_name.tolist())"
   ]
  },
  {
   "cell_type": "markdown",
   "metadata": {},
   "source": [
    "## Exercise 23\n",
    "\n",
    "How to convert year + month string to date which corresponds tonthe 4th of each month"
   ]
  },
  {
   "cell_type": "code",
   "execution_count": 42,
   "metadata": {},
   "outputs": [
    {
     "name": "stdout",
     "output_type": "stream",
     "text": [
      "0    04 Jan 2018\n",
      "1    04 Feb 2019\n",
      "2    04 Mar 2020\n",
      "dtype: object\n"
     ]
    }
   ],
   "source": [
    "ser_ym = pd.Series(['Jan 2018', 'Feb 2019', 'Mar 2020'])\n",
    "\n",
    "# Solution2\n",
    "ser_ymd = ser_ym.map(lambda x: '04 ' + x)\n",
    "print(ser_ymd)\n"
   ]
  },
  {
   "cell_type": "code",
   "execution_count": 43,
   "metadata": {},
   "outputs": [
    {
     "data": {
      "text/plain": [
       "['2018-01-04', '2019-02-04', '2020-03-04']"
      ]
     },
     "execution_count": 43,
     "metadata": {},
     "output_type": "execute_result"
    }
   ],
   "source": [
    "# Solution 1\n",
    "from dateutil.parser import parse\n",
    "# Parse the date\n",
    "ser_ts = ser_ym.map(lambda x: parse(x))\n",
    "\n",
    "# Construct date string with date as 4\n",
    "ser_datestr = ser_ts.dt.year.astype('str') + '-' + ser_ts.dt.month.astype('str') + '-' + '04'\n",
    "\n",
    "# Format it.\n",
    "[parse(i).strftime('%Y-%m-%d') for i in ser_datestr]"
   ]
  },
  {
   "cell_type": "markdown",
   "metadata": {},
   "source": [
    "## Exercise 24\n",
    "how to filter words, that contain at least 2 vowles from a series"
   ]
  },
  {
   "cell_type": "code",
   "execution_count": 44,
   "metadata": {},
   "outputs": [
    {
     "name": "stdout",
     "output_type": "stream",
     "text": [
      "0    False\n",
      "1     True\n",
      "2    False\n",
      "3     True\n",
      "dtype: bool\n"
     ]
    },
    {
     "data": {
      "text/plain": [
       "1     Orange\n",
       "3    Cherrie\n",
       "dtype: object"
      ]
     },
     "execution_count": 44,
     "metadata": {},
     "output_type": "execute_result"
    }
   ],
   "source": [
    "ser_fruits = pd.Series([ \"Apple\", \"Orange\", \"Plumb\", \"Cherrie\"]) \n",
    "\n",
    "from collections import Counter\n",
    "ser_2v = ser_fruits.map(lambda x: sum([Counter(x.lower()).get(i, 0) for i in list('aeiou')])>= 3)\n",
    "print(ser_2v)\n",
    "\n",
    "ser_fruits[ser_2v]\n"
   ]
  },
  {
   "cell_type": "markdown",
   "metadata": {},
   "source": [
    "## Exercise 25\n",
    "show to filter out valid emails from a series?"
   ]
  },
  {
   "cell_type": "code",
   "execution_count": 45,
   "metadata": {},
   "outputs": [
    {
     "name": "stdout",
     "output_type": "stream",
     "text": [
      "0    False\n",
      "1     True\n",
      "2     True\n",
      "3     True\n",
      "dtype: bool\n"
     ]
    }
   ],
   "source": [
    "mails = pd.Series([\"buying books at amazon.com\", \"rameses@egpt.com\", \"matt@t.co\", \"narendra@modi.com\"])\n",
    "                   \n",
    "pattern ='[A-Za-z0-9._%+-]+@[A-Za-z0-9.-]+\\\\.[A-Za-z]{2,4}'\n",
    "\n",
    "# solution 1\n",
    "# as a series of strings\n",
    "import re\n",
    "\n",
    "mask = mails.map(lambda x: bool(re.match(pattern, x)))\n",
    "print(mask)\n",
    "# print(mails[mask])"
   ]
  },
  {
   "cell_type": "markdown",
   "metadata": {},
   "source": [
    "# solution 2 \n",
    "# as a series of of list\n",
    "\n",
    "mails.str.findall(pattern, flags = re.IGNORECASE)"
   ]
  },
  {
   "cell_type": "code",
   "execution_count": 46,
   "metadata": {},
   "outputs": [
    {
     "data": {
      "text/plain": [
       "['rameses@egpt.com', 'matt@t.co', 'narendra@modi.com']"
      ]
     },
     "execution_count": 46,
     "metadata": {},
     "output_type": "execute_result"
    }
   ],
   "source": [
    "# Solution3\n",
    "# as a list\n",
    "[x[0] for x in [re.findall(pattern, email) for email in mails] if len(x) > 0]"
   ]
  },
  {
   "cell_type": "markdown",
   "metadata": {},
   "source": [
    "## Exercise 26\n",
    "how to get the mean of a series grouped by another series?"
   ]
  },
  {
   "cell_type": "code",
   "execution_count": 47,
   "metadata": {},
   "outputs": [
    {
     "name": "stdout",
     "output_type": "stream",
     "text": [
      "[1.0, 2.0, 3.0, 4.0, 5.0, 6.0, 7.0, 8.0, 9.0, 10.0]\n",
      "['carrot', 'carrot', 'carrot', 'carrot', 'banana', 'carrot', 'banana', 'apple', 'carrot', 'apple']\n"
     ]
    }
   ],
   "source": [
    "fruit = pd.Series(np.random.choice(['apple', 'banana', 'carrot'], 10))\n",
    "weights = pd.Series(np.linspace(1, 10, 10))\n",
    "print(weights.tolist())\n",
    "print(fruit.tolist())\n",
    "#> [1.0, 2.0, 3.0, 4.0, 5.0, 6.0, 7.0, 8.0, 9.0, 10.0]\n",
    "#> ['banana', 'carrot', 'apple', 'carrot', 'carrot', 'apple', 'banana', 'carrot', 'apple', 'carrot']"
   ]
  },
  {
   "cell_type": "code",
   "execution_count": 48,
   "metadata": {},
   "outputs": [
    {
     "name": "stdout",
     "output_type": "stream",
     "text": [
      "('apple', 7     8.0\n",
      "9    10.0\n",
      "dtype: float64)\n",
      "('banana', 4    5.0\n",
      "6    7.0\n",
      "dtype: float64)\n",
      "('carrot', 0    1.0\n",
      "1    2.0\n",
      "2    3.0\n",
      "3    4.0\n",
      "5    6.0\n",
      "8    9.0\n",
      "dtype: float64)\n"
     ]
    }
   ],
   "source": [
    "# Solution\n",
    "\n",
    "results1 = weights.groupby(fruit)\n",
    "for i in results1:\n",
    "    print(i)\n"
   ]
  },
  {
   "cell_type": "code",
   "execution_count": 49,
   "metadata": {},
   "outputs": [
    {
     "name": "stdout",
     "output_type": "stream",
     "text": [
      "apple     9.000000\n",
      "banana    6.000000\n",
      "carrot    4.166667\n",
      "dtype: float64\n"
     ]
    }
   ],
   "source": [
    "results2 = results1.mean()\n",
    "print(results2)"
   ]
  },
  {
   "cell_type": "code",
   "execution_count": 50,
   "metadata": {},
   "outputs": [
    {
     "name": "stdout",
     "output_type": "stream",
     "text": [
      "apple     2\n",
      "banana    2\n",
      "carrot    6\n",
      "dtype: int64\n"
     ]
    }
   ],
   "source": [
    "results3 = results1.count()\n",
    "print(results3)"
   ]
  },
  {
   "cell_type": "markdown",
   "metadata": {},
   "source": [
    "## Exercise 27\n",
    "Compute the euclidian distance between 2 series."
   ]
  },
  {
   "cell_type": "code",
   "execution_count": 51,
   "metadata": {},
   "outputs": [],
   "source": [
    "p = pd.Series([1, 2, 3, 4, 5, 6, 7, 8, 9, 10])\n",
    "q = pd.Series([10, 9, 8, 7, 6, 5, 4, 3, 2, 1])"
   ]
  },
  {
   "cell_type": "code",
   "execution_count": 52,
   "metadata": {},
   "outputs": [
    {
     "name": "stdout",
     "output_type": "stream",
     "text": [
      "0    81\n",
      "1    49\n",
      "2    25\n",
      "3     9\n",
      "4     1\n",
      "5     1\n",
      "6     9\n",
      "7    25\n",
      "8    49\n",
      "9    81\n",
      "dtype: int64\n"
     ]
    }
   ],
   "source": [
    "ser_distance = (p - q) **2\n",
    "print(ser_distance)"
   ]
  },
  {
   "cell_type": "code",
   "execution_count": 53,
   "metadata": {},
   "outputs": [
    {
     "name": "stdout",
     "output_type": "stream",
     "text": [
      "18.16590212458495\n"
     ]
    }
   ],
   "source": [
    "# Solution 1\n",
    "distance1 = sum((p-q)**2)**.5\n",
    "print(distance1)"
   ]
  },
  {
   "cell_type": "code",
   "execution_count": 54,
   "metadata": {},
   "outputs": [
    {
     "name": "stdout",
     "output_type": "stream",
     "text": [
      "18.16590212458495\n"
     ]
    }
   ],
   "source": [
    "# Solution 2\n",
    "distance2 = np.linalg.norm(p-q)\n",
    "print(distance2)"
   ]
  },
  {
   "cell_type": "markdown",
   "metadata": {},
   "source": [
    "## Exercise 28\n",
    "Finding all local maxima of a series."
   ]
  },
  {
   "cell_type": "code",
   "execution_count": 55,
   "metadata": {},
   "outputs": [
    {
     "name": "stdout",
     "output_type": "stream",
     "text": [
      "[-2  2  0  0 -2  2 -2]\n",
      "<class 'numpy.ndarray'>\n"
     ]
    }
   ],
   "source": [
    "ser_max = pd.Series([2, 19, 3, 4, 9, 10, 2, 7, 3])\n",
    "\n",
    "dd = np.diff(np.sign(np.diff(ser_max)))\n",
    "print(dd)\n",
    "print(type(dd))"
   ]
  },
  {
   "cell_type": "code",
   "execution_count": 56,
   "metadata": {},
   "outputs": [
    {
     "name": "stdout",
     "output_type": "stream",
     "text": [
      "(0, -2)\n",
      "(1, 2)\n",
      "(2, 0)\n",
      "(3, 0)\n",
      "(4, -2)\n",
      "(5, 2)\n",
      "(6, -2)\n"
     ]
    }
   ],
   "source": [
    "for i in enumerate(dd):\n",
    "    print(i)"
   ]
  },
  {
   "cell_type": "code",
   "execution_count": 57,
   "metadata": {},
   "outputs": [
    {
     "name": "stdout",
     "output_type": "stream",
     "text": [
      "[1 5 7]\n"
     ]
    }
   ],
   "source": [
    "peak_locs = np.where(dd == -2)[0] + 1\n",
    "print(peak_locs)"
   ]
  },
  {
   "cell_type": "markdown",
   "metadata": {},
   "source": [
    "## Exercise 29\n",
    "How to replace missing spaces in a string with the least frequent character"
   ]
  },
  {
   "cell_type": "code",
   "execution_count": 58,
   "metadata": {},
   "outputs": [
    {
     "name": "stdout",
     "output_type": "stream",
     "text": [
      "d    4\n",
      "     3\n",
      "b    3\n",
      "e    3\n",
      "a    2\n",
      "g    1\n",
      "c    1\n",
      "dtype: int64\n"
     ]
    }
   ],
   "source": [
    "my_str = 'dbc deb abed gade'\n",
    "\n",
    "ser_my_str = pd.Series(list(my_str))\n",
    "\n",
    "frequency = ser_my_str.value_counts()\n",
    "print(frequency)"
   ]
  },
  {
   "cell_type": "code",
   "execution_count": 59,
   "metadata": {},
   "outputs": [
    {
     "name": "stdout",
     "output_type": "stream",
     "text": [
      "c\n"
     ]
    }
   ],
   "source": [
    "print(frequency.dropna().index[-1])"
   ]
  },
  {
   "cell_type": "code",
   "execution_count": 60,
   "metadata": {},
   "outputs": [],
   "source": [
    "least_frequ = frequency.dropna().index[-1]"
   ]
  },
  {
   "cell_type": "code",
   "execution_count": 61,
   "metadata": {},
   "outputs": [
    {
     "data": {
      "text/plain": [
       "'dbccdebcabedcgade'"
      ]
     },
     "execution_count": 61,
     "metadata": {},
     "output_type": "execute_result"
    }
   ],
   "source": [
    "\"\".join(ser_my_str.replace(' ', least_frequ))"
   ]
  },
  {
   "cell_type": "markdown",
   "metadata": {},
   "source": [
    "## Exercise 30\n",
    "How to create a time series starting \"2000-01-01\" and 10 weekends (saturdays) after that having ranom numbers as values."
   ]
  },
  {
   "cell_type": "code",
   "execution_count": 62,
   "metadata": {},
   "outputs": [
    {
     "name": "stdout",
     "output_type": "stream",
     "text": [
      "2000-01-01    7\n",
      "2000-01-08    4\n",
      "2000-01-15    8\n",
      "2000-01-22    5\n",
      "2000-01-29    7\n",
      "2000-02-05    3\n",
      "2000-02-12    7\n",
      "2000-02-19    8\n",
      "2000-02-26    5\n",
      "2000-03-04    4\n",
      "Freq: W-SAT, dtype: int64\n"
     ]
    }
   ],
   "source": [
    "np.random.seed(42)\n",
    "ser_time = pd.Series(np.random.randint(1, 10, 10), pd.date_range(\"2000-01-01\", periods = 10, freq = \"W-SAT\"))\n",
    "print(ser_time)"
   ]
  },
  {
   "cell_type": "markdown",
   "metadata": {},
   "source": [
    "## Exercise 30\n",
    "How to fill intermittent time series with values of previous non-missing dates and all dates show up"
   ]
  },
  {
   "cell_type": "code",
   "execution_count": 63,
   "metadata": {},
   "outputs": [
    {
     "name": "stdout",
     "output_type": "stream",
     "text": [
      "2000-01-01     1.0\n",
      "2000-01-03    10.0\n",
      "2000-01-06     3.0\n",
      "2000-01-08     NaN\n",
      "dtype: float64\n"
     ]
    }
   ],
   "source": [
    "ser_miss= pd.Series([1,10,3, np.nan], index=pd.to_datetime(['2000-01-01', '2000-01-03', '2000-01-06', '2000-01-08']))\n",
    "print(ser_miss)"
   ]
  },
  {
   "cell_type": "code",
   "execution_count": 64,
   "metadata": {},
   "outputs": [
    {
     "name": "stdout",
     "output_type": "stream",
     "text": [
      "2000-01-01     1.0\n",
      "2000-01-02     1.0\n",
      "2000-01-03    10.0\n",
      "2000-01-04    10.0\n",
      "2000-01-05    10.0\n",
      "2000-01-06     3.0\n",
      "2000-01-07     3.0\n",
      "2000-01-08     NaN\n",
      "Freq: D, dtype: float64\n"
     ]
    }
   ],
   "source": [
    "ser_complete1 = ser_miss.resample('D').ffill()\n",
    "print(ser_complete1)"
   ]
  },
  {
   "cell_type": "code",
   "execution_count": 65,
   "metadata": {},
   "outputs": [
    {
     "name": "stdout",
     "output_type": "stream",
     "text": [
      "2000-01-01     1.0\n",
      "2000-01-02    10.0\n",
      "2000-01-03    10.0\n",
      "2000-01-04     3.0\n",
      "2000-01-05     3.0\n",
      "2000-01-06     3.0\n",
      "2000-01-07     NaN\n",
      "2000-01-08     NaN\n",
      "Freq: D, dtype: float64\n"
     ]
    }
   ],
   "source": [
    "ser_complete2 = ser_miss.resample('D').bfill()\n",
    "print(ser_complete2)"
   ]
  },
  {
   "cell_type": "code",
   "execution_count": 66,
   "metadata": {},
   "outputs": [
    {
     "name": "stdout",
     "output_type": "stream",
     "text": [
      "2000-01-01     1.0\n",
      "2000-01-02    10.0\n",
      "2000-01-03    10.0\n",
      "2000-01-04     3.0\n",
      "2000-01-05     3.0\n",
      "2000-01-06     3.0\n",
      "2000-01-07     3.0\n",
      "2000-01-08     3.0\n",
      "Freq: D, dtype: float64\n"
     ]
    }
   ],
   "source": [
    "ser_complete3 = ser_miss.resample('D').bfill().ffill()\n",
    "print(ser_complete3)"
   ]
  },
  {
   "cell_type": "markdown",
   "metadata": {},
   "source": [
    "##  Exercise 32\n",
    "How to compute autocorrelations for the first 10 lages of the series. Find the largest correlation"
   ]
  },
  {
   "cell_type": "code",
   "execution_count": 67,
   "metadata": {},
   "outputs": [
    {
     "name": "stdout",
     "output_type": "stream",
     "text": [
      "0      5.967142\n",
      "1      0.617357\n",
      "2      9.476885\n",
      "3     19.230299\n",
      "4      2.658466\n",
      "5      3.658630\n",
      "6     22.792128\n",
      "7     15.674347\n",
      "8      4.305256\n",
      "9     15.425600\n",
      "10     6.365823\n",
      "11     7.342702\n",
      "12    15.419623\n",
      "13    -5.132802\n",
      "14    -2.249178\n",
      "15    10.377125\n",
      "16     6.871689\n",
      "17    21.142473\n",
      "18     9.919759\n",
      "19     5.876963\n",
      "dtype: float64\n"
     ]
    }
   ],
   "source": [
    "np.random.seed(42)\n",
    "ser_corr = pd.Series(np.arange(20) + np.random.normal(1, 10, 20))\n",
    "print(ser_corr)"
   ]
  },
  {
   "cell_type": "code",
   "execution_count": 68,
   "metadata": {},
   "outputs": [
    {
     "name": "stdout",
     "output_type": "stream",
     "text": [
      "[-0.04, -0.36, 0.24, -0.23, -0.06, 0.1, -0.59, -0.13, 0.33, -0.03]\n"
     ]
    }
   ],
   "source": [
    "autocorrelations = [ser_corr.autocorr(i).round(2) for i in range(11)]\n",
    "print(autocorrelations[1:])"
   ]
  },
  {
   "cell_type": "code",
   "execution_count": 69,
   "metadata": {},
   "outputs": [
    {
     "name": "stdout",
     "output_type": "stream",
     "text": [
      "Lag having highest autocorrelation 7\n"
     ]
    }
   ],
   "source": [
    "print('Lag having highest autocorrelation', np.argmax(np.abs(autocorrelations[1:]))+1)"
   ]
  },
  {
   "cell_type": "markdown",
   "metadata": {},
   "source": [
    "## Exercise 33\n",
    "How to import only every n-th row from a csv to create a dataframe\n",
    "Import only every 50th record from Boston housing dataset\n",
    "### Observation \n",
    "After reading in the for loop from df, df is empty then. I have to load it again to use it in the second solution.\n",
    "This is very strange. I did not expect this. "
   ]
  },
  {
   "cell_type": "code",
   "execution_count": 70,
   "metadata": {},
   "outputs": [
    {
     "name": "stdout",
     "output_type": "stream",
     "text": [
      "<pandas.io.parsers.TextFileReader object at 0x13e537b00>\n"
     ]
    }
   ],
   "source": [
    "df = pd.read_csv('https://raw.githubusercontent.com/selva86/datasets/master/BostonHousing.csv', chunksize=50)\n",
    "print(df)"
   ]
  },
  {
   "cell_type": "code",
   "execution_count": 71,
   "metadata": {},
   "outputs": [
    {
     "name": "stdout",
     "output_type": "stream",
     "text": [
      "       age       b  chas      crim     dis  indus  lstat  medv    nox  \\\n",
      "0     65.2  396.90   0.0   0.00632  4.0900   2.31   4.98  24.0  0.538   \n",
      "50    45.7  395.56   0.0   0.08873  6.8147   5.64  13.45  19.7  0.439   \n",
      "100   79.9  394.76   0.0   0.14866  2.7778   8.56   9.42  27.5  0.520   \n",
      "150   97.3  372.80   0.0   1.65660  1.6180  19.58  14.10  21.5  0.871   \n",
      "200   13.9  384.30   0.0   0.01778  7.6534   1.47   4.45  32.9  0.403   \n",
      "250   13.0  396.28   0.0   0.14030  7.3967   5.86   5.90  24.4  0.431   \n",
      "300   47.4  390.86   0.0   0.04417  7.8278   2.24   6.07  24.8  0.400   \n",
      "350   44.4  396.90   0.0   0.06211  8.7921   1.25   5.98  22.9  0.429   \n",
      "400  100.0  396.90   0.0  25.04610  1.5888  18.10  26.77   5.6  0.693   \n",
      "450   92.6    0.32   0.0   6.71772  2.3236  18.10  17.44  13.4  0.713   \n",
      "500   79.7  396.90   0.0   0.22438  2.4982   9.69  14.33  16.8  0.585   \n",
      "\n",
      "     ptratio   rad     rm    tax    zn  \n",
      "0       15.3   1.0  6.575  296.0  18.0  \n",
      "50      16.8   4.0  5.963  243.0  21.0  \n",
      "100     20.9   5.0  6.727  384.0   0.0  \n",
      "150     14.7   5.0  6.122  403.0   0.0  \n",
      "200     17.0   3.0  7.135  402.0  95.0  \n",
      "250     19.1   7.0  6.487  330.0  22.0  \n",
      "300     14.8   5.0  6.871  358.0  70.0  \n",
      "350     19.7   1.0  6.490  335.0  40.0  \n",
      "400     20.2  24.0  5.987  666.0   0.0  \n",
      "450     20.2  24.0  6.749  666.0   0.0  \n",
      "500     19.2   6.0  6.027  391.0   0.0  \n"
     ]
    }
   ],
   "source": [
    "# Solution 1\n",
    "\n",
    "df2 = pd.DataFrame()\n",
    "for chunk in df:\n",
    "    df2 = df2.append(chunk.iloc[0, :])\n",
    "print(df2)"
   ]
  },
  {
   "cell_type": "code",
   "execution_count": 72,
   "metadata": {},
   "outputs": [
    {
     "name": "stdout",
     "output_type": "stream",
     "text": [
      "0 crim         0.02731\n",
      "zn           0.00000\n",
      "indus        7.07000\n",
      "chas         0.00000\n",
      "nox          0.46900\n",
      "rm           6.42100\n",
      "age         78.90000\n",
      "dis          4.96710\n",
      "rad          2.00000\n",
      "tax        242.00000\n",
      "ptratio     17.80000\n",
      "b          396.90000\n",
      "lstat        9.14000\n",
      "medv        21.60000\n",
      "Name: 1, dtype: float64\n",
      "1 crim         0.04337\n",
      "zn          21.00000\n",
      "indus        5.64000\n",
      "chas         0.00000\n",
      "nox          0.43900\n",
      "rm           6.11500\n",
      "age         63.00000\n",
      "dis          6.81470\n",
      "rad          4.00000\n",
      "tax        243.00000\n",
      "ptratio     16.80000\n",
      "b          393.97000\n",
      "lstat        9.43000\n",
      "medv        20.50000\n",
      "Name: 51, dtype: float64\n",
      "2 crim         0.11432\n",
      "zn           0.00000\n",
      "indus        8.56000\n",
      "chas         0.00000\n",
      "nox          0.52000\n",
      "rm           6.78100\n",
      "age         71.30000\n",
      "dis          2.85610\n",
      "rad          5.00000\n",
      "tax        384.00000\n",
      "ptratio     20.90000\n",
      "b          395.58000\n",
      "lstat        7.67000\n",
      "medv        26.50000\n",
      "Name: 101, dtype: float64\n",
      "3 crim         1.49632\n",
      "zn           0.00000\n",
      "indus       19.58000\n",
      "chas         0.00000\n",
      "nox          0.87100\n",
      "rm           5.40400\n",
      "age        100.00000\n",
      "dis          1.59160\n",
      "rad          5.00000\n",
      "tax        403.00000\n",
      "ptratio     14.70000\n",
      "b          341.60000\n",
      "lstat       13.28000\n",
      "medv        19.60000\n",
      "Name: 151, dtype: float64\n",
      "4 crim         0.03445\n",
      "zn          82.50000\n",
      "indus        2.03000\n",
      "chas         0.00000\n",
      "nox          0.41500\n",
      "rm           6.16200\n",
      "age         38.40000\n",
      "dis          6.27000\n",
      "rad          2.00000\n",
      "tax        348.00000\n",
      "ptratio     14.70000\n",
      "b          393.77000\n",
      "lstat        7.43000\n",
      "medv        24.10000\n",
      "Name: 201, dtype: float64\n",
      "5 crim         0.21409\n",
      "zn          22.00000\n",
      "indus        5.86000\n",
      "chas         0.00000\n",
      "nox          0.43100\n",
      "rm           6.43800\n",
      "age          8.90000\n",
      "dis          7.39670\n",
      "rad          7.00000\n",
      "tax        330.00000\n",
      "ptratio     19.10000\n",
      "b          377.07000\n",
      "lstat        3.59000\n",
      "medv        24.80000\n",
      "Name: 251, dtype: float64\n",
      "6 crim         0.03537\n",
      "zn          34.00000\n",
      "indus        6.09000\n",
      "chas         0.00000\n",
      "nox          0.43300\n",
      "rm           6.59000\n",
      "age         40.40000\n",
      "dis          5.49170\n",
      "rad          7.00000\n",
      "tax        329.00000\n",
      "ptratio     16.10000\n",
      "b          395.75000\n",
      "lstat        9.50000\n",
      "medv        22.00000\n",
      "Name: 301, dtype: float64\n",
      "7 crim         0.0795\n",
      "zn          60.0000\n",
      "indus        1.6900\n",
      "chas         0.0000\n",
      "nox          0.4110\n",
      "rm           6.5790\n",
      "age         35.9000\n",
      "dis         10.7103\n",
      "rad          4.0000\n",
      "tax        411.0000\n",
      "ptratio     18.3000\n",
      "b          370.7800\n",
      "lstat        5.4900\n",
      "medv        24.1000\n",
      "Name: 351, dtype: float64\n",
      "8 crim        14.2362\n",
      "zn           0.0000\n",
      "indus       18.1000\n",
      "chas         0.0000\n",
      "nox          0.6930\n",
      "rm           6.3430\n",
      "age        100.0000\n",
      "dis          1.5741\n",
      "rad         24.0000\n",
      "tax        666.0000\n",
      "ptratio     20.2000\n",
      "b          396.9000\n",
      "lstat       20.3200\n",
      "medv         7.2000\n",
      "Name: 401, dtype: float64\n",
      "9 crim         5.44114\n",
      "zn           0.00000\n",
      "indus       18.10000\n",
      "chas         0.00000\n",
      "nox          0.71300\n",
      "rm           6.65500\n",
      "age         98.20000\n",
      "dis          2.35520\n",
      "rad         24.00000\n",
      "tax        666.00000\n",
      "ptratio     20.20000\n",
      "b          355.29000\n",
      "lstat       17.73000\n",
      "medv        15.20000\n",
      "Name: 451, dtype: float64\n",
      "10 crim         0.06263\n",
      "zn           0.00000\n",
      "indus       11.93000\n",
      "chas         0.00000\n",
      "nox          0.57300\n",
      "rm           6.59300\n",
      "age         69.10000\n",
      "dis          2.47860\n",
      "rad          1.00000\n",
      "tax        273.00000\n",
      "ptratio     21.00000\n",
      "b          391.99000\n",
      "lstat        9.67000\n",
      "medv        22.40000\n",
      "Name: 501, dtype: float64\n"
     ]
    }
   ],
   "source": [
    "df = pd.read_csv('https://raw.githubusercontent.com/selva86/datasets/master/BostonHousing.csv', chunksize=50)\n",
    "i = 0\n",
    "for chunk in df:\n",
    "    if chunk is None:\n",
    "        print(i, 'Chunk is empty') #, #chunk.iloc[0])\n",
    "    else:\n",
    "        print(i, chunk.iloc[1, :])\n",
    "    i += 1"
   ]
  },
  {
   "cell_type": "code",
   "execution_count": 73,
   "metadata": {},
   "outputs": [
    {
     "name": "stdout",
     "output_type": "stream",
     "text": [
      "<pandas.io.parsers.TextFileReader object at 0x13e537eb8>\n"
     ]
    }
   ],
   "source": [
    "df = pd.read_csv('https://raw.githubusercontent.com/selva86/datasets/master/BostonHousing.csv', chunksize=50)\n",
    "print(df)\n",
    "\n",
    "df2_1 = pd.concat([chunk.iloc[0, :] for chunk in df], axis = 1)"
   ]
  },
  {
   "cell_type": "code",
   "execution_count": 74,
   "metadata": {},
   "outputs": [
    {
     "name": "stdout",
     "output_type": "stream",
     "text": [
      "               0          50         100       150        200       250  \\\n",
      "crim       0.00632    0.08873    0.14866    1.6566    0.01778    0.1403   \n",
      "zn        18.00000   21.00000    0.00000    0.0000   95.00000   22.0000   \n",
      "indus      2.31000    5.64000    8.56000   19.5800    1.47000    5.8600   \n",
      "chas       0.00000    0.00000    0.00000    0.0000    0.00000    0.0000   \n",
      "nox        0.53800    0.43900    0.52000    0.8710    0.40300    0.4310   \n",
      "rm         6.57500    5.96300    6.72700    6.1220    7.13500    6.4870   \n",
      "age       65.20000   45.70000   79.90000   97.3000   13.90000   13.0000   \n",
      "dis        4.09000    6.81470    2.77780    1.6180    7.65340    7.3967   \n",
      "rad        1.00000    4.00000    5.00000    5.0000    3.00000    7.0000   \n",
      "tax      296.00000  243.00000  384.00000  403.0000  402.00000  330.0000   \n",
      "ptratio   15.30000   16.80000   20.90000   14.7000   17.00000   19.1000   \n",
      "b        396.90000  395.56000  394.76000  372.8000  384.30000  396.2800   \n",
      "lstat      4.98000   13.45000    9.42000   14.1000    4.45000    5.9000   \n",
      "medv      24.00000   19.70000   27.50000   21.5000   32.90000   24.4000   \n",
      "\n",
      "               300        350       400        450        500  \n",
      "crim       0.04417    0.06211   25.0461    6.71772    0.22438  \n",
      "zn        70.00000   40.00000    0.0000    0.00000    0.00000  \n",
      "indus      2.24000    1.25000   18.1000   18.10000    9.69000  \n",
      "chas       0.00000    0.00000    0.0000    0.00000    0.00000  \n",
      "nox        0.40000    0.42900    0.6930    0.71300    0.58500  \n",
      "rm         6.87100    6.49000    5.9870    6.74900    6.02700  \n",
      "age       47.40000   44.40000  100.0000   92.60000   79.70000  \n",
      "dis        7.82780    8.79210    1.5888    2.32360    2.49820  \n",
      "rad        5.00000    1.00000   24.0000   24.00000    6.00000  \n",
      "tax      358.00000  335.00000  666.0000  666.00000  391.00000  \n",
      "ptratio   14.80000   19.70000   20.2000   20.20000   19.20000  \n",
      "b        390.86000  396.90000  396.9000    0.32000  396.90000  \n",
      "lstat      6.07000    5.98000   26.7700   17.44000   14.33000  \n",
      "medv      24.80000   22.90000    5.6000   13.40000   16.80000  \n"
     ]
    }
   ],
   "source": [
    "print(df2_1)"
   ]
  },
  {
   "cell_type": "code",
   "execution_count": 75,
   "metadata": {},
   "outputs": [
    {
     "name": "stdout",
     "output_type": "stream",
     "text": [
      "         crim    zn  indus  chas    nox     rm    age     dis   rad    tax  \\\n",
      "0     0.00632  18.0   2.31   0.0  0.538  6.575   65.2  4.0900   1.0  296.0   \n",
      "50    0.08873  21.0   5.64   0.0  0.439  5.963   45.7  6.8147   4.0  243.0   \n",
      "100   0.14866   0.0   8.56   0.0  0.520  6.727   79.9  2.7778   5.0  384.0   \n",
      "150   1.65660   0.0  19.58   0.0  0.871  6.122   97.3  1.6180   5.0  403.0   \n",
      "200   0.01778  95.0   1.47   0.0  0.403  7.135   13.9  7.6534   3.0  402.0   \n",
      "250   0.14030  22.0   5.86   0.0  0.431  6.487   13.0  7.3967   7.0  330.0   \n",
      "300   0.04417  70.0   2.24   0.0  0.400  6.871   47.4  7.8278   5.0  358.0   \n",
      "350   0.06211  40.0   1.25   0.0  0.429  6.490   44.4  8.7921   1.0  335.0   \n",
      "400  25.04610   0.0  18.10   0.0  0.693  5.987  100.0  1.5888  24.0  666.0   \n",
      "450   6.71772   0.0  18.10   0.0  0.713  6.749   92.6  2.3236  24.0  666.0   \n",
      "500   0.22438   0.0   9.69   0.0  0.585  6.027   79.7  2.4982   6.0  391.0   \n",
      "\n",
      "     ptratio       b  lstat  medv  \n",
      "0       15.3  396.90   4.98  24.0  \n",
      "50      16.8  395.56  13.45  19.7  \n",
      "100     20.9  394.76   9.42  27.5  \n",
      "150     14.7  372.80  14.10  21.5  \n",
      "200     17.0  384.30   4.45  32.9  \n",
      "250     19.1  396.28   5.90  24.4  \n",
      "300     14.8  390.86   6.07  24.8  \n",
      "350     19.7  396.90   5.98  22.9  \n",
      "400     20.2  396.90  26.77   5.6  \n",
      "450     20.2    0.32  17.44  13.4  \n",
      "500     19.2  396.90  14.33  16.8  \n"
     ]
    }
   ],
   "source": [
    "df2_1 = df2_1.transpose()\n",
    "print(df2_1)"
   ]
  }
 ],
 "metadata": {
  "kernelspec": {
   "display_name": "Python 3",
   "language": "python",
   "name": "python3"
  },
  "language_info": {
   "codemirror_mode": {
    "name": "ipython",
    "version": 3
   },
   "file_extension": ".py",
   "mimetype": "text/x-python",
   "name": "python",
   "nbconvert_exporter": "python",
   "pygments_lexer": "ipython3",
   "version": "3.7.1"
  }
 },
 "nbformat": 4,
 "nbformat_minor": 2
}
